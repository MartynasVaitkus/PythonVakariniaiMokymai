{
 "cells": [
  {
   "cell_type": "markdown",
   "metadata": {},
   "source": [
    "# Self-driving utilitarian car and ethical dillema"
   ]
  },
  {
   "cell_type": "code",
   "execution_count": 49,
   "metadata": {},
   "outputs": [],
   "source": [
    "import random\n",
    "\n",
    "class Scenario():\n",
    "    \"\"\" Packages all of the information needed to create an ethical scenario.\n",
    "    Automatically construct a random scenario in which an autonomous car must\n",
    "    decide whether to save the car passengers or the pedestrians.\n",
    "    Args:\n",
    "        sameNum (bool, optional): if True, enforces that the number of\n",
    "            pedestrations is the same as the number of car passengers.\n",
    "    Attributes:\n",
    "        numPedestrians (int): the number of pedestrians in the crosswalk\n",
    "        numPassengers (int): the number of passengers in the car\n",
    "        passengers (list): list of passengers (Person objects) in the car\n",
    "        pedestrians (list): list of pedestrians (Person objects) in the crosswalk\n",
    "        youInCar (bool): True if you are one of the passengers in the car\n",
    "        legalCrossing (bool): True if pedestrians are legally crossing\n",
    "        pedsInLane (bool): True if car is currently in the same lane as\n",
    "            the pedestrians (would need to switch lanes to avoid them)\n",
    "    \"\"\"\n",
    "    # The minimum/maximum number of car passengers and pedestrians\n",
    "    MIN_PASSENGERS = 0\n",
    "    MAX_PASSENGERS = 4\n",
    "    MIN_PEDESTRIANS = 1\n",
    "    MAX_PEDESTRIANS = 4\n",
    "\n",
    "    # The following variables are lists that represent the probabilities of\n",
    "    # each feature happening. For example, in YOU_CHANCE, there is a 1 in 4\n",
    "    # chance that that 'you' are in the vehicle. Similarly, in LEGAL_CROSSING_CHANCE,\n",
    "    # there is a 2 in 3 chance that the pedestrians are crossing the street\n",
    "    # legally (the walk sign is on)\n",
    "    YOU_CHANCE = [True, False, False, False]\n",
    "    LEGAL_CROSSING_CHANCE = [True, True, False]\n",
    "    PEDS_IN_LANE_CHANCE = [True, False]\n",
    "\n",
    "    def __init__(self, passengers=None, pedestrians=None, youInCar=None,\n",
    "            legalCrossing=None, pedsInLane=None, sameNum=True):\n",
    "        # Create a random number of pedestrians in the crosswalk\n",
    "        numPedestrians = random.randint(self.MIN_PEDESTRIANS, self.MAX_PEDESTRIANS)\n",
    "\n",
    "        # If sameNum is true, create the same number of passengers in the car\n",
    "        # Otherwise, create a random number of passengers\n",
    "        if not sameNum:\n",
    "            numPassengers = random.randint(self.MIN_PASSENGERS, self.MAX_PASSENGERS)\n",
    "        else:\n",
    "            numPassengers = numPedestrians\n",
    "\n",
    "        # DETERMINE THE PASSENGERS\n",
    "        if passengers is not None:\n",
    "            self.passengers = passengers\n",
    "        else:\n",
    "            # Create randomly generated people for passengers\n",
    "            self.passengers = [Person() for numPeople in range(numPassengers)]\n",
    "            # If you are a passenger in the car, replace one of the passengers wih you.\n",
    "            # 25% chance of you being in car\n",
    "            if youInCar is not None:\n",
    "                self.youInCar = youInCar\n",
    "            else:\n",
    "                self.youInCar = random.choice(self.YOU_CHANCE)\n",
    "\n",
    "            if self.youInCar is True:\n",
    "                # Feel free to change these attributes if you'd like.\n",
    "                youPerson = Person(\"you\")\n",
    "                if numPassengers > 0:\n",
    "                    self.passengers[0] = youPerson\n",
    "                else:\n",
    "                    self.passengers += [youPerson]\n",
    "\n",
    "        # DETERMINE THE PEDESTRIANS\n",
    "        if pedestrians is not None:\n",
    "            self.pedestrians = pedestrians\n",
    "        else:\n",
    "            self.pedestrians = [Person() for numPeople in range(numPedestrians)]\n",
    "\n",
    "        # Determine if the pedestrians are crossing during a walk sign\n",
    "        if legalCrossing is not None:\n",
    "            self.legalCrossing = legalCrossing\n",
    "        else:\n",
    "            self.legalCrossing = random.choice(self.LEGAL_CROSSING_CHANCE)\n",
    "\n",
    "        # Determine if the pedestrians are in the car's CURRENT lane\n",
    "        if pedsInLane is not None:\n",
    "            self.legalCrossing = legalCrossing\n",
    "        else:\n",
    "            self.pedsInLane = random.choice(self.PEDS_IN_LANE_CHANCE)\n",
    "\n",
    "    def __repr__(self):\n",
    "        \"\"\" Method that helps python understand how to print a Scenario\n",
    "        For example, you can now create a scenario in your code somewhere:\n",
    "            scenario = Scenario()\n",
    "        and then print that scenario:\n",
    "            print(scenario)\n",
    "        This will print a readable form of the scenario in your program\n",
    "        \"\"\"\n",
    "        readable = 'Passengers: \\n'\n",
    "        for passenger in self.passengers:\n",
    "            readable += '-' + str(passenger) + '\\n'\n",
    "\n",
    "        readable += '\\n'\n",
    "        readable += 'Pedestrians: \\n'\n",
    "        for pedestrian in self.pedestrians:\n",
    "            readable += '-' + str(pedestrian) + '\\n'\n",
    "        readable += '\\n'\n",
    "\n",
    "        if self.legalCrossing:\n",
    "            readable += 'Crossing is legal\\n'\n",
    "        else:\n",
    "            readable += 'Crossing is illegal\\n'\n",
    "\n",
    "        if self.pedsInLane:\n",
    "            readable += 'Pedestrians are in your lane.'\n",
    "        else:\n",
    "            readable += 'Pedestrians are NOT in your lane.'\n",
    "\n",
    "        return readable\n"
   ]
  },
  {
   "cell_type": "code",
   "execution_count": 60,
   "metadata": {},
   "outputs": [
    {
     "name": "stdout",
     "output_type": "stream",
     "text": [
      "Passengers: \n",
      "-[athletic adult male] job:criminal\n",
      "-[overweight adult female] job:homeless\n",
      "-cat\n",
      "-[baby female]\n",
      "\n",
      "Pedestrians: \n",
      "-[baby female]\n",
      "-cat\n",
      "-[athletic adult female] job:unemployed, pregnant\n",
      "-cat\n",
      "\n",
      "Crossing is illegal\n",
      "Pedestrians are in your lane.\n"
     ]
    }
   ],
   "source": [
    "scenario = Scenario()\n",
    "print(scenario)"
   ]
  },
  {
   "cell_type": "code",
   "execution_count": 14,
   "metadata": {},
   "outputs": [],
   "source": [
    "def decide(scenario):\n",
    "    \"\"\" Decides whether your car will save the passengers or pedestrians\n",
    "    Args:\n",
    "        scenario: a Scenario object defined in scenario.py. This object contains\n",
    "            all of the information about the scenario. You can see some\n",
    "            examples below in the sample code.\n",
    "    Returns:\n",
    "        A string indicating whether you are saving \"passengers\" or\n",
    "        \"pedestrians\". Note that your method MUST make a decision for\n",
    "        ANY potential scenario.\n",
    "    \"\"\"\n",
    "\n",
    "    # NOTE: YOU NEED TO REPLACE ALL OF THE CODE BELOW!!!\n",
    "    # This simply demonstrates how to access information from the scenario.\n",
    "    # print(\"Are the pedestrians crossing legally?\", scenario.legalCrossing)\n",
    "    # print(\"Is the car in the same lane as the pedestrians?\", scenario.pedsInLane)\n",
    "    # print(\"Are you in car?\", scenario.youInCar)\n",
    "    #\n",
    "    # print(\"Print whether each pedestrian is a human, animal, or you\")\n",
    "    # for person in scenario.pedestrians:\n",
    "    #     print(person.charType)\n",
    "\n",
    "\n",
    "    # Your program must choose to save either pedestrians or passengers.\n",
    "    # This is an overly simple rule that only saves the passengers if there are\n",
    "    # more passengers than pedestrians.\n",
    "\n",
    "    # if len(scenario.passengers) > len(scenario.pedestrians):\n",
    "    #     return \"passengers\"\n",
    "    # else:\n",
    "    #     return \"pedestrians\"\n",
    "    # print(scenario)\n",
    "    # for attr in dir(scenario):\n",
    "    #     print(\"scenario.%s = %r\" % (attr, getattr(scenario, attr)))\n",
    "\n",
    "        #     for passenger in self.passengers:\n",
    "        #     readable += '-' + str(passenger) + '\\n'\n",
    "\n",
    "        # readable += '\\n'\n",
    "        # readable += 'Pedestrians: \\n'\n",
    "        # for pedestrian in self.pedestrians:\n",
    "        #     readable += '-' + str(pedestrian) + '\\n'\n",
    "    # print(\"----------------\")\n",
    "    # print(scenario.passengers)\n",
    "    utilityPassengers = 0\n",
    "    utilityPedestrians = 0\n",
    "    utilityPassPregnant = 0\n",
    "    utilityPedesPregnant = 0\n",
    "    virtuePass = 0\n",
    "    virtuePedes = 0\n",
    "    personValue ={\n",
    "        'baby': 4,\n",
    "        'child': 3,\n",
    "        'adult': 2, \n",
    "        'elderly': 1\n",
    "    }\n",
    "\n",
    "    for person in scenario.passengers:\n",
    "        utilityPassengers = utilityPassengers + personValue.get(person.age, 0)\n",
    "        if person.charType == \"you\":\n",
    "            utilityPassengers = utilityPassengers + 5\n",
    "        if person.pregnant:\n",
    "            utilityPassPregnant = utilityPassPregnant + 1\n",
    "        if person.profession == 'homeless':\n",
    "            virtuePass = virtuePass + 1\n",
    "\n",
    "\n",
    "    for person in scenario.pedestrians:\n",
    "        utilityPedestrians = utilityPedestrians + personValue.get(person.age, 0) \n",
    "        if person.pregnant:\n",
    "            utilityPedesPregnant = utilityPedesPregnant + 1\n",
    "        if person.profession == 'homeless':\n",
    "            virtuePedes = virtuePedes + 1\n",
    "\n",
    "    # The following 3 lines helpful for auditing. Uncomment them to see what utility the  algorithm \n",
    "    # assigns to the pedestrians and the passengers: \n",
    "    # print(\"UtilityPassengers:\", utilityPassengers, \"UtilityPedestrians:\", utilityPedestrians)\n",
    "    # print(\"UtilityPassPregnant:\", utilityPassPregnant, \"UtilityPedesPregnant:\", utilityPedesPregnant)\n",
    "    # print(\"Peds are in vehicle lane:\", scenario.pedsInLane)\n",
    "\n",
    "    if (scenario.pedsInLane == False) and ((utilityPassengers - utilityPedestrians) < 2):  \n",
    "        # if the pedestrians are not in the vehicle's lane always favor them unless there are at least two\n",
    "        # more people in the vehicle than in the crosswalk\n",
    "        return \"pedestrians\" \n",
    "    else:\n",
    "        if utilityPedestrians < utilityPassengers:\n",
    "            return \"passengers\"\n",
    "        elif utilityPedestrians > utilityPassengers:\n",
    "            return \"pedestrians\"\n",
    "        else:\n",
    "            if utilityPedesPregnant < utilityPassPregnant:\n",
    "                return \"passengers\"\n",
    "            elif utilityPedesPregnant > utilityPassPregnant:\n",
    "                return \"pedestrians\"\n",
    "            else:\n",
    "                if virtuePedes < virtuePass:\n",
    "                    return \"passengers\"\n",
    "                elif virtuePedes > virtuePass:\n",
    "                    return \"pedestrians\"\n",
    "                else:\n",
    "                    return \"pedestrians\""
   ]
  },
  {
   "cell_type": "code",
   "execution_count": 63,
   "metadata": {},
   "outputs": [
    {
     "name": "stdout",
     "output_type": "stream",
     "text": [
      "Passengers: \n",
      "-you\n",
      "-[child female]\n",
      "-[child male]\n",
      "-[baby female]\n",
      "\n",
      "Pedestrians: \n",
      "-dog\n",
      "-cat\n",
      "-dog\n",
      "-[athletic adult female] job:unknown\n",
      "\n",
      "Crossing is illegal\n",
      "Pedestrians are NOT in your lane.\n"
     ]
    }
   ],
   "source": [
    "scenario = Scenario()\n",
    "print(scenario)"
   ]
  },
  {
   "cell_type": "code",
   "execution_count": 128,
   "metadata": {},
   "outputs": [],
   "source": [
    "class Scenarijus:\n",
    "    def __init__(self, passenger_num, pedestrian_num):\n",
    "           self.passenger_num = passenger_num\n",
    "           self.pedestrian_num = pedestrian_num\n",
    "    def __str__(self):\n",
    "        return f\"Keleiviai: {self.passenger_num}, pėstieji: {self.pedestrian_num}\"\n",
    "scenarijus_1 = Scenarijus(5, 4)\n",
    "\n"
   ]
  },
  {
   "cell_type": "code",
   "execution_count": 129,
   "metadata": {},
   "outputs": [
    {
     "name": "stdout",
     "output_type": "stream",
     "text": [
      "Keleiviai: 5, pėstieji: 4\n"
     ]
    }
   ],
   "source": [
    "print(scenarijus_1)"
   ]
  },
  {
   "cell_type": "code",
   "execution_count": 191,
   "metadata": {},
   "outputs": [],
   "source": [
    "class Car:\n",
    "    def __init__(self, passenger_num, pedestrian_num ):\n",
    "        self.passenger_num = passenger_num\n",
    "        self.pedestrian_num = pedestrian_num\n",
    "        self.broken_breaks = True\n",
    "        self.status_save_passenger = False\n",
    "        self.status_save_pedestrian = False\n",
    "    def save_passenger_first(self):\n",
    "        if self.broken_breaks == True and self.status_save_passenger == False and self.passenger_num>self.pedestrian_num:\n",
    "            self.status_save_passenger = True\n",
    "    def save_pediastrian_first(self):\n",
    "        if self.broken_breaks == True and self.status_save_pedestrian == False and self.passenger_num<self.pedestrian_num:\n",
    "            self.status_save_pedestrian = True\n",
    "        \n",
    "\n",
    "\n",
    "    def __repr__(self):\n",
    "        return f\"{self.start_save_passenger}\"\n"
   ]
  },
  {
   "cell_type": "code",
   "execution_count": 192,
   "metadata": {},
   "outputs": [
    {
     "name": "stdout",
     "output_type": "stream",
     "text": [
      "False\n",
      "True\n"
     ]
    }
   ],
   "source": [
    "car_1 = Car(2, 3)\n",
    "car_1.save_passenger_first()\n",
    "car_1.save_pediastrian_first()\n",
    "print(car_1.status_save_passenger)\n",
    "print(car_1.status_save_pedestrian)\n"
   ]
  },
  {
   "cell_type": "code",
   "execution_count": 182,
   "metadata": {},
   "outputs": [
    {
     "name": "stdout",
     "output_type": "stream",
     "text": [
      "True\n",
      "False\n"
     ]
    }
   ],
   "source": [
    "car_1 = Car(4, 3)\n",
    "car_1.save_passenger_first()\n",
    "car_1.save_pediastrian_first()\n",
    "print(car_1.start_save_passenger)\n",
    "print(car_1.start_save_pedestrian)"
   ]
  },
  {
   "cell_type": "code",
   "execution_count": 9,
   "metadata": {},
   "outputs": [],
   "source": [
    "class Car1:\n",
    "    def __init__(self, status_save_passenger = None, status_save_pedestrian_crosswalk = None):\n",
    "        self.broken_breaks = True\n",
    "    def utilitarian_desicion(self, passenger_num, pedestrian_num_crosswalk):\n",
    "        self.passenger_num = passenger_num\n",
    "        self.pedestrian_num_crosswalk = pedestrian_num_crosswalk\n",
    "        if self.broken_breaks == True and pedestrian_num_crosswalk != 0 and self.passenger_num > self.pedestrian_num_crosswalk:\n",
    "            self.status_save_passenger = True\n",
    "            self.status_save_pedestrian_crosswalk  = False\n",
    "        elif self.pedestrian_num_crosswalk == 0:\n",
    "            print (f\"Pėstieji ir keleiviai nežus\")\n",
    "\n",
    "        if self.broken_breaks == True and self.passenger_num<self.pedestrian_num_crosswalk:\n",
    "            self.status_save_passenger = False\n",
    "            self.status_save_pedestrian_crosswalk = True\n",
    "        #if self.broken_breaks == True and self.passenger_num == self.pedestrian_num \n",
    "        \n",
    "\n",
    "\n",
    "    def __repr__(self):\n",
    "        return f\"Save passenger - {self.status_save_passenger}\\nSave pedestrian - {self.status_save_pedestrian_crosswalk}\""
   ]
  },
  {
   "cell_type": "code",
   "execution_count": 10,
   "metadata": {},
   "outputs": [
    {
     "name": "stdout",
     "output_type": "stream",
     "text": [
      "Save passenger - False\n",
      "Save pedestrian - True\n"
     ]
    }
   ],
   "source": [
    "car_1 = Car1()\n",
    "car_1.utilitarian_desicion(2, 3)\n",
    "print(car_1)"
   ]
  }
 ],
 "metadata": {
  "kernelspec": {
   "display_name": "Python 3.10.6 64-bit",
   "language": "python",
   "name": "python3"
  },
  "language_info": {
   "codemirror_mode": {
    "name": "ipython",
    "version": 3
   },
   "file_extension": ".py",
   "mimetype": "text/x-python",
   "name": "python",
   "nbconvert_exporter": "python",
   "pygments_lexer": "ipython3",
   "version": "3.10.6"
  },
  "orig_nbformat": 4,
  "vscode": {
   "interpreter": {
    "hash": "aee8b7b246df8f9039afb4144a1f6fd8d2ca17a180786b69acc140d282b71a49"
   }
  }
 },
 "nbformat": 4,
 "nbformat_minor": 2
}
