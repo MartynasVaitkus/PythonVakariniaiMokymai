{
 "cells": [
  {
   "cell_type": "markdown",
   "metadata": {},
   "source": [
    "# Self-driving utilitarian car and ethical dillema"
   ]
  },
  {
   "cell_type": "code",
   "execution_count": 128,
   "metadata": {},
   "outputs": [],
   "source": [
    "class Scenarijus:\n",
    "    def __init__(self, passenger_num, pedestrian_num):\n",
    "           self.passenger_num = passenger_num\n",
    "           self.pedestrian_num = pedestrian_num\n",
    "    def __str__(self):\n",
    "        return f\"Keleiviai: {self.passenger_num}, pėstieji: {self.pedestrian_num}\"\n",
    "scenarijus_1 = Scenarijus(5, 4)\n",
    "\n"
   ]
  },
  {
   "cell_type": "code",
   "execution_count": 129,
   "metadata": {},
   "outputs": [
    {
     "name": "stdout",
     "output_type": "stream",
     "text": [
      "Keleiviai: 5, pėstieji: 4\n"
     ]
    }
   ],
   "source": [
    "print(scenarijus_1)"
   ]
  },
  {
   "cell_type": "code",
   "execution_count": 453,
   "metadata": {},
   "outputs": [],
   "source": [
    "import random\n",
    "\n",
    "class Utilitarian_car():\n",
    "    status_save_passenger = None\n",
    "    status_save_pedestrian_crosswalk = None\n",
    "    MIN_PASSENGERS = 1\n",
    "    MAX_PASSENGERS = 5\n",
    "    MIN_PEDESTRIANS = 1\n",
    "    MAX_PEDESTRIANS = 5\n",
    "    age_passengers = None\n",
    "    age_pedestrians = None\n",
    "    age_groups = [\"not elderly\", \"elderly\"]\n",
    "\n",
    "    def __init__(self):\n",
    "        \n",
    "        # Create a random number of pedestrians in the crosswalk\n",
    "        numPedestrians = random.randint(self.MIN_PEDESTRIANS, self.MAX_PEDESTRIANS)\n",
    "\n",
    "        # Create a random number of passengers\n",
    "        numPassengers = random.randint(self.MIN_PASSENGERS, self.MAX_PASSENGERS)\n",
    "    \n",
    "        # create pedestrian and passengers age group\n",
    "        age_pedestrians = random.choice(self.age_groups) \n",
    "        age_passengers = random.choice(self.age_groups) \n",
    "\n",
    "        print(f\"Keleivių skaičius: {numPassengers}, keleivių amžiaus grupė: {age_passengers}\\nPėsčiųjų skaičius: {numPedestrians}, pėsčiųjų amžiaus grupė: {age_pedestrians}\")\n",
    "        \n",
    "        \n",
    "        if  numPedestrians != 0 and numPassengers > numPedestrians:\n",
    "            status_save_passenger = True\n",
    "            status_save_pedestrian_crosswalk  = False\n",
    "        #elif numPedestrians == 0 and numPassengers > numPedestrians:\n",
    "            #print (f\"Save passengers - True\\nSave pedestrians - no pedestrian will be killed\")\n",
    "        #elif numPedestrians == 0 and numPassengers == 0:\n",
    "            #print (f\"Save passengers - no passengers will be killed\\nSave pedestrian - no pedestrian will be killed\")\n",
    "\n",
    "        if numPassengers<numPedestrians:\n",
    "            status_save_passenger = False\n",
    "            status_save_pedestrian_crosswalk = True\n",
    "        #if self.broken_breaks == True and self.passenger_num == self.pedestrian_num \n",
    "        \n",
    "\n",
    "\n",
    "    #def __repr__(self):\n",
    "        print(f\"Save passenger - {status_save_passenger}\\nSave pedestrian - {status_save_pedestrian_crosswalk}\")\n",
    "\n"
   ]
  },
  {
   "cell_type": "code",
   "execution_count": 454,
   "metadata": {},
   "outputs": [
    {
     "name": "stdout",
     "output_type": "stream",
     "text": [
      "Keleivių skaičius: 3, keleivių amžiaus grupė: not elderly\n",
      "Pėsčiųjų skaičius: 2, pėsčiųjų amžiaus grupė: not elderly\n",
      "Save passenger - True\n",
      "Save pedestrian - False\n"
     ]
    }
   ],
   "source": [
    "utilitarina_car_1 = Utilitarian_car()"
   ]
  }
 ],
 "metadata": {
  "kernelspec": {
   "display_name": "Python 3.10.6 64-bit",
   "language": "python",
   "name": "python3"
  },
  "language_info": {
   "codemirror_mode": {
    "name": "ipython",
    "version": 3
   },
   "file_extension": ".py",
   "mimetype": "text/x-python",
   "name": "python",
   "nbconvert_exporter": "python",
   "pygments_lexer": "ipython3",
   "version": "3.10.6"
  },
  "orig_nbformat": 4,
  "vscode": {
   "interpreter": {
    "hash": "aee8b7b246df8f9039afb4144a1f6fd8d2ca17a180786b69acc140d282b71a49"
   }
  }
 },
 "nbformat": 4,
 "nbformat_minor": 2
}
