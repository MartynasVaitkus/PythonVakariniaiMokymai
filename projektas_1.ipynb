{
 "cells": [
  {
   "cell_type": "markdown",
   "metadata": {},
   "source": [
    "# Self-driving utilitarian car as ethical dillema solver"
   ]
  },
  {
   "cell_type": "code",
   "execution_count": 128,
   "metadata": {},
   "outputs": [],
   "source": [
    "class Scenarijus:\n",
    "    def __init__(self, passenger_num, pedestrian_num):\n",
    "           self.passenger_num = passenger_num\n",
    "           self.pedestrian_num = pedestrian_num\n",
    "    def __str__(self):\n",
    "        return f\"Keleiviai: {self.passenger_num}, pėstieji: {self.pedestrian_num}\"\n",
    "scenarijus_1 = Scenarijus(5, 4)\n",
    "\n"
   ]
  },
  {
   "cell_type": "code",
   "execution_count": 129,
   "metadata": {},
   "outputs": [
    {
     "name": "stdout",
     "output_type": "stream",
     "text": [
      "Keleiviai: 5, pėstieji: 4\n"
     ]
    }
   ],
   "source": [
    "print(scenarijus_1)"
   ]
  },
  {
   "cell_type": "code",
   "execution_count": 1736,
   "metadata": {},
   "outputs": [],
   "source": [
    "import random\n",
    "\n",
    "class Utilitarian_car():\n",
    "    status_save_passenger = None\n",
    "    status_save_pedestrian_crosswalk  = None\n",
    "    min_passengers = 1\n",
    "    max_passengers = 5\n",
    "    min_pedestrians_crosswalk = 1\n",
    "    max_pedestrians_crosswalk = 5\n",
    "    age_group = [ \"baby\", \"child\", \"adult\", \"elderly\"]\n",
    "    same_num_age_chance = [True, False]\n",
    "    utility_score_passengers = 0\n",
    "    utility_score_pedestrians = 0\n",
    "\n",
    "    # įverčiai amžiaus grupių:\n",
    "    #'baby': 4\n",
    "    #'child': 3\n",
    "    #'adult': 2 \n",
    "    #'elderly': 1\n",
    "\n",
    "    def __init__(self):\n",
    "        global utility_score_passengers\n",
    "        global utility_score_pedestrians\n",
    "        global status_save_passenger \n",
    "        global status_save_pedestrian_crosswalk \n",
    "        # Create a random number of pedestrians in the crosswalk\n",
    "        num_pedestrians_crosswalk = random.randint(self.min_pedestrians_crosswalk, self.max_pedestrians_crosswalk)\n",
    "\n",
    "        # Create a random number of passengers\n",
    "        num_passengers = random.randint(self.min_passengers, self.max_passengers)\n",
    "    \n",
    "        # create a random pedestrian and passengers age group\n",
    "\n",
    "        age_pedestrians = {}\n",
    "        for x in range(num_pedestrians_crosswalk):\n",
    "            age_pedestrians [x+1]= random.choice(self.age_group)\n",
    "        print (age_pedestrians)\n",
    "        \n",
    "        for x in age_pedestrians.values():\n",
    "            if x == \"baby\":\n",
    "                self.utility_score_pedestrians += 4\n",
    "            elif x == \"child\":\n",
    "                self.utility_score_pedestrians += 3\n",
    "            elif x == \"adult\":\n",
    "                self.utility_score_pedestrians += 2\n",
    "            elif x == \"elderly\":\n",
    "                self.utility_score_pedestrians += 1\n",
    "        print(self.utility_score_pedestrians)\n",
    "        \n",
    "        age_passengers = {}\n",
    "        for x in range(num_passengers):\n",
    "            age_passengers [x+1]= random.choice(self.age_group)\n",
    "        print (age_passengers)\n",
    "        \n",
    "        for x in age_passengers.values():\n",
    "            if x == \"baby\":\n",
    "                self.utility_score_passengers += 4\n",
    "            elif x == \"child\":\n",
    "                self.utility_score_passengers += 3\n",
    "            elif x == \"adult\":\n",
    "                self.utility_score_passengers += 2\n",
    "            elif x == \"elderly\":\n",
    "                self.utility_score_passengers += 1\n",
    "        print(self.utility_score_passengers)\n",
    "\n",
    "        print (f\"Keleivių situacija:\\nkeleivių skaičius: {num_passengers};\\nkeleivių amžiaus grupė: {list(sorted(age_passengers.values()))};\\nkeleivių utilitaristinis įvertis: {self.utility_score_passengers};\\nPėsčiųjų situacija perėjoje:\\nPėsčiųjų skaičius perėjoje: {num_pedestrians_crosswalk};\\npėsčiųjų amžiaus grupės perėjoje: {list(sorted(age_pedestrians.values()))};\\npėsčiųjų utilitaristinis įvertis: {self.utility_score_pedestrians}.\")\n",
    "        \n",
    "        if self.utility_score_passengers > self.utility_score_pedestrians:\n",
    "            status_save_passenger = True\n",
    "            status_save_pedestrian_crosswalk  = False\n",
    "        elif self.utility_score_passengers < self.utility_score_pedestrians:\n",
    "            status_save_passenger = False\n",
    "            status_save_pedestrian_crosswalk  = True\n",
    "        elif self.utility_score_passengers == self.utility_score_pedestrians:\n",
    "                status_save_passenger = random.choice(self.same_num_age_chance)\n",
    "                #random.getstate()\n",
    "                #print(status_save_passenger)\n",
    "                status_save_pedestrian_crosswalk = not status_save_passenger\n",
    "                \n",
    "                \n",
    "                #status_save_passenger = False\n",
    "                #status_save_pedestrian_crosswalk = True\n",
    "        #elif numPassengers == numPedestrians and (sum(age_passengers.values()))/2 < (sum(age_pedestrians.values()))/2:\n",
    "                #status_save_passenger = True\n",
    "                #status_save_pedestrian_crosswalk = False\n",
    "        #elif numPassengers == numPedestrians and (sum(age_passengers.values()))/2 == (sum(age_pedestrians.values()))/2:\n",
    "                #status_save_passenger = random.choice(self.same_num_age_chance)\n",
    "                #random.getstate()\n",
    "                #print(status_save_passenger)\n",
    "                #status_save_pedestrian_crosswalk = not status_save_passenger\n",
    "    \n",
    "\n",
    "\n",
    "        \n",
    "       \n",
    "\n",
    "\n",
    "\n",
    "        \n",
    "        \n",
    "\n",
    "\n",
    "    #def __repr__(self):\n",
    "        print (f\"\\nSavivaldžio automobilio utilitaristinis sprendimas:\\nSave passenger - {status_save_passenger}\\nSave pedestrian - {status_save_pedestrian_crosswalk}\")"
   ]
  },
  {
   "cell_type": "code",
   "execution_count": 1758,
   "metadata": {},
   "outputs": [
    {
     "name": "stdout",
     "output_type": "stream",
     "text": [
      "{1: 'elderly', 2: 'child', 3: 'adult', 4: 'child', 5: 'elderly'}\n",
      "10\n",
      "{1: 'baby', 2: 'baby', 3: 'elderly', 4: 'elderly'}\n",
      "10\n",
      "Keleivių situacija:\n",
      "keleivių skaičius: 4;\n",
      "keleivių amžiaus grupė: ['baby', 'baby', 'elderly', 'elderly'];\n",
      "keleivių utilitaristinis įvertis: 10;\n",
      "Pėsčiųjų situacija perėjoje:\n",
      "Pėsčiųjų skaičius perėjoje: 5;\n",
      "pėsčiųjų amžiaus grupės perėjoje: ['adult', 'child', 'child', 'elderly', 'elderly'];\n",
      "pėsčiųjų utilitaristinis įvertis: 10.\n",
      "\n",
      "Savivaldžio automobilio utilitaristinis sprendimas:\n",
      "Save passenger - True\n",
      "Save pedestrian - False\n"
     ]
    }
   ],
   "source": [
    "utilitarina_car_1 = Utilitarian_car()"
   ]
  }
 ],
 "metadata": {
  "kernelspec": {
   "display_name": "Python 3.10.6 64-bit",
   "language": "python",
   "name": "python3"
  },
  "language_info": {
   "codemirror_mode": {
    "name": "ipython",
    "version": 3
   },
   "file_extension": ".py",
   "mimetype": "text/x-python",
   "name": "python",
   "nbconvert_exporter": "python",
   "pygments_lexer": "ipython3",
   "version": "3.10.6"
  },
  "orig_nbformat": 4,
  "vscode": {
   "interpreter": {
    "hash": "aee8b7b246df8f9039afb4144a1f6fd8d2ca17a180786b69acc140d282b71a49"
   }
  }
 },
 "nbformat": 4,
 "nbformat_minor": 2
}
