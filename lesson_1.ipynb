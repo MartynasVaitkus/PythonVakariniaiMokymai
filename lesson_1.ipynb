{
 "cells": [
  {
   "cell_type": "code",
   "execution_count": 1,
   "metadata": {},
   "outputs": [
    {
     "name": "stdout",
     "output_type": "stream",
     "text": [
      "The Zen of Python, by Tim Peters\n",
      "\n",
      "Beautiful is better than ugly.\n",
      "Explicit is better than implicit.\n",
      "Simple is better than complex.\n",
      "Complex is better than complicated.\n",
      "Flat is better than nested.\n",
      "Sparse is better than dense.\n",
      "Readability counts.\n",
      "Special cases aren't special enough to break the rules.\n",
      "Although practicality beats purity.\n",
      "Errors should never pass silently.\n",
      "Unless explicitly silenced.\n",
      "In the face of ambiguity, refuse the temptation to guess.\n",
      "There should be one-- and preferably only one --obvious way to do it.\n",
      "Although that way may not be obvious at first unless you're Dutch.\n",
      "Now is better than never.\n",
      "Although never is often better than *right* now.\n",
      "If the implementation is hard to explain, it's a bad idea.\n",
      "If the implementation is easy to explain, it may be a good idea.\n",
      "Namespaces are one honking great idea -- let's do more of those!\n"
     ]
    }
   ],
   "source": [
    "import this"
   ]
  },
  {
   "cell_type": "markdown",
   "metadata": {},
   "source": [
    "# Variables string"
   ]
  },
  {
   "cell_type": "code",
   "execution_count": 4,
   "metadata": {},
   "outputs": [],
   "source": [
    "name = \"Martynas\"\n",
    "surname = \"Vaitkus\""
   ]
  },
  {
   "cell_type": "code",
   "execution_count": 55,
   "metadata": {},
   "outputs": [
    {
     "name": "stdout",
     "output_type": "stream",
     "text": [
      "Martynas\n",
      "Martynas\n",
      "Vaitkus\n",
      "k\n",
      "t\n",
      "t\n",
      "a\n"
     ]
    }
   ],
   "source": [
    "print (name)\n",
    "print (name)\n",
    "print (surname)\n",
    "print (surname [4])\n",
    "print (surname [3])\n",
    "print (surname [3])\n",
    "print (surname [1])\n",
    "\n"
   ]
  },
  {
   "cell_type": "code",
   "execution_count": 57,
   "metadata": {},
   "outputs": [
    {
     "name": "stdout",
     "output_type": "stream",
     "text": [
      "t\n",
      "y\n",
      "a\n",
      "s\n",
      "s\n",
      "u\n"
     ]
    }
   ],
   "source": [
    "print (name[3])\n",
    "print (name[4])\n",
    "print (name [-2])\n",
    "print (name [-1])\n",
    "print (surname [-1])\n",
    "print (surname [-2])"
   ]
  },
  {
   "cell_type": "markdown",
   "metadata": {},
   "source": [
    "# Slicing"
   ]
  },
  {
   "cell_type": "code",
   "execution_count": 64,
   "metadata": {},
   "outputs": [
    {
     "name": "stdout",
     "output_type": "stream",
     "text": [
      "Mar\n",
      "Martyna\n",
      "Martynas\n",
      "tynas\n",
      "Mar\n",
      "t\n",
      "tk\n",
      "tk\n",
      "tk\n",
      "tk\n",
      "tk\n",
      "7\n",
      "tkus\n",
      "tku\n"
     ]
    }
   ],
   "source": [
    "print(name[0:3])\n",
    "print(name[0:7])\n",
    "print(name[0:8])\n",
    "print(name[3:])\n",
    "print(name[0:3])\n",
    "print(surname[3:4])\n",
    "print(surname[3:5])\n",
    "print(surname[3:5])\n",
    "print(surname[3:5])\n",
    "print(surname[3:5])\n",
    "print(surname[3:5])\n",
    "print(len (surname))\n",
    "print(surname[3:7])\n",
    "print(surname[3:6])\n",
    "\n"
   ]
  },
  {
   "cell_type": "code",
   "execution_count": 18,
   "metadata": {},
   "outputs": [
    {
     "name": "stdout",
     "output_type": "stream",
     "text": [
      "Martynas Vaitkus\n",
      "9\n",
      "16\n",
      "0\n",
      "16\n",
      "ar\n",
      "anVk\n",
      "aM\n",
      "aM\n",
      "a\n",
      "a\n",
      "a\n",
      "artynas Vaitkus\n",
      "atnsViks\n",
      "ta\n",
      "\n",
      "vardas Martynas\n",
      "pavardė Vaitkus\n",
      "\n",
      "33\n",
      "17\n",
      "a\n",
      "ardas Martynas\n",
      "pavardė Vaitkus\n",
      "\n",
      "ard\n",
      "a ypdi\n",
      "\n",
      "\n",
      "jo vardas yra Martynas\n",
      "pavardė Vaitkus\n",
      "\n",
      "\n",
      "jo vardas yra Martynas\n",
      "pavardė Vaitkus\n",
      "\n",
      "\n",
      "jo vardas yra Martynas\n",
      "o pavardė yra Vaitkus\n",
      "\n",
      "\n",
      "jo vardas yra Martynas\n",
      "pavardė Vaitkus\n",
      "\n",
      "\n",
      "jo vardas yra Martynas\n",
      "o pavardė yra Vaitkus\n",
      "\n"
     ]
    }
   ],
   "source": [
    "\n",
    "text= \"Martynas Vaitkus\"\n",
    "print(text)\n",
    "print (text.find(\"Vaitkus\"))\n",
    "print(len(text))\n",
    "print(text.find(\"Martynas\"))\n",
    "print(len(text))\n",
    "print(text[1:3])\n",
    "print(text[1::4])\n",
    "# o kaip suprasti su minusu ženklu?\n",
    "print(text[1::-1]) # gaunasi aM\n",
    "print(text[1::-1]) # gaunasi aM\n",
    "print(text[1::-5]) # gaunasi tik a\n",
    "print(text[1::-6]) # gaunasi tik a\n",
    "print(text[1::-2]) # gaunasi tik a\n",
    "print(text[1::])\n",
    "print(text[1::2]) # gaunasi atnsViks\n",
    "print(text[3::-2]) # gaunasi ta, supratau, kaip yra su minuso ženklu.\n",
    "\n",
    "# kaip yra su keliomis eilutėmis ?\n",
    "\n",
    "text = \"\"\"\n",
    "vardas Martynas\n",
    "pavardė Vaitkus\n",
    "\"\"\"\n",
    "print(text)\n",
    "print(len(text))\n",
    "print(text.find(\"pavardė\"))\n",
    "print(text[2])\n",
    "print(text[2:])\n",
    "print(text[2:5])\n",
    "print(text[2::5])\n",
    "# su keliomis eilutėmis kol kas aišku.\n",
    "# su replace pabandome.\n",
    "text.replace (\"vardas\", \"jo vardas yra\") #klausimas: ar įmanoma su viena replace eilute pakeist iškart ir pavardę? Bandžiau, bet metė klaidą.\n",
    "print (text.replace (\"vardas\", \"jo vardas yra\")) \n",
    "text=text.replace (\"vardas\", \"jo vardas yra\")\n",
    "print(text)\n",
    "text.replace (\"pavardė\", \"o pavardė yra\")\n",
    "print(text.replace (\"pavardė\", \"o pavardė yra\"))\n",
    "print(text)\n",
    "text=text.replace (\"pavardė\", \"o pavardė yra\")\n",
    "print(text)\n",
    "\n",
    "\n",
    "\n",
    "\n",
    "\n",
    "\n",
    "\n",
    "\n",
    "\n",
    "\n",
    "\n",
    "\n",
    "\n"
   ]
  },
  {
   "cell_type": "markdown",
   "metadata": {},
   "source": [
    "# Kabutės"
   ]
  },
  {
   "cell_type": "code",
   "execution_count": 40,
   "metadata": {},
   "outputs": [
    {
     "name": "stdout",
     "output_type": "stream",
     "text": [
      "I can't go today\n",
      "Martynas\n",
      "I can't go today\n"
     ]
    }
   ],
   "source": [
    "# text='I can't go today'\n",
    "text=\"I can't go today\"\n",
    "print (text)\n",
    "print (name)\n",
    "text='I can\\'t go today'\n",
    "print (text)\n"
   ]
  },
  {
   "cell_type": "code",
   "execution_count": 41,
   "metadata": {},
   "outputs": [
    {
     "name": "stdout",
     "output_type": "stream",
     "text": [
      "\n",
      "line1\n",
      "line2\n",
      "\n"
     ]
    }
   ],
   "source": [
    "text=\"\"\"\n",
    "line1\n",
    "line2\n",
    "\"\"\"\n",
    "print (text)"
   ]
  },
  {
   "cell_type": "markdown",
   "metadata": {},
   "source": [
    "# funkcijos ir metodai"
   ]
  },
  {
   "cell_type": "code",
   "execution_count": 46,
   "metadata": {},
   "outputs": [
    {
     "name": "stdout",
     "output_type": "stream",
     "text": [
      "\n",
      "line1\n",
      "line2\n",
      "\n",
      "\n",
      "line1\n",
      "line2\n",
      "\n",
      "13\n"
     ]
    }
   ],
   "source": [
    "len(name)\n",
    "print (text)\n",
    "print (text)\n",
    "print (len(text))\n"
   ]
  },
  {
   "cell_type": "code",
   "execution_count": 51,
   "metadata": {},
   "outputs": [
    {
     "name": "stdout",
     "output_type": "stream",
     "text": [
      "i can't go today\n",
      "i can't go tomorrow\n",
      "i can't go today\n",
      "i can't go tomorrow\n"
     ]
    }
   ],
   "source": [
    "text=\"i can't go today\"\n",
    "print(text)\n",
    "text.replace (\"today\", \"tomorrow\")\n",
    "print(text.replace (\"today\", \"tomorrow\"))\n",
    "print(text)\n",
    "text=text.replace (\"today\", \"tomorrow\")\n",
    "print(text)"
   ]
  }
 ],
 "metadata": {
  "kernelspec": {
   "display_name": "Python 3.10.6 64-bit",
   "language": "python",
   "name": "python3"
  },
  "language_info": {
   "codemirror_mode": {
    "name": "ipython",
    "version": 3
   },
   "file_extension": ".py",
   "mimetype": "text/x-python",
   "name": "python",
   "nbconvert_exporter": "python",
   "pygments_lexer": "ipython3",
   "version": "3.10.6"
  },
  "orig_nbformat": 4,
  "vscode": {
   "interpreter": {
    "hash": "aee8b7b246df8f9039afb4144a1f6fd8d2ca17a180786b69acc140d282b71a49"
   }
  }
 },
 "nbformat": 4,
 "nbformat_minor": 2
}
