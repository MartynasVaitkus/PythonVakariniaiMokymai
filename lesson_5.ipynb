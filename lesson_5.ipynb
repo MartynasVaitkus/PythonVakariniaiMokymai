{
 "cells": [
  {
   "cell_type": "markdown",
   "metadata": {},
   "source": [
    "# Function deklaracija"
   ]
  },
  {
   "cell_type": "code",
   "execution_count": 1,
   "metadata": {},
   "outputs": [],
   "source": [
    "def hello_world():\n",
    "    print(\"Hello world\")\n"
   ]
  },
  {
   "cell_type": "code",
   "execution_count": 3,
   "metadata": {},
   "outputs": [
    {
     "name": "stdout",
     "output_type": "stream",
     "text": [
      "Hello world\n"
     ]
    }
   ],
   "source": [
    "hello_world()"
   ]
  },
  {
   "cell_type": "code",
   "execution_count": 5,
   "metadata": {},
   "outputs": [
    {
     "name": "stdout",
     "output_type": "stream",
     "text": [
      "Martynas Vaitkus\n"
     ]
    }
   ],
   "source": [
    "def Martynas_Vaitkus():\n",
    "    print(\"Martynas Vaitkus\")\n",
    "Martynas_Vaitkus()"
   ]
  },
  {
   "cell_type": "code",
   "execution_count": 13,
   "metadata": {},
   "outputs": [
    {
     "name": "stdout",
     "output_type": "stream",
     "text": [
      "Martynas Vaitkus\n",
      "Hello world\n"
     ]
    }
   ],
   "source": [
    "#kai jau aprašytos funkcijos, jas galima iškviesti bet kada\n",
    "Martynas_Vaitkus() \n",
    "hello_world()\n"
   ]
  },
  {
   "cell_type": "code",
   "execution_count": 17,
   "metadata": {},
   "outputs": [
    {
     "ename": "TypeError",
     "evalue": "hello_to() missing 1 required positional argument: 'name'",
     "output_type": "error",
     "traceback": [
      "\u001b[0;31m---------------------------------------------------------------------------\u001b[0m",
      "\u001b[0;31mTypeError\u001b[0m                                 Traceback (most recent call last)",
      "\u001b[1;32m/Users/martynas/Desktop/kursai/repository/PythonVakariniaiMokymai/PythonVakariniaiMokymai-2/lesson_5.ipynb Cell 6\u001b[0m in \u001b[0;36m<cell line: 4>\u001b[0;34m()\u001b[0m\n\u001b[1;32m      <a href='vscode-notebook-cell:/Users/martynas/Desktop/kursai/repository/PythonVakariniaiMokymai/PythonVakariniaiMokymai-2/lesson_5.ipynb#W6sZmlsZQ%3D%3D?line=0'>1</a>\u001b[0m \u001b[39mdef\u001b[39;00m \u001b[39mhello_to\u001b[39m(name):\n\u001b[1;32m      <a href='vscode-notebook-cell:/Users/martynas/Desktop/kursai/repository/PythonVakariniaiMokymai/PythonVakariniaiMokymai-2/lesson_5.ipynb#W6sZmlsZQ%3D%3D?line=1'>2</a>\u001b[0m     \u001b[39mprint\u001b[39m(\u001b[39mf\u001b[39m\u001b[39m\"\u001b[39m\u001b[39mHello, \u001b[39m\u001b[39m{\u001b[39;00mname\u001b[39m}\u001b[39;00m\u001b[39m!\u001b[39m\u001b[39m\"\u001b[39m)\n\u001b[0;32m----> <a href='vscode-notebook-cell:/Users/martynas/Desktop/kursai/repository/PythonVakariniaiMokymai/PythonVakariniaiMokymai-2/lesson_5.ipynb#W6sZmlsZQ%3D%3D?line=3'>4</a>\u001b[0m hello_to()\n",
      "\u001b[0;31mTypeError\u001b[0m: hello_to() missing 1 required positional argument: 'name'"
     ]
    }
   ],
   "source": [
    "def hello_to(name):\n",
    "    print(f\"Hello, {name}!\")\n",
    "\n",
    "hello_to()"
   ]
  },
  {
   "cell_type": "code",
   "execution_count": 23,
   "metadata": {},
   "outputs": [
    {
     "name": "stdout",
     "output_type": "stream",
     "text": [
      "Hello, Jonas!\n",
      "Hello, Nida!\n",
      "Hello, Daiva!\n",
      "Hello, Mantas!\n"
     ]
    }
   ],
   "source": [
    "def hello_to(name):\n",
    "    print(f\"Hello, {name}!\")\n",
    "\n",
    "hello_to(\"Jonas\")\n",
    "hello_to(\"Nida\")\n",
    "hello_to(\"Daiva\")\n",
    "hello_to(name=\"Mantas\")"
   ]
  },
  {
   "cell_type": "code",
   "execution_count": 24,
   "metadata": {},
   "outputs": [
    {
     "name": "stdout",
     "output_type": "stream",
     "text": [
      "Hello, Jonas!\n",
      "Hello, Nida!\n",
      "Hello, Daiva!\n",
      "Hello, Tomas!\n"
     ]
    }
   ],
   "source": [
    "def hello_to(name):\n",
    "    # docstring\n",
    "    \"\"\"\n",
    "    says hello to a person \"name\"\n",
    "    \"\"\"\n",
    "    print(f\"Hello, {name}!\")\n",
    "\n",
    "hello_to(\"Jonas\")\n",
    "hello_to(\"Nida\")\n",
    "hello_to(\"Daiva\")\n",
    "hello_to(\"Tomas\")"
   ]
  },
  {
   "cell_type": "code",
   "execution_count": 28,
   "metadata": {},
   "outputs": [
    {
     "name": "stdout",
     "output_type": "stream",
     "text": [
      "1\n",
      "4\n",
      "1\n",
      "4\n",
      "None\n",
      "None\n"
     ]
    }
   ],
   "source": [
    "def subtract_numbers(num1, num2):\n",
    "    result = num1 - num2\n",
    "    print(result)\n",
    "subtract_numbers(3, 2)\n",
    "subtract_numbers(7, 3)\n",
    "ats_1 = subtract_numbers(3, 2)\n",
    "ats_2 = subtract_numbers(7, 3)\n",
    "print(ats_1) \n",
    "print(ats_2) # rezultatą atspausdina, bet negrąžina. Tam, kad rezultatą grąžintų, naudoti return. "
   ]
  },
  {
   "cell_type": "code",
   "execution_count": 29,
   "metadata": {},
   "outputs": [
    {
     "name": "stdout",
     "output_type": "stream",
     "text": [
      "1\n",
      "4\n"
     ]
    }
   ],
   "source": [
    "def subtract_numbers(num1, num2):\n",
    "    result = num1 - num2\n",
    "    #print(result)\n",
    "    return(result) # return komanda leid=ia funkcijos sąlygotą rezultatą panaudoti ir toliau, ir kitur. Negausi \"None\"\n",
    "    print(\"this never get printed\") # return komanda reiškia, kad išeinama iš funkcijos, nieko nebetęsiama, kas yra po funkcijos aprašyme po return. Tad print(\"this never get printed\") nebus atspausdinta. \n",
    "ats_1 = subtract_numbers(3, 2)\n",
    "ats_2 = subtract_numbers(7, 3)\n",
    "# return komanda įgalina jau atspausdinti funkcijos įvykdimą, o ne \"None\"\n",
    "print(ats_1) \n",
    "print(ats_2)"
   ]
  },
  {
   "cell_type": "code",
   "execution_count": 38,
   "metadata": {},
   "outputs": [],
   "source": [
    "def subtract_numbers(num1, num2):\n",
    "    result = num1 - num2\n",
    "    if result < 5:\n",
    "        return # galima raįyti ir return (result). Bet kokiu atveju jei mažiau nei penki, nieko neatspausdina.\n",
    "    return(result)\n",
    "subtract_numbers(3, 2)\n",
    "\n"
   ]
  },
  {
   "cell_type": "code",
   "execution_count": 36,
   "metadata": {},
   "outputs": [
    {
     "data": {
      "text/plain": [
       "6"
      ]
     },
     "execution_count": 36,
     "metadata": {},
     "output_type": "execute_result"
    }
   ],
   "source": [
    "def subtract_numbers(num1, num2):\n",
    "    result = num1 - num2\n",
    "    if result < 5:\n",
    "        return\n",
    "    return(result)\n",
    "subtract_numbers(8, 2)"
   ]
  },
  {
   "cell_type": "code",
   "execution_count": 42,
   "metadata": {},
   "outputs": [
    {
     "data": {
      "text/plain": [
       "6"
      ]
     },
     "execution_count": 42,
     "metadata": {},
     "output_type": "execute_result"
    }
   ],
   "source": [
    "def subtract_numbers(num1, num2):\n",
    "    result = num1 - num2\n",
    "    if result < 5:\n",
    "        return\n",
    "    return(result)\n",
    "subtract_numbers(num1=8, num2=2)"
   ]
  },
  {
   "cell_type": "code",
   "execution_count": 46,
   "metadata": {},
   "outputs": [
    {
     "name": "stdout",
     "output_type": "stream",
     "text": [
      "8\n",
      "3\n"
     ]
    }
   ],
   "source": [
    "def subtract_numbers(num1, num2=5): # num2=5 reiškia, jog funkcija turi numatyta vertę\n",
    "    result = num1 - num2\n",
    "    return(result) \n",
    "print(subtract_numbers(13)) # kadangi ši funkcija turi numatytą vertę, tad užtenka ir vieno skaičiaus.\n",
    "print(subtract_numbers(13, 10)) # jei įrašome antrą vertą, tai num2=5 persirašo."
   ]
  },
  {
   "cell_type": "code",
   "execution_count": 47,
   "metadata": {},
   "outputs": [
    {
     "ename": "SyntaxError",
     "evalue": "non-default argument follows default argument (40031735.py, line 1)",
     "output_type": "error",
     "traceback": [
      "\u001b[0;36m  Input \u001b[0;32mIn [47]\u001b[0;36m\u001b[0m\n\u001b[0;31m    def subtract_numbers(num2=5, num1):\u001b[0m\n\u001b[0m                                 ^\u001b[0m\n\u001b[0;31mSyntaxError\u001b[0m\u001b[0;31m:\u001b[0m non-default argument follows default argument\n"
     ]
    }
   ],
   "source": [
    "def subtract_numbers(num2=5, num1): # meta klaidą, nes pirma turi eiti visi argumentai, kurie turi ne default (num2=5 yra default).\n",
    "    result = num1 - num2\n",
    "    return(result)\n"
   ]
  },
  {
   "cell_type": "code",
   "execution_count": 54,
   "metadata": {},
   "outputs": [
    {
     "name": "stdout",
     "output_type": "stream",
     "text": [
      "Jonas Jonaitis\n",
      "11\n"
     ]
    }
   ],
   "source": [
    "def add_numbers (num1, num2):\n",
    "    return num1 + num2\n",
    "print(add_numbers (\"Jonas\", \" \" \"Jonaitis\"))\n",
    "print(add_numbers(5, 6))"
   ]
  },
  {
   "cell_type": "code",
   "execution_count": 3,
   "metadata": {},
   "outputs": [
    {
     "name": "stdout",
     "output_type": "stream",
     "text": [
      "pirmas argumentas yra žodis\n",
      "None\n",
      "11\n"
     ]
    }
   ],
   "source": [
    "def add_numbers (num1, num2):\n",
    "    if not isinstance(num1, int):\n",
    "        print(\"pirmas argumentas yra žodis\")\n",
    "        return # None'ą grąžina būtent return komanda\n",
    "    return num1 + num2\n",
    "print(add_numbers(\"Jonas\", 6))\n",
    "print(add_numbers(5, 6))"
   ]
  },
  {
   "cell_type": "code",
   "execution_count": 6,
   "metadata": {},
   "outputs": [
    {
     "name": "stdout",
     "output_type": "stream",
     "text": [
      "1\n",
      "8\n",
      "3\n",
      "4\n",
      "2\n"
     ]
    }
   ],
   "source": [
    "def add_all_numbers (* args): # * žvaigždutė reiškia, kad į funkciją galime duoti tiek argumentų, kiek norime (args kaip kategorija ar sąrašas).\n",
    "    for num1 in args:\n",
    "        print(num1)\n",
    "add_all_numbers(1)\n",
    "add_all_numbers(8, 3, 4, 2)"
   ]
  },
  {
   "cell_type": "code",
   "execution_count": 15,
   "metadata": {},
   "outputs": [
    {
     "name": "stdout",
     "output_type": "stream",
     "text": [
      "15\n",
      "540\n"
     ]
    }
   ],
   "source": [
    "\n",
    "def add_all_numbers (* args):\n",
    "    result = 1 # local scope. Pasiekiamas tik  funkcijos apimtyje, viduje\n",
    "    for num1 in args:\n",
    "        result = result * num1\n",
    "    return (result)\n",
    "\n",
    "# ats is in global scope\n",
    "\n",
    "print(add_all_numbers (3, 5))\n",
    "ats = add_all_numbers (3, 5, 6, 6)\n",
    "print(ats)"
   ]
  },
  {
   "cell_type": "code",
   "execution_count": 13,
   "metadata": {},
   "outputs": [
    {
     "name": "stdout",
     "output_type": "stream",
     "text": [
      "hello\n",
      "15\n",
      "hello\n",
      "540\n",
      "hello\n"
     ]
    },
    {
     "ename": "NameError",
     "evalue": "name 'result' is not defined",
     "output_type": "error",
     "traceback": [
      "\u001b[0;31m---------------------------------------------------------------------------\u001b[0m",
      "\u001b[0;31mNameError\u001b[0m                                 Traceback (most recent call last)",
      "\u001b[1;32m/Users/martynas/Desktop/kursai/repository/PythonVakariniaiMokymai/PythonVakariniaiMokymai-2/lesson_5.ipynb Cell 19\u001b[0m in \u001b[0;36m<cell line: 15>\u001b[0;34m()\u001b[0m\n\u001b[1;32m     <a href='vscode-notebook-cell:/Users/martynas/Desktop/kursai/repository/PythonVakariniaiMokymai/PythonVakariniaiMokymai-2/lesson_5.ipynb#X30sZmlsZQ%3D%3D?line=12'>13</a>\u001b[0m \u001b[39mprint\u001b[39m(ats)\n\u001b[1;32m     <a href='vscode-notebook-cell:/Users/martynas/Desktop/kursai/repository/PythonVakariniaiMokymai/PythonVakariniaiMokymai-2/lesson_5.ipynb#X30sZmlsZQ%3D%3D?line=13'>14</a>\u001b[0m \u001b[39mprint\u001b[39m(variable_1)\n\u001b[0;32m---> <a href='vscode-notebook-cell:/Users/martynas/Desktop/kursai/repository/PythonVakariniaiMokymai/PythonVakariniaiMokymai-2/lesson_5.ipynb#X30sZmlsZQ%3D%3D?line=14'>15</a>\u001b[0m \u001b[39mprint\u001b[39m(result)\n",
      "\u001b[0;31mNameError\u001b[0m: name 'result' is not defined"
     ]
    }
   ],
   "source": [
    "variable_1 = \"hello\"\n",
    "def add_all_numbers (* args):\n",
    "    print(variable_1) # galima pasiekti ir funkcijos apimtyje (scope), viduje. Bet vertėtų nenaudoti to, kas yra funkcijos išorėje. Nukopijuosi funkciją ir paleisi ar dalinsies su kuo nors, tačiau mes klaidą, nes to, kas yra funkcijos išorėje, nenukopijavai.\n",
    "    result = 1 # local scope. Pasiekiamas tik  funkcijos apimtyje, viduje\n",
    "    for num1 in args:\n",
    "        result = result * num1\n",
    "    return (result)\n",
    "\n",
    "# ats is in global scope\n",
    "\n",
    "print(add_all_numbers (3, 5))\n",
    "ats = add_all_numbers (3, 5, 6, 6)\n",
    "print(ats)\n",
    "print(variable_1)\n",
    "print(result) # local scope. Pasiekiamas tik  funkcijos apimtyje, viduje. Todel ir meta klaidą."
   ]
  },
  {
   "cell_type": "code",
   "execution_count": 19,
   "metadata": {},
   "outputs": [
    {
     "name": "stdout",
     "output_type": "stream",
     "text": [
      " key is name and has value of Jonas\n",
      " key is pavardė and has value of Jonaitis\n",
      "galime ir pridėti\n",
      " key is name and has value of Jonas\n",
      " key is pavardė and has value of Jonaitis\n",
      " key is age and has value of 34\n"
     ]
    }
   ],
   "source": [
    "def kwargs_1 (**kwargs):# kwargs = key word arguments\n",
    "    for k, v in kwargs.items(): # k yra key, v yra value\n",
    "        print(f\" key is {k} and has value of {v}\")\n",
    "\n",
    "kwargs_1 (name = \"Jonas\", pavardė = \"Jonaitis\")\n",
    "print(\"galime ir pridėti\")\n",
    "kwargs_1 (name = \"Jonas\", pavardė = \"Jonaitis\", age = 34)\n"
   ]
  },
  {
   "cell_type": "code",
   "execution_count": 23,
   "metadata": {},
   "outputs": [
    {
     "name": "stdout",
     "output_type": "stream",
     "text": [
      " Hello, Jonas Jonaitis, Have a nice day!\n",
      "None\n",
      " Hello, Jonas Jonaitis, Have a great day\n",
      "None\n"
     ]
    }
   ],
   "source": [
    "def text(name, surname, text1 = \"Have a nice day!\", ** kwargs):\n",
    "    print(f\" Hello, {name} {surname}, {text1}\")\n",
    "print(text(\"Jonas\", \"Jonaitis\"))\n",
    "print(text(\"Jonas\", \"Jonaitis\", \"Have a great day\"))\n"
   ]
  },
  {
   "cell_type": "code",
   "execution_count": 29,
   "metadata": {},
   "outputs": [],
   "source": [
    "def text(name, surname, text1 = \"Have a nice day!\", ** kwargs):\n",
    "    print(f\" Hello, {name} {surname}, {text1}\")\n",
    "    if 'seasons' in kwargs.keys():\n",
    "        print (f\"{kwargs['seasons']} is so beutiful\")\n",
    "\n",
    "\n"
   ]
  },
  {
   "cell_type": "code",
   "execution_count": 35,
   "metadata": {},
   "outputs": [
    {
     "name": "stdout",
     "output_type": "stream",
     "text": [
      " Hello, Jonas Jonaitis, Have a nice day!\n",
      " Hello, Jonas Jonaitis, Have a great day\n",
      " Hello, Jonas Jonaitis, Have a great day\n",
      "summer is so beutiful\n",
      " Hello, Jonas Jonaitis, Have a nice day!\n",
      "summer is so beutiful\n"
     ]
    }
   ],
   "source": [
    "text(\"Jonas\", \"Jonaitis\")\n",
    "text(\"Jonas\", \"Jonaitis\", \"Have a great day\")\n",
    "text(\"Jonas\", \"Jonaitis\", \"Have a great day\", seasons = \"summer\")\n",
    "text(\"Jonas\", \"Jonaitis\", seasons = \"summer\")\n"
   ]
  },
  {
   "cell_type": "code",
   "execution_count": 2,
   "metadata": {},
   "outputs": [],
   "source": [
    "def say_hello (name):\n",
    "    print(f\"Hello, {name}!\")\n"
   ]
  },
  {
   "cell_type": "code",
   "execution_count": 5,
   "metadata": {},
   "outputs": [
    {
     "name": "stdout",
     "output_type": "stream",
     "text": [
      "Hello, Martynas!\n",
      "None\n"
     ]
    }
   ],
   "source": [
    "say_hello1 = say_hello\n",
    "print(say_hello1(\"Martynas\"))"
   ]
  },
  {
   "cell_type": "markdown",
   "metadata": {},
   "source": [
    "# užduotys su function"
   ]
  },
  {
   "cell_type": "code",
   "execution_count": 11,
   "metadata": {},
   "outputs": [
    {
     "name": "stdout",
     "output_type": "stream",
     "text": [
      "12\n",
      "2.0\n"
     ]
    }
   ],
   "source": [
    "def two_numbers(num1, num2):\n",
    "    if (num1 + num2) % 2 == 0:\n",
    "        result = num1*num2\n",
    "    if (num1 + num2) % 2 != 0:\n",
    "        result = num1/num2\n",
    "    return result\n",
    "print(two_numbers (6, 2))\n",
    "print(two_numbers (10, 5))\n"
   ]
  },
  {
   "cell_type": "code",
   "execution_count": 12,
   "metadata": {},
   "outputs": [],
   "source": [
    "def two_numbers(num1, num2):\n",
    "    if (num1 + num2) % 2 == 0:\n",
    "        result = num1*num2\n",
    "        return result\n",
    "    if (num1 + num2) % 2 != 0:\n",
    "        result = num1/num2\n",
    "        return result"
   ]
  },
  {
   "cell_type": "code",
   "execution_count": 13,
   "metadata": {},
   "outputs": [
    {
     "name": "stdout",
     "output_type": "stream",
     "text": [
      "12\n",
      "2.0\n"
     ]
    }
   ],
   "source": [
    "print(two_numbers (6, 2))\n",
    "print(two_numbers (10, 5))"
   ]
  },
  {
   "cell_type": "code",
   "execution_count": 4,
   "metadata": {},
   "outputs": [],
   "source": [
    "def hello_to(name):\n",
    "    if isinstance(name, str):\n",
    "        print(f\"Hello, {name}!\")\n",
    "    else:\n",
    "        print(\"provided argument is not string\")\n"
   ]
  },
  {
   "cell_type": "code",
   "execution_count": 6,
   "metadata": {},
   "outputs": [
    {
     "name": "stdout",
     "output_type": "stream",
     "text": [
      "provided argument is not string\n",
      "None\n",
      "Hello, Martynas!\n",
      "None\n"
     ]
    }
   ],
   "source": [
    "hello_to_name = hello_to\n",
    "print(hello_to_name(65656))\n",
    "print(hello_to_name(\"Martynas\"))"
   ]
  },
  {
   "cell_type": "code",
   "execution_count": 11,
   "metadata": {},
   "outputs": [],
   "source": [
    "def mano_funkcija(*args):\n",
    "    result_dict={}\n",
    "    for x in range(1, 11):\n",
    "        result_dict[x] = 0\n",
    "        print(result_dict)\n",
    "        for arg in args:\n",
    "            if arg % x == 0:\n",
    "                result_dict[x] = result_dict[x] + 1\n",
    "    return result_dict\n",
    "\n"
   ]
  },
  {
   "cell_type": "code",
   "execution_count": 12,
   "metadata": {},
   "outputs": [
    {
     "name": "stdout",
     "output_type": "stream",
     "text": [
      "{1: 0}\n",
      "{1: 4, 2: 0}\n",
      "{1: 4, 2: 2, 3: 0}\n",
      "{1: 4, 2: 2, 3: 1, 4: 0}\n",
      "{1: 4, 2: 2, 3: 1, 4: 0, 5: 0}\n",
      "{1: 4, 2: 2, 3: 1, 4: 0, 5: 2, 6: 0}\n",
      "{1: 4, 2: 2, 3: 1, 4: 0, 5: 2, 6: 1, 7: 0}\n",
      "{1: 4, 2: 2, 3: 1, 4: 0, 5: 2, 6: 1, 7: 0, 8: 0}\n",
      "{1: 4, 2: 2, 3: 1, 4: 0, 5: 2, 6: 1, 7: 0, 8: 0, 9: 0}\n",
      "{1: 4, 2: 2, 3: 1, 4: 0, 5: 2, 6: 1, 7: 0, 8: 0, 9: 0, 10: 0}\n"
     ]
    },
    {
     "data": {
      "text/plain": [
       "{1: 4, 2: 2, 3: 1, 4: 0, 5: 2, 6: 1, 7: 0, 8: 0, 9: 0, 10: 1}"
      ]
     },
     "execution_count": 12,
     "metadata": {},
     "output_type": "execute_result"
    }
   ],
   "source": [
    "mano_funkcija (1, 2, 65, 30)"
   ]
  },
  {
   "cell_type": "markdown",
   "metadata": {},
   "source": [
    "# Lambda"
   ]
  },
  {
   "cell_type": "code",
   "execution_count": 18,
   "metadata": {},
   "outputs": [
    {
     "name": "stdout",
     "output_type": "stream",
     "text": [
      "Martynas\n"
     ]
    }
   ],
   "source": [
    "my_string = \"Martynas valgo pietus\"\n",
    "def my_function(x):\n",
    "    return x.split(\" \") [0]\n",
    "print(my_function(my_string))"
   ]
  },
  {
   "cell_type": "code",
   "execution_count": 19,
   "metadata": {},
   "outputs": [
    {
     "name": "stdout",
     "output_type": "stream",
     "text": [
      "Martynas\n"
     ]
    }
   ],
   "source": [
    "my_string = \"Martynas valgo pietus\"\n",
    "my_lambda = lambda x: x.split(\" \") [0]\n",
    "print(my_lambda(my_string))"
   ]
  },
  {
   "cell_type": "code",
   "execution_count": 24,
   "metadata": {},
   "outputs": [
    {
     "data": {
      "text/plain": [
       "['mes', 'tvora', 'pasaulis', 'namas', 'kupranugaris']"
      ]
     },
     "execution_count": 24,
     "metadata": {},
     "output_type": "execute_result"
    }
   ],
   "source": [
    "words = [\"pasaulis\", \"mes\", \"namas\", \"tvora\", \"kupranugaris\"]\n",
    "sorted(words, key=lambda x: len(x))\n",
    "sorted(words, key=lambda x: x.count(\"e\"))\n",
    "sorted(words, key=lambda x: x.count(\"a\"))\n",
    "\n"
   ]
  },
  {
   "cell_type": "code",
   "execution_count": 25,
   "metadata": {},
   "outputs": [
    {
     "data": {
      "text/plain": [
       "['pasaulis', 'namas', 'tvora', 'kupranugaris']"
      ]
     },
     "execution_count": 25,
     "metadata": {},
     "output_type": "execute_result"
    }
   ],
   "source": [
    "list(filter(lambda x: \"a\" in x, words))"
   ]
  },
  {
   "cell_type": "markdown",
   "metadata": {},
   "source": [
    "# While loop\n"
   ]
  },
  {
   "cell_type": "code",
   "execution_count": null,
   "metadata": {},
   "outputs": [],
   "source": [
    "x = 0\n",
    "while x<5:\n",
    "    print(x)"
   ]
  }
 ],
 "metadata": {
  "kernelspec": {
   "display_name": "Python 3.10.6 64-bit",
   "language": "python",
   "name": "python3"
  },
  "language_info": {
   "codemirror_mode": {
    "name": "ipython",
    "version": 3
   },
   "file_extension": ".py",
   "mimetype": "text/x-python",
   "name": "python",
   "nbconvert_exporter": "python",
   "pygments_lexer": "ipython3",
   "version": "3.10.6"
  },
  "orig_nbformat": 4,
  "vscode": {
   "interpreter": {
    "hash": "aee8b7b246df8f9039afb4144a1f6fd8d2ca17a180786b69acc140d282b71a49"
   }
  }
 },
 "nbformat": 4,
 "nbformat_minor": 2
}
