{
 "cells": [
  {
   "cell_type": "markdown",
   "metadata": {},
   "source": [
    "# 1. Parašykite funkciją, kuri priims string tipo kintamąjį, gražinkite kiek tame stringę yra raidžių, skaičių ir skyrybos (specialių) ženklų, tarpų.\n",
    "# priims stringa\n",
    "# for loop kiekvienam simboliui stringe\n",
    "# ar simbolis yra skaičius/raidė/tarpas/nei tas nei tas +=1\n",
    "# gražinsime f stringą - “raidžiu yra: {raidziu_suma}…”\n",
    "# #Pavyzdys:simboliu_ieskotojas('vienas 2 ??’) \n",
    "\n",
    "# ->\n",
    "# Raidziu yra 6, skaiciu yra 1, simboliu yra 2, tarpu yra 2"
   ]
  },
  {
   "cell_type": "code",
   "execution_count": 1,
   "metadata": {},
   "outputs": [
    {
     "name": "stdout",
     "output_type": "stream",
     "text": [
      "Tarpų yra 4, raidžių yra 11, skaičių yra 3, kitų simbolių yra 4.\n"
     ]
    }
   ],
   "source": [
    "def string_function (string):\n",
    "    count_letters = 0\n",
    "    count_gaps = 0\n",
    "    count_numbers = 0\n",
    "    left_symbols = 0\n",
    "    for symbol in string:\n",
    "        if symbol == (\" \"):\n",
    "            count_gaps = count_gaps + 1\n",
    "        elif symbol.isalpha():\n",
    "            count_letters = count_letters + 1\n",
    "        elif symbol.isdigit():\n",
    "            count_numbers = count_numbers + 1\n",
    "        else:\n",
    "            left_symbols = left_symbols + 1\n",
    "    print(f\"Tarpų yra {count_gaps}, raidžių yra {count_letters}, skaičių yra {count_numbers}, kitų simbolių yra {left_symbols}.\")\n",
    "string_function (\"Martynas kal2!? 2 += 5\")\n",
    "\n",
    "\n"
   ]
  },
  {
   "cell_type": "markdown",
   "metadata": {},
   "source": [
    "# 2.Parašykite funkciją, kuri priima tris skaičius, jie reikš nuo, iki ir žingsnis. Funkcija turi grąžinti listą skaičių tokių, kokius padavėte funkcijai\n",
    "\n",
    "\n",
    "# print(skaiciuKurejas(10,100,5)) ->\n",
    "# [10, 15, 20, 25, 30, 35, 40, 45, 50, 55, 60, 65, 70, 75, 80, 85, 90, 95]"
   ]
  },
  {
   "cell_type": "code",
   "execution_count": 2,
   "metadata": {},
   "outputs": [
    {
     "name": "stdout",
     "output_type": "stream",
     "text": [
      "[10, 15, 20, 25, 30, 35, 40, 45, 50, 55, 60, 65, 70, 75, 80, 85, 90, 95]\n"
     ]
    }
   ],
   "source": [
    "def make_list(num1, num2, num3):\n",
    "    list1=list(range(num1, num2, num3))\n",
    "    print(list1)\n",
    "make_list(10, 100, 5)"
   ]
  },
  {
   "cell_type": "markdown",
   "metadata": {},
   "source": [
    "# 3. Parašyti funkciją, kuri priima vieną list tipo kintamąjį, funkcija grąžina skirtumą tarp didžiausio skaičiaus ir mažiausio skaičiaus.\n",
    "\n",
    "\n",
    "# myFunction([1, 5, 6, 10, 4])\n",
    "\n",
    "# ATS: 9 , nes max yra 10, o min yra 1"
   ]
  },
  {
   "cell_type": "code",
   "execution_count": 3,
   "metadata": {},
   "outputs": [
    {
     "data": {
      "text/plain": [
       "9"
      ]
     },
     "execution_count": 3,
     "metadata": {},
     "output_type": "execute_result"
    }
   ],
   "source": [
    "def list_function(list1):\n",
    "    largest_number = max(list1)\n",
    "    smallest_number = min(list1)\n",
    "    #print(largest_number)\n",
    "    #print(smallest_number)\n",
    "    result = largest_number - smallest_number\n",
    "    return result\n",
    "list_function([1, 5, 6, 10, 4])"
   ]
  }
 ],
 "metadata": {
  "kernelspec": {
   "display_name": "Python 3.10.6 64-bit",
   "language": "python",
   "name": "python3"
  },
  "language_info": {
   "codemirror_mode": {
    "name": "ipython",
    "version": 3
   },
   "file_extension": ".py",
   "mimetype": "text/x-python",
   "name": "python",
   "nbconvert_exporter": "python",
   "pygments_lexer": "ipython3",
   "version": "3.10.6"
  },
  "orig_nbformat": 4,
  "vscode": {
   "interpreter": {
    "hash": "aee8b7b246df8f9039afb4144a1f6fd8d2ca17a180786b69acc140d282b71a49"
   }
  }
 },
 "nbformat": 4,
 "nbformat_minor": 2
}
