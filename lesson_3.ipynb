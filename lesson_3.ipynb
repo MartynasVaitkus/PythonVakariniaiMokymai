{
 "cells": [
  {
   "cell_type": "markdown",
   "metadata": {},
   "source": [
    "# list/ mutable and immutable variables"
   ]
  },
  {
   "cell_type": "code",
   "execution_count": 3,
   "metadata": {},
   "outputs": [
    {
     "name": "stdout",
     "output_type": "stream",
     "text": [
      "4457922800\n",
      "4457922800\n",
      "4457922800\n",
      "4457922960\n"
     ]
    }
   ],
   "source": [
    "# immutable variables\n",
    "a = 1\n",
    "b = a\n",
    "print(id(a))\n",
    "print(id(b))\n",
    "b += 5\n",
    "print(id(a))\n",
    "print(id(b))\n",
    "miestai = [\"Vilnius\", \"Kaunas\",\"Pasvalys\"]\n"
   ]
  },
  {
   "cell_type": "code",
   "execution_count": 6,
   "metadata": {},
   "outputs": [
    {
     "name": "stdout",
     "output_type": "stream",
     "text": [
      "4583727552\n",
      "4583727552\n",
      "4583727552\n",
      "4583727552\n",
      "[1, 2, 3, 10]\n",
      "[1, 2, 3, 10]\n"
     ]
    }
   ],
   "source": [
    "# mutable variables\n",
    "a = [1, 2, 3,]\n",
    "b = a\n",
    "print(id(a))\n",
    "print(id(b))\n",
    "b.append(10)\n",
    "print(id(a))\n",
    "print(id(b))\n",
    "print((a))\n",
    "print((b))"
   ]
  },
  {
   "cell_type": "code",
   "execution_count": 7,
   "metadata": {},
   "outputs": [
    {
     "name": "stdout",
     "output_type": "stream",
     "text": [
      "4583728000\n",
      "4583593024\n",
      "4583728000\n",
      "4583593024\n",
      "[1, 2, 3]\n",
      "[1, 2, 3, 10]\n"
     ]
    }
   ],
   "source": [
    "# fixing mutable variables #1\n",
    "a = [1, 2, 3,]\n",
    "b = a.copy()\n",
    "print(id(a))\n",
    "print(id(b))\n",
    "b.append(10)\n",
    "print(id(a))\n",
    "print(id(b))\n",
    "print((a))\n",
    "print((b))"
   ]
  },
  {
   "cell_type": "code",
   "execution_count": 9,
   "metadata": {},
   "outputs": [],
   "source": [
    "# where fix #1 does not work\n",
    "\n"
   ]
  },
  {
   "cell_type": "code",
   "execution_count": 10,
   "metadata": {},
   "outputs": [
    {
     "name": "stdout",
     "output_type": "stream",
     "text": [
      "4583726400\n",
      "4583696192\n",
      "4583726400\n",
      "4583696192\n",
      "[1, 2, 3]\n",
      "[1, 2, 3, 10]\n"
     ]
    }
   ],
   "source": [
    "# fixing mutable variables #2\n",
    "import copy\n",
    "a = [1, 2, 3,]\n",
    "b = copy.deepcopy(a)\n",
    "print(id(a))\n",
    "print(id(b))\n",
    "b.append(10)\n",
    "print(id(a))\n",
    "print(id(b))\n",
    "print((a))\n",
    "print((b))"
   ]
  },
  {
   "cell_type": "markdown",
   "metadata": {},
   "source": [
    "# tuple"
   ]
  },
  {
   "cell_type": "code",
   "execution_count": 44,
   "metadata": {},
   "outputs": [
    {
     "name": "stdout",
     "output_type": "stream",
     "text": [
      "('Vilnius', 'Kaunas', 'Pasvalys', 1, 2, 3, 4)\n",
      "('Vilnius', 'Kaunas', 'Pasvalys', 1, 2, 3, 4, 10, 15)\n",
      "('Vilnius', 'Kaunas')\n",
      "1\n",
      "('Vilnius', 'Kaunas', 'Pasvalys', 1, 2, 3, 4, 10, 15)\n",
      "[222, 33]\n"
     ]
    }
   ],
   "source": [
    "tuple1 = (\"Vilnius\", \"Kaunas\",\"Pasvalys\")\n",
    "tuple2 = (1, 2, 3, 4)\n",
    "tuple3 = tuple1 + tuple2\n",
    "print (tuple3)\n",
    "tuple3 = tuple3 + (10, 15)\n",
    "print(tuple3)\n",
    "print(tuple3[0:2])\n",
    "print(tuple3.count(\"Vilnius\"))\n",
    "print (tuple3)\n",
    "\n",
    "\n"
   ]
  },
  {
   "cell_type": "code",
   "execution_count": 23,
   "metadata": {},
   "outputs": [
    {
     "name": "stdout",
     "output_type": "stream",
     "text": [
      "('Vilnius', 'Kaunas', 'Pasvalys')\n",
      "1\n"
     ]
    }
   ],
   "source": [
    "tuple1 = (\"Vilnius\", \"Kaunas\",\"Pasvalys\")\n",
    "print(tuple1)\n",
    "print(tuple1.index (\"Kaunas\"))\n"
   ]
  },
  {
   "cell_type": "code",
   "execution_count": 29,
   "metadata": {},
   "outputs": [
    {
     "name": "stdout",
     "output_type": "stream",
     "text": [
      "('Vilnius', 'Kaunas', 'Pasvalys')\n",
      "3\n",
      "True\n"
     ]
    }
   ],
   "source": [
    "tuple1 = (\"Vilnius\", \"Kaunas\",\"Pasvalys\")\n",
    "print(tuple1)\n",
    "print(len(tuple1))\n",
    "print(\"Vilnius\" in tuple1)"
   ]
  },
  {
   "cell_type": "code",
   "execution_count": 46,
   "metadata": {},
   "outputs": [
    {
     "name": "stdout",
     "output_type": "stream",
     "text": [
      "[6, [7, 8]]\n",
      "2\n",
      "8\n"
     ]
    }
   ],
   "source": [
    "my_tuple = (1, 2, ['3', 4, 5], [6, [7, (8)]])\n",
    "print(my_tuple[3])\n",
    "print(len(my_tuple[3]))\n",
    "print(my_tuple[3][1] [1])\n"
   ]
  },
  {
   "cell_type": "code",
   "execution_count": 58,
   "metadata": {},
   "outputs": [
    {
     "name": "stdout",
     "output_type": "stream",
     "text": [
      "(66, 34, 76, 5, 1, 78, 35)\n",
      "35\n",
      "(35, 78, 1, 5, 76, 34, 66)\n",
      "0\n",
      "5\n",
      "78\n"
     ]
    }
   ],
   "source": [
    "tuple1 = (66, 34, 76)\n",
    "tuple2 = (5, 1, 78, 35)\n",
    "tuple3 = tuple1 + tuple2\n",
    "print (tuple3)\n",
    "print(tuple3[-1])\n",
    "print(tuple3[::-1])\n",
    "print(tuple3.count(3))\n",
    "print(tuple3.index(78))\n",
    "print(tuple3[5])\n"
   ]
  },
  {
   "cell_type": "markdown",
   "metadata": {},
   "source": [
    "# Range"
   ]
  },
  {
   "cell_type": "code",
   "execution_count": 63,
   "metadata": {},
   "outputs": [
    {
     "name": "stdout",
     "output_type": "stream",
     "text": [
      "range(0, 10)\n",
      "[0, 1, 2, 3, 4, 5, 6, 7, 8, 9]\n",
      "[5, 6, 7, 8, 9]\n",
      "[5, 8]\n",
      "[100, 85, 70, 55, 40, 25, 10, -5, -20, -35]\n"
     ]
    }
   ],
   "source": [
    "print(range(10))\n",
    "print(list(range(10)))\n",
    "print(list(range(5, 10)))\n",
    "print(list(range(5, 10, 3)))\n",
    "print(list(range(100, -50, -15)))\n",
    "\n"
   ]
  },
  {
   "cell_type": "markdown",
   "metadata": {},
   "source": [
    "# for loop deklaracija"
   ]
  },
  {
   "cell_type": "code",
   "execution_count": 72,
   "metadata": {},
   "outputs": [
    {
     "name": "stdout",
     "output_type": "stream",
     "text": [
      "Vilnius\n",
      "praejo viennas ciklas\n",
      "Kaunas\n",
      "praejo viennas ciklas\n",
      "Pasvalys\n",
      "praejo viennas ciklas\n",
      "pabaiga\n"
     ]
    }
   ],
   "source": [
    "miestai = [\"Vilnius\", \"Kaunas\", \"Pasvalys\"]\n",
    "for miestas in miestai:\n",
    "    print(miestas)\n",
    "    print(\"praejo viennas ciklas\")\n",
    "print(\"pabaiga\")"
   ]
  },
  {
   "cell_type": "code",
   "execution_count": 73,
   "metadata": {},
   "outputs": [
    {
     "name": "stdout",
     "output_type": "stream",
     "text": [
      "1\n",
      "4\n",
      "7\n",
      "10\n",
      "13\n",
      "16\n",
      "19\n",
      "22\n",
      "25\n",
      "28\n",
      "31\n"
     ]
    }
   ],
   "source": [
    "for number in range (1, 34, 3):\n",
    "    print (number)\n"
   ]
  },
  {
   "cell_type": "code",
   "execution_count": 74,
   "metadata": {},
   "outputs": [
    {
     "name": "stdout",
     "output_type": "stream",
     "text": [
      "165\n",
      "654\n",
      "1086\n",
      "galutine suma: 1086\n"
     ]
    }
   ],
   "source": [
    "sarašas = [165, 489, 432]\n",
    "suma = 0\n",
    "for skaicius in sarašas:\n",
    "    suma+=skaicius\n",
    "    print(suma)\n",
    "print(f\"galutine suma: {suma}\")"
   ]
  },
  {
   "cell_type": "code",
   "execution_count": null,
   "metadata": {},
   "outputs": [],
   "source": [
    "input()"
   ]
  },
  {
   "cell_type": "code",
   "execution_count": 79,
   "metadata": {},
   "outputs": [
    {
     "name": "stdout",
     "output_type": "stream",
     "text": [
      "range(0, 11)\n",
      "0\n",
      "1\n",
      "2\n",
      "3\n",
      "4\n",
      "5\n",
      "6\n",
      "7\n",
      "8\n",
      "9\n",
      "10\n"
     ]
    }
   ],
   "source": [
    "\n",
    "print(range(0,11))\n",
    "for x in range(0,11):\n",
    "    print(x)\n"
   ]
  },
  {
   "cell_type": "code",
   "execution_count": 26,
   "metadata": {},
   "outputs": [
    {
     "name": "stdout",
     "output_type": "stream",
     "text": [
      "8\n",
      "16\n",
      "24\n",
      "32\n",
      "40\n",
      "48\n",
      "56\n",
      "64\n",
      "72\n",
      "80\n"
     ]
    }
   ],
   "source": [
    "ivestis = input (\"pasirinkite skaiciu\")\n",
    "sarasas = (1, 2, 3, 4, 5, 6, 7, 8, 9, 10)\n",
    "\n",
    "for x in sarasas:\n",
    "    x*=int(ivestis)\n",
    "    print(x)\n"
   ]
  },
  {
   "cell_type": "code",
   "execution_count": 9,
   "metadata": {},
   "outputs": [
    {
     "name": "stdout",
     "output_type": "stream",
     "text": [
      "165\n",
      "654\n",
      "1086\n",
      "galutine suma: 1086\n"
     ]
    }
   ],
   "source": [
    "sarašas = [165, 489, 432]\n",
    "suma = 0\n",
    "for skaicius in sarašas:\n",
    "    suma+=skaicius\n",
    "    print(suma)\n",
    "print(f\"galutine suma: {suma}\")"
   ]
  },
  {
   "cell_type": "markdown",
   "metadata": {},
   "source": [
    "# if deklaracija"
   ]
  },
  {
   "cell_type": "code",
   "execution_count": null,
   "metadata": {},
   "outputs": [],
   "source": []
  }
 ],
 "metadata": {
  "kernelspec": {
   "display_name": "Python 3.10.6 64-bit",
   "language": "python",
   "name": "python3"
  },
  "language_info": {
   "codemirror_mode": {
    "name": "ipython",
    "version": 3
   },
   "file_extension": ".py",
   "mimetype": "text/x-python",
   "name": "python",
   "nbconvert_exporter": "python",
   "pygments_lexer": "ipython3",
   "version": "3.10.6"
  },
  "orig_nbformat": 4,
  "vscode": {
   "interpreter": {
    "hash": "aee8b7b246df8f9039afb4144a1f6fd8d2ca17a180786b69acc140d282b71a49"
   }
  }
 },
 "nbformat": 4,
 "nbformat_minor": 2
}
