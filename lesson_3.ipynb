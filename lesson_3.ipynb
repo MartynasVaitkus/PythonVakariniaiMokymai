{
 "cells": [
  {
   "cell_type": "markdown",
   "metadata": {},
   "source": [
    "# list/ mutable and immutable variables"
   ]
  },
  {
   "cell_type": "code",
   "execution_count": 2,
   "metadata": {},
   "outputs": [
    {
     "name": "stdout",
     "output_type": "stream",
     "text": [
      "4395548912\n",
      "4395548912\n",
      "1\n",
      "6\n",
      "4395548912\n",
      "4395549072\n"
     ]
    }
   ],
   "source": [
    "# immutable variables\n",
    "a = 1\n",
    "b = a\n",
    "print(id(a))\n",
    "print(id(b))\n",
    "b += 5\n",
    "print(a)\n",
    "print(b)\n",
    "print(id(a))\n",
    "print(id(b))\n",
    "\n"
   ]
  },
  {
   "cell_type": "code",
   "execution_count": 4,
   "metadata": {},
   "outputs": [
    {
     "name": "stdout",
     "output_type": "stream",
     "text": [
      "4521921024\n",
      "4521921024\n",
      "[1, 2, 3, 4]\n",
      "[1, 2, 3, 4]\n",
      "4521921024\n",
      "4521921024\n"
     ]
    }
   ],
   "source": [
    "# mutable variables, kai kalbama apie \"List\"\n",
    "a = [1, 2, 3,]\n",
    "b = a\n",
    "print(id(a))\n",
    "print(id(b))\n",
    "b.append(4)\n",
    "print((a))\n",
    "print((b))\n",
    "print(id(a))\n",
    "print(id(b))\n",
    "\n"
   ]
  },
  {
   "cell_type": "code",
   "execution_count": 4,
   "metadata": {},
   "outputs": [
    {
     "name": "stdout",
     "output_type": "stream",
     "text": [
      "4543886464\n",
      "4544006784\n",
      "4543886464\n",
      "4544006784\n",
      "[1, 2, 3]\n",
      "[1, 2, 3, 10]\n"
     ]
    }
   ],
   "source": [
    "# fixing mutable variables #1\n",
    "a = [1, 2, 3] \n",
    "b = a.copy() # \"copy\" reiškia, jog padaroma \"negyli\" (shallow) sąrašo \"a\" kopija\n",
    "print(id(a))\n",
    "print(id(b))\n",
    "b.append(10)\n",
    "print(id(a))\n",
    "print(id(b))\n",
    "print((a))\n",
    "print((b))"
   ]
  },
  {
   "cell_type": "code",
   "execution_count": 8,
   "metadata": {},
   "outputs": [
    {
     "name": "stdout",
     "output_type": "stream",
     "text": [
      "[1, 2, ['a', 'b']]\n",
      "[1, 2, ['a', 'b']]\n",
      "4544001984\n",
      "4544006784\n",
      "4544001984\n",
      "4544006784\n",
      "[1, 2, ['a', 'b', 'c']]\n",
      "[1, 2, ['a', 'b', 'c']]\n"
     ]
    }
   ],
   "source": [
    "# where fix #1 does not work\n",
    "a = [1, 2, [\"a\", \"b\"] ]\n",
    "b = a.copy() \n",
    "print((a))\n",
    "print((b))\n",
    "print(id(a))\n",
    "print(id(b))\n",
    "b [-1].append(\"c\")\n",
    "print(id(a)) #matome, kad \"a\" ir \"b\" kintamųjų adresai yra skirtingi, bet prie abiejų sąrašų buvo pridėta raidė \"c\". \"a\" ir \"b\" yra surišti.\n",
    "# paaiškinimas toks: \"copy\" nukopijuoja tik viršutinį sąrašą, tačiau jei to sąrašo viduje yra dar vienas sąrašas, tai pastarojo kopijos nepadaro.\n",
    "print(id(b))\n",
    "print((a))\n",
    "print((b))\n",
    "\n"
   ]
  },
  {
   "cell_type": "code",
   "execution_count": 11,
   "metadata": {},
   "outputs": [
    {
     "name": "stdout",
     "output_type": "stream",
     "text": [
      "4544100608\n",
      "4544102336\n",
      "4544100608\n",
      "4544102336\n",
      "[1, 2, ['a', 'b']]\n",
      "[1, 2, ['a', 'b', 'c']]\n"
     ]
    }
   ],
   "source": [
    "# fixing mutable variables #2\n",
    "import copy # import komanda reiškia, kad \"atsinešame\" biblioteką, kurioje yra funkcijos (šiuo atveju biblioteka yra \"copy\", o per tašką pasiekiame visą copy biliotekos funkcijų sąrašą(pvz., \"deepcopy\"))\n",
    "a = [1, 2, [\"a\", \"b\"]]\n",
    "b = copy.deepcopy(a) # \"deepcopy\" reiškia, kad nukopijuos viskas, kas bus pateikta.\n",
    "print(id(a))\n",
    "print(id(b))\n",
    "b [-1].append(\"c\")\n",
    "print(id(a))\n",
    "print(id(b))\n",
    "print((a))\n",
    "print((b))"
   ]
  },
  {
   "cell_type": "markdown",
   "metadata": {},
   "source": [
    "# tuple"
   ]
  },
  {
   "cell_type": "code",
   "execution_count": 16,
   "metadata": {},
   "outputs": [
    {
     "name": "stdout",
     "output_type": "stream",
     "text": [
      "('Vilnius', 'Kaunas', 'Pasvalys', 1, 2, 3, 4)\n",
      "7\n",
      "1\n",
      "('Vilnius', 'Kaunas')\n",
      "1\n",
      "True\n"
     ]
    }
   ],
   "source": [
    "tuple1 = (\"Vilnius\", \"Kaunas\",\"Pasvalys\")\n",
    "tuple2 = (1, 2, 3, 4)\n",
    "tuple3 = tuple1 + tuple2\n",
    "print (tuple3)\n",
    "print(len(tuple3))\n",
    "print(tuple3.index(\"Kaunas\"))\n",
    "print(tuple3[0:2])\n",
    "print(tuple3.count(\"Vilnius\"))\n",
    "print (\"Vilnius\" in tuple3)\n",
    "\n",
    "\n"
   ]
  },
  {
   "cell_type": "code",
   "execution_count": 70,
   "metadata": {},
   "outputs": [
    {
     "name": "stdout",
     "output_type": "stream",
     "text": [
      "<class 'str'>\n",
      "<class 'tuple'>\n",
      "<class 'tuple'>\n"
     ]
    }
   ],
   "source": [
    "my_tuple = (\"hello\")\n",
    "print(type(my_tuple))  # <class 'str'>\n",
    "\n",
    "# Creating a tuple having one element\n",
    "my_tuple = (\"hello\",)\n",
    "print(type(my_tuple))  # <class 'tuple'>\n",
    "\n",
    "# Parentheses is optional\n",
    "my_tuple = \"hello\",\n",
    "print(type(my_tuple))  # <class 'tuple'>"
   ]
  },
  {
   "cell_type": "code",
   "execution_count": 72,
   "metadata": {},
   "outputs": [
    {
     "name": "stdout",
     "output_type": "stream",
     "text": [
      "('p', 'r', 'o', 'g', 'r', 'a', 'm', 'i', 'z')\n"
     ]
    }
   ],
   "source": [
    "# Accessing tuple elements using slicing\n",
    "my_tuple = ('p','r','o','g','r','a','m','i','z')\n",
    "# elements beginning to end\n",
    "# Output: ('p', 'r', 'o', 'g', 'r', 'a', 'm', 'i', 'z')\n",
    "print(my_tuple[:])\n"
   ]
  },
  {
   "cell_type": "code",
   "execution_count": 73,
   "metadata": {},
   "outputs": [
    {
     "name": "stdout",
     "output_type": "stream",
     "text": [
      "(1, 2, 3, 4, 5, 6)\n",
      "('Repeat', 'Repeat', 'Repeat')\n"
     ]
    }
   ],
   "source": [
    "# Concatenation\n",
    "# Output: (1, 2, 3, 4, 5, 6)\n",
    "print((1, 2, 3) + (4, 5, 6))\n",
    "\n",
    "# Repeat\n",
    "# Output: ('Repeat', 'Repeat', 'Repeat')\n",
    "print((\"Repeat\",) * 3)"
   ]
  },
  {
   "cell_type": "code",
   "execution_count": 62,
   "metadata": {},
   "outputs": [
    {
     "name": "stdout",
     "output_type": "stream",
     "text": [
      "('Vilnius', 'Kaunas', 'Pasvalys')\n",
      "<class 'tuple'>\n",
      "('Vilnius', 'Kaunas', 'Pasvalys', 'Palanga', 'Nida')\n",
      "('Vilnius', 'Palanga', 'Nida', 'Kaunas', 'Pasvalys')\n",
      "('Vilnius', 'Kaunas', 'Pasvalys')\n",
      "('Vilnius', 'Kaunas', 'Pasvalys', 'Palanga', 'Nida')\n",
      "Nida\n",
      "('Pasvalys', 'Palanga')\n"
     ]
    }
   ],
   "source": [
    "tuple1 = (\"Vilnius\", \"Kaunas\",\"Pasvalys\")\n",
    "print(tuple1)\n",
    "print(type(tuple1))\n",
    "print(tuple1 + (\"Palanga\", \"Nida\"))\n",
    "print(tuple1 [0:1] + (\"Palanga\", \"Nida\") + tuple1 [1:3])\n",
    "print(tuple1)\n",
    "tuple1 = tuple1 + (\"Palanga\", \"Nida\")\n",
    "print(tuple1)\n",
    "print (tuple1[4])\n",
    "print(tuple1[2:4])\n"
   ]
  },
  {
   "cell_type": "code",
   "execution_count": 28,
   "metadata": {},
   "outputs": [
    {
     "name": "stdout",
     "output_type": "stream",
     "text": [
      "1\n"
     ]
    }
   ],
   "source": [
    "tuple1 = (\"Vilnius\", \"Kaunas\",\"Pasvalys\")\n",
    "print(tuple1.count(\"Vilnius\"))"
   ]
  },
  {
   "cell_type": "code",
   "execution_count": 29,
   "metadata": {},
   "outputs": [
    {
     "name": "stdout",
     "output_type": "stream",
     "text": [
      "('Vilnius', 'Kaunas', 'Pasvalys')\n",
      "1\n",
      "2\n"
     ]
    }
   ],
   "source": [
    "tuple1 = (\"Vilnius\", \"Kaunas\",\"Pasvalys\")\n",
    "print(tuple1)\n",
    "print(tuple1.index (\"Kaunas\"))\n",
    "print(tuple1.index(\"Pasvalys\"))\n"
   ]
  },
  {
   "cell_type": "code",
   "execution_count": 29,
   "metadata": {},
   "outputs": [
    {
     "name": "stdout",
     "output_type": "stream",
     "text": [
      "('Vilnius', 'Kaunas', 'Pasvalys')\n",
      "3\n",
      "True\n"
     ]
    }
   ],
   "source": [
    "tuple1 = (\"Vilnius\", \"Kaunas\",\"Pasvalys\")\n",
    "print(tuple1)\n",
    "print(len(tuple1))\n",
    "print(\"Vilnius\" in tuple1)"
   ]
  },
  {
   "cell_type": "markdown",
   "metadata": {},
   "source": [
    "# užduotys su tuple"
   ]
  },
  {
   "cell_type": "code",
   "execution_count": 3,
   "metadata": {},
   "outputs": [
    {
     "name": "stdout",
     "output_type": "stream",
     "text": [
      "(1, 2, ['3', 4, 5], [6, [7, 8]])\n",
      "['3', 4, 5]\n",
      "4\n",
      "[6, [7, 8]]\n",
      "[7, 8]\n",
      "8\n"
     ]
    }
   ],
   "source": [
    "my_tuple = (1, 2, ['3', 4, 5], [6, [7, 8]])\n",
    "print(my_tuple)\n",
    "print(my_tuple[-2])\n",
    "print(my_tuple[-2][1])\n",
    "print(my_tuple[-1])\n",
    "print(my_tuple[-1][1])\n",
    "print(my_tuple[-1][1][1])"
   ]
  },
  {
   "cell_type": "code",
   "execution_count": 11,
   "metadata": {},
   "outputs": [
    {
     "name": "stdout",
     "output_type": "stream",
     "text": [
      "[11, [222, 33], 44, 55]\n",
      "[11, [222, 22], 44, 55]\n",
      "(11, [222, 22], 44, 55)\n"
     ]
    }
   ],
   "source": [
    "\n",
    "tuple1 = (11, [222, 33], 44, 55)\n",
    "tuple1 = list(tuple1)\n",
    "print(tuple1)\n",
    "tuple1[1]=[222,22]\n",
    "print(tuple1)\n",
    "tuple1 = tuple(tuple1)\n",
    "print(tuple1)\n",
    "\n"
   ]
  },
  {
   "cell_type": "code",
   "execution_count": 9,
   "metadata": {},
   "outputs": [
    {
     "name": "stdout",
     "output_type": "stream",
     "text": [
      "[222, 33]\n",
      "(11, [222, 22], 44, 55)\n"
     ]
    }
   ],
   "source": [
    "tuple1 = (11, [222, 33], 44, 55)\n",
    "print(tuple1 [1])\n",
    "tuple1[1][1] = 22\n",
    "print(tuple1)"
   ]
  },
  {
   "cell_type": "code",
   "execution_count": 4,
   "metadata": {},
   "outputs": [
    {
     "name": "stdout",
     "output_type": "stream",
     "text": [
      "(66, 34, 76, 5, 1, 78, 35)\n",
      "[66, 34, 76, 5, 1, 78, 35]\n",
      "35\n",
      "[66, 34, 76, 5, 1, 78]\n",
      "[1, 5, 34, 66, 76, 78]\n",
      "(1, 5, 34, 66, 76, 78)\n",
      "1\n"
     ]
    }
   ],
   "source": [
    "tuple1 = (66, 34, 76)\n",
    "tuple2 = (5, 1, 78, 35)\n",
    "tuple3 = tuple1 + tuple2\n",
    "print (tuple3)\n",
    "tuple3 = list(tuple3)\n",
    "print(tuple3)\n",
    "print(tuple3.pop())\n",
    "print(tuple3)\n",
    "tuple3.sort()\n",
    "print(tuple3)\n",
    "tuple3 = tuple(tuple3)\n",
    "print(tuple3)\n",
    "print(tuple3.count(5))\n",
    "\n"
   ]
  },
  {
   "cell_type": "markdown",
   "metadata": {},
   "source": [
    "# Range"
   ]
  },
  {
   "cell_type": "code",
   "execution_count": 1,
   "metadata": {},
   "outputs": [
    {
     "name": "stdout",
     "output_type": "stream",
     "text": [
      "range(0, 10)\n",
      "[0, 1, 2, 3, 4, 5, 6, 7, 8, 9]\n",
      "[5, 6, 7, 8, 9]\n",
      "[5, 7, 9]\n"
     ]
    }
   ],
   "source": [
    "print(range(10)) # norint išgauti visą skaičių seką, reikia \"range\" konvertuoti į kitą duomenų tipą, pvz., \"list\"\n",
    "print(list(range(10))) # pastebėk, kaip seka prasideda ir kaip baigiasi\n",
    "print(list(range(5, 10)))\n",
    "print(list(range(5, 10, 2)))\n",
    "\n",
    "\n",
    "\n",
    "\n",
    "\n"
   ]
  },
  {
   "cell_type": "code",
   "execution_count": 2,
   "metadata": {},
   "outputs": [
    {
     "name": "stdout",
     "output_type": "stream",
     "text": [
      "[100, 85, 70, 55, 40, 25, 10, -5, -20, -35]\n"
     ]
    }
   ],
   "source": [
    "range(100, -50, 15)\n",
    "print(list(range(100, -50, -15)))"
   ]
  },
  {
   "cell_type": "code",
   "execution_count": 8,
   "metadata": {},
   "outputs": [
    {
     "name": "stdout",
     "output_type": "stream",
     "text": [
      "0\n",
      "1\n",
      "2\n",
      "3\n",
      "4\n",
      "5\n",
      "6\n",
      "7\n",
      "8\n",
      "9\n",
      "[0, 1, 2, 3, 4, 5, 6, 7, 8, 9]\n"
     ]
    }
   ],
   "source": [
    "number = range(10)\n",
    "list1=[]\n",
    "for x in number:\n",
    "    print(x)\n",
    "    list1.append(x)\n",
    "print(list1)"
   ]
  },
  {
   "cell_type": "code",
   "execution_count": 12,
   "metadata": {},
   "outputs": [
    {
     "name": "stdout",
     "output_type": "stream",
     "text": [
      "2 eurai\n",
      "3 eurai\n",
      "4 eurai\n",
      "5 eurai\n"
     ]
    }
   ],
   "source": [
    "for x in range(2, 6):\n",
    "    print(x, \"eurai\")"
   ]
  },
  {
   "cell_type": "code",
   "execution_count": 5,
   "metadata": {},
   "outputs": [
    {
     "name": "stdout",
     "output_type": "stream",
     "text": [
      "[0, 1, 2, 3, 4, 5, 6, 7, 8, 9]\n"
     ]
    }
   ],
   "source": [
    "number = range(10)\n",
    "print(list(range(10)))"
   ]
  },
  {
   "cell_type": "markdown",
   "metadata": {},
   "source": [
    "# for loop deklaracija"
   ]
  },
  {
   "cell_type": "code",
   "execution_count": 16,
   "metadata": {},
   "outputs": [
    {
     "name": "stdout",
     "output_type": "stream",
     "text": [
      "0\n",
      "1\n",
      "5\n",
      "No items left.\n"
     ]
    }
   ],
   "source": [
    "digits = [0, 1, 5]\n",
    "\n",
    "for i in digits:\n",
    "    print(i)\n",
    "else:\n",
    "    print(\"No items left.\")"
   ]
  },
  {
   "cell_type": "code",
   "execution_count": 15,
   "metadata": {},
   "outputs": [
    {
     "name": "stdout",
     "output_type": "stream",
     "text": [
      "I like pop\n",
      "I like rock\n",
      "I like jazz\n"
     ]
    }
   ],
   "source": [
    "# Program to iterate through a list using indexing\n",
    "\n",
    "genre = ['pop', 'rock', 'jazz']\n",
    "\n",
    "# iterate over the list using index\n",
    "for i in range(len(genre)):\n",
    "    print(\"I like\", genre[i])"
   ]
  },
  {
   "cell_type": "code",
   "execution_count": 8,
   "metadata": {},
   "outputs": [
    {
     "name": "stdout",
     "output_type": "stream",
     "text": [
      "Vilnius\n",
      "Vilnius yra gražus miestas\n",
      "Kaunas\n",
      "Kaunas yra gražus miestas\n",
      "Pasvalys\n",
      "Pasvalys yra gražus miestas\n"
     ]
    }
   ],
   "source": [
    "miestai = [\"Vilnius\", \"Kaunas\", \"Pasvalys\"]\n",
    "for x in miestai:\n",
    "    print(x)\n",
    "    print (f\"{x} yra gražus miestas\")"
   ]
  },
  {
   "cell_type": "code",
   "execution_count": 9,
   "metadata": {},
   "outputs": [
    {
     "name": "stdout",
     "output_type": "stream",
     "text": [
      "Vilnius yra gražus miestas\n",
      "Kaunas yra gražus miestas\n",
      "Pasvalys yra gražus miestas\n"
     ]
    }
   ],
   "source": [
    "miestai = [\"Vilnius\", \"Kaunas\", \"Pasvalys\"]\n",
    "for x in miestai:\n",
    "    print (f\"{x} yra gražus miestas\")"
   ]
  },
  {
   "cell_type": "code",
   "execution_count": 72,
   "metadata": {},
   "outputs": [
    {
     "name": "stdout",
     "output_type": "stream",
     "text": [
      "Vilnius\n",
      "praejo viennas ciklas\n",
      "Kaunas\n",
      "praejo viennas ciklas\n",
      "Pasvalys\n",
      "praejo viennas ciklas\n",
      "pabaiga\n"
     ]
    }
   ],
   "source": [
    "miestai = [\"Vilnius\", \"Kaunas\", \"Pasvalys\"]\n",
    "for miestas in miestai:\n",
    "    print(miestas)\n",
    "    print(\"praejo viennas ciklas\")\n",
    "print(\"pabaiga\")"
   ]
  },
  {
   "cell_type": "code",
   "execution_count": 11,
   "metadata": {},
   "outputs": [
    {
     "name": "stdout",
     "output_type": "stream",
     "text": [
      "10\n",
      "12\n",
      "14\n",
      "16\n",
      "18\n"
     ]
    }
   ],
   "source": [
    "for x in range (10, 20, 2):\n",
    "    print(x)\n"
   ]
  },
  {
   "cell_type": "code",
   "execution_count": 17,
   "metadata": {},
   "outputs": [
    {
     "name": "stdout",
     "output_type": "stream",
     "text": [
      "2\n",
      "3\n",
      "4\n"
     ]
    }
   ],
   "source": [
    "sarašas = [1, 2, 3]\n",
    "for x in sarašas:\n",
    "    suma = x+1\n",
    "    print(suma)\n"
   ]
  },
  {
   "cell_type": "code",
   "execution_count": 7,
   "metadata": {},
   "outputs": [
    {
     "name": "stdout",
     "output_type": "stream",
     "text": [
      "1\n",
      "4\n",
      "2\n",
      "4\n",
      "3\n",
      "4\n"
     ]
    }
   ],
   "source": [
    "sarašas = [1, 2, 3]\n",
    "suma= x+1\n",
    "for x in sarašas:\n",
    "    print(x)\n",
    "    print(suma)"
   ]
  },
  {
   "cell_type": "code",
   "execution_count": 19,
   "metadata": {},
   "outputs": [
    {
     "name": "stdout",
     "output_type": "stream",
     "text": [
      "3\n",
      "4\n",
      "5\n"
     ]
    }
   ],
   "source": [
    "sarašas = [1, 2, 3]\n",
    "for x in sarašas:\n",
    "    x+=2\n",
    "    print(x)"
   ]
  },
  {
   "cell_type": "code",
   "execution_count": 6,
   "metadata": {},
   "outputs": [
    {
     "name": "stdout",
     "output_type": "stream",
     "text": [
      "2\n",
      "3\n",
      "4\n"
     ]
    }
   ],
   "source": [
    "sarašas = [1,2,3]\n",
    "for x in sarašas:\n",
    "    suma=1\n",
    "    suma+=x\n",
    "    print(suma)"
   ]
  },
  {
   "cell_type": "code",
   "execution_count": 5,
   "metadata": {},
   "outputs": [
    {
     "name": "stdout",
     "output_type": "stream",
     "text": [
      "2\n",
      "4\n",
      "7\n"
     ]
    }
   ],
   "source": [
    "\n",
    "sarašas = [1,2,3]\n",
    "suma=1\n",
    "for x in sarašas:\n",
    "    suma+=x\n",
    "    print(suma)"
   ]
  },
  {
   "cell_type": "code",
   "execution_count": 12,
   "metadata": {},
   "outputs": [
    {
     "name": "stdout",
     "output_type": "stream",
     "text": [
      "165\n",
      "654\n",
      "1086\n",
      "galutine suma: 1086\n"
     ]
    }
   ],
   "source": [
    "sarašas = [165, 489, 432]\n",
    "suma = 0\n",
    "for skaicius in sarašas:\n",
    "    suma+=skaicius\n",
    "    print(suma)\n",
    "print(f\"galutine suma: {suma}\")"
   ]
  },
  {
   "cell_type": "code",
   "execution_count": 11,
   "metadata": {},
   "outputs": [
    {
     "name": "stdout",
     "output_type": "stream",
     "text": [
      "5\n"
     ]
    }
   ],
   "source": [
    "input (\"įrašykite skaičių\")\n",
    "ivestis = input (\"įrašykite skaičių\")\n",
    "print(ivestis)\n"
   ]
  },
  {
   "cell_type": "markdown",
   "metadata": {},
   "source": [
    "# užduotys su for loop deklaracija"
   ]
  },
  {
   "cell_type": "code",
   "execution_count": 15,
   "metadata": {},
   "outputs": [
    {
     "name": "stdout",
     "output_type": "stream",
     "text": [
      "0\n",
      "1\n",
      "2\n",
      "3\n",
      "4\n",
      "5\n",
      "6\n",
      "7\n",
      "8\n",
      "9\n",
      "10\n"
     ]
    }
   ],
   "source": [
    "range(0, 11)\n",
    "for x in range(0, 11):\n",
    "    print(x)"
   ]
  },
  {
   "cell_type": "code",
   "execution_count": 19,
   "metadata": {},
   "outputs": [
    {
     "name": "stdout",
     "output_type": "stream",
     "text": [
      "1275\n"
     ]
    }
   ],
   "source": [
    "range(0, 51)\n",
    "print(sum(range(0, 51)))"
   ]
  },
  {
   "cell_type": "code",
   "execution_count": 8,
   "metadata": {},
   "outputs": [
    {
     "name": "stdout",
     "output_type": "stream",
     "text": [
      "1275\n"
     ]
    }
   ],
   "source": [
    "suma = 0\n",
    "for x in range(0, 51):\n",
    "    suma = suma+x\n",
    "print(suma)\n"
   ]
  },
  {
   "cell_type": "code",
   "execution_count": 10,
   "metadata": {},
   "outputs": [
    {
     "name": "stdout",
     "output_type": "stream",
     "text": [
      "2\n",
      "4\n",
      "6\n",
      "8\n",
      "10\n",
      "12\n",
      "14\n",
      "16\n",
      "18\n",
      "20\n"
     ]
    }
   ],
   "source": [
    "įvestis = int(input ())\n",
    "sarasas = (1, 2, 3, 4, 5, 6, 7, 8, 9, 10)\n",
    "for x in sarasas:\n",
    "    rezultatas = įvestis * x\n",
    "    print(rezultatas)\n",
    "\n"
   ]
  },
  {
   "cell_type": "code",
   "execution_count": 26,
   "metadata": {},
   "outputs": [
    {
     "name": "stdout",
     "output_type": "stream",
     "text": [
      "2\n",
      "4\n",
      "6\n",
      "8\n",
      "10\n",
      "12\n",
      "14\n",
      "16\n",
      "18\n",
      "20\n"
     ]
    }
   ],
   "source": [
    "įvestis = int(input ())\n",
    "for x in range(1, 11):\n",
    "    print(įvestis * x)"
   ]
  },
  {
   "cell_type": "code",
   "execution_count": 5,
   "metadata": {},
   "outputs": [
    {
     "name": "stdout",
     "output_type": "stream",
     "text": [
      "pirmadienis 10\n",
      "pirmadienis 11\n",
      "pirmadienis 12\n",
      "antradienis 10\n",
      "antradienis 11\n",
      "antradienis 12\n",
      "trečiadienis 10\n",
      "trečiadienis 11\n",
      "trečiadienis 12\n",
      "['pirmadienis 10', 'pirmadienis 11', 'pirmadienis 12', 'antradienis 10', 'antradienis 11', 'antradienis 12', 'trečiadienis 10', 'trečiadienis 11', 'trečiadienis 12']\n"
     ]
    }
   ],
   "source": [
    "dienos = (\"pirmadienis\", \"antradienis\", \"trečiadienis\")\n",
    "valandos = [10, 11, 12]\n",
    "list1 = []\n",
    "for x in dienos:\n",
    "    for y in valandos:\n",
    "        print(f\"{x} {y}\") # arba print(x, y)\n",
    "        list1.append(f\"{x} {y}\")\n",
    "print(list1)"
   ]
  },
  {
   "cell_type": "markdown",
   "metadata": {},
   "source": [
    "# if deklaracija"
   ]
  },
  {
   "cell_type": "code",
   "execution_count": 62,
   "metadata": {},
   "outputs": [
    {
     "name": "stdout",
     "output_type": "stream",
     "text": [
      "Jūs esate nepilnametis, nes jums yra 8 metų.\n"
     ]
    }
   ],
   "source": [
    "age = int(input (\"įrašykite amžių:\"))\n",
    "if age >= 18:\n",
    "    print(f\"Jūs esate pilnametis, nes jums yra {age} metų.\")\n",
    "elif age > 12:\n",
    "    print (\"Jums yra tarp dvylikos ir aštuoniolikow metų.\")\n",
    "elif age<5:\n",
    "    print(\"Jums yra iki penkių metų\")\n",
    "else:\n",
    "    print(f\"Jūs esate nepilnametis, nes jums yra {age} metų.\")"
   ]
  },
  {
   "cell_type": "code",
   "execution_count": 67,
   "metadata": {},
   "outputs": [
    {
     "name": "stdout",
     "output_type": "stream",
     "text": [
      "lyginis skaičius\n",
      "4.0\n"
     ]
    }
   ],
   "source": [
    "x = int(input (\"įrašykite skaičių:\"))\n",
    "if x % 2 == 0:\n",
    "    print (\"lyginis skaičius\")\n",
    "    x /= 2\n",
    "else:\n",
    "    print(\"nelyginis skaičius\")\n",
    "    x *= 2\n",
    "print(x)"
   ]
  },
  {
   "cell_type": "code",
   "execution_count": 6,
   "metadata": {},
   "outputs": [
    {
     "name": "stdout",
     "output_type": "stream",
     "text": [
      "nelyginis skaičius\n",
      "44\n",
      "9\n"
     ]
    }
   ],
   "source": [
    "x = int(input (\"įrašykite skaičių:\")) # 11 buvo\n",
    "y = int(input (\"įrašykite kitą skaičių:\")) # 4 buvo\n",
    "\n",
    "if x % 2 == 0:\n",
    "    print (\"lyginis skaičius\")\n",
    "    x /= 2\n",
    "    if y >= 10:\n",
    "        y = y*x\n",
    "    else:\n",
    "        y = y - 2\n",
    "else:\n",
    "    print(\"nelyginis skaičius\")\n",
    "    x *= 4\n",
    "    if y >= 20:\n",
    "        y = y / x\n",
    "    else:\n",
    "        y = y + 5\n",
    "print(x)\n",
    "print(y)"
   ]
  },
  {
   "cell_type": "code",
   "execution_count": 41,
   "metadata": {},
   "outputs": [
    {
     "name": "stdout",
     "output_type": "stream",
     "text": [
      "90\n"
     ]
    }
   ],
   "source": [
    "# program to display student's marks from record\n",
    "student_name = 'James'\n",
    "\n",
    "marks = {'James': 90, 'Jules': 55, 'Arthur': 77}\n",
    "\n",
    "for student in marks:\n",
    "    if student == student_name:\n",
    "        print(marks[student])\n",
    "        break # This for...else statement can be used with the break keyword to run the else block only when the break keyword was not executed.\n",
    "else:\n",
    "    print('No entry with that name found.')"
   ]
  },
  {
   "cell_type": "code",
   "execution_count": 23,
   "metadata": {},
   "outputs": [
    {
     "name": "stdout",
     "output_type": "stream",
     "text": [
      "-2 is negative\n"
     ]
    }
   ],
   "source": [
    "num = -2\n",
    "if num>=0:\n",
    "    print(num,  \"is positive\")\n",
    "else:\n",
    "    print (num,  \"is negative\")"
   ]
  },
  {
   "cell_type": "code",
   "execution_count": 20,
   "metadata": {},
   "outputs": [
    {
     "name": "stdout",
     "output_type": "stream",
     "text": [
      "Negative number\n"
     ]
    }
   ],
   "source": [
    "'''In this program, \n",
    "we check if the number is positive or\n",
    "negative or zero and \n",
    "display an appropriate message'''\n",
    "\n",
    "num = -2\n",
    "\n",
    "# Try these two variations as well:\n",
    "# num = 0\n",
    "# num = -4.5\n",
    "\n",
    "if num > 0:\n",
    "    print(\"Positive number\")\n",
    "elif num == 0:\n",
    "    print(\"Zero\")\n",
    "else:\n",
    "    print(\"Negative number\")"
   ]
  },
  {
   "cell_type": "code",
   "execution_count": 24,
   "metadata": {},
   "outputs": [
    {
     "name": "stdout",
     "output_type": "stream",
     "text": [
      "Positive number\n"
     ]
    }
   ],
   "source": [
    "'''In this program, we input a number\n",
    "check if the number is positive or\n",
    "negative or zero and display\n",
    "an appropriate message\n",
    "This time we use nested if statement'''\n",
    "\n",
    "num = float(input(\"Enter a number: \"))\n",
    "if num >= 0:\n",
    "    if num == 0:\n",
    "        print(\"Zero\")\n",
    "    else:\n",
    "        print(\"Positive number\")\n",
    "else:\n",
    "    print(\"Negative number\")"
   ]
  }
 ],
 "metadata": {
  "kernelspec": {
   "display_name": "Python 3.10.6 64-bit",
   "language": "python",
   "name": "python3"
  },
  "language_info": {
   "codemirror_mode": {
    "name": "ipython",
    "version": 3
   },
   "file_extension": ".py",
   "mimetype": "text/x-python",
   "name": "python",
   "nbconvert_exporter": "python",
   "pygments_lexer": "ipython3",
   "version": "3.10.6"
  },
  "orig_nbformat": 4,
  "vscode": {
   "interpreter": {
    "hash": "aee8b7b246df8f9039afb4144a1f6fd8d2ca17a180786b69acc140d282b71a49"
   }
  }
 },
 "nbformat": 4,
 "nbformat_minor": 2
}
