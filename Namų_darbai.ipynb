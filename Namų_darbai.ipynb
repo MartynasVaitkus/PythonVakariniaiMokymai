{
 "cells": [
  {
   "cell_type": "markdown",
   "metadata": {},
   "source": [
    "# 1.Sudėti du list’us, išimti paskutinį narį iš sudėto listo, išrikiuoti list’ą, suskaičiuoti kiek yra kokios nors reikšmės įvesčių list’e"
   ]
  },
  {
   "cell_type": "code",
   "execution_count": 1,
   "metadata": {},
   "outputs": [
    {
     "name": "stdout",
     "output_type": "stream",
     "text": [
      "[5, 34, 78, 45, 43, 3, 2, 88, 4, 5]\n",
      "[5, 34, 78, 45, 43, 3, 2, 88, 4]\n",
      "[2, 3, 4, 5, 34, 43, 45, 78, 88]\n",
      "1\n"
     ]
    }
   ],
   "source": [
    "list1 = [5, 34, 78, 45, 43]\n",
    "list2 = [3, 2, 88, 4, 5]\n",
    "list3 = (list1 + list2)\n",
    "print (list3)\n",
    "list3.pop()\n",
    "print(list3)\n",
    "list3.sort()\n",
    "print(list3)\n",
    "print(list3.count(5))\n"
   ]
  },
  {
   "cell_type": "markdown",
   "metadata": {},
   "source": [
    "# 2.1 Tikrinant skaičius nuo 1 iki 20 , atspausdinkite skaičius, kurie dalinasi iš 3 be liekanos. Naudokite for loop ir if "
   ]
  },
  {
   "cell_type": "code",
   "execution_count": 2,
   "metadata": {},
   "outputs": [
    {
     "name": "stdout",
     "output_type": "stream",
     "text": [
      "3\n",
      "6\n",
      "9\n",
      "12\n",
      "15\n",
      "18\n"
     ]
    }
   ],
   "source": [
    "range(1,21)\n",
    "\n",
    "for x in range(1, 21):\n",
    "    if (x % 3) == 0:\n",
    "        print(x)\n"
   ]
  },
  {
   "cell_type": "markdown",
   "metadata": {},
   "source": [
    "# 2.2 Tikrinant skaičius nuo 1 iki 50, pridėkite skaičių prie sumos, jei nauja einama suma bus lyginė"
   ]
  },
  {
   "cell_type": "code",
   "execution_count": 2,
   "metadata": {},
   "outputs": [
    {
     "name": "stdout",
     "output_type": "stream",
     "text": [
      "9\n",
      "13\n",
      "31\n",
      "39\n",
      "69\n",
      "81\n",
      "123\n",
      "139\n",
      "193\n",
      "213\n",
      "279\n",
      "303\n",
      "381\n",
      "409\n",
      "499\n",
      "531\n",
      "633\n",
      "669\n",
      "783\n",
      "823\n",
      "949\n",
      "993\n",
      "1131\n",
      "1179\n"
     ]
    }
   ],
   "source": [
    "\n",
    "skaičius = 3\n",
    "suma = 0\n",
    "for x in range (1, 51):\n",
    "    suma +=x\n",
    "    if suma % 2 == 0:\n",
    "        print(suma + skaičius)\n"
   ]
  },
  {
   "cell_type": "markdown",
   "metadata": {},
   "source": [
    "# 3. Leiskite vartotojui pasirinkti skaičių, atspausdinkite jo sandaugą nuo 1 iki 10 tik tada, jei pasirinktas skaičius pakeltas kvadratu yra nelyginis"
   ]
  },
  {
   "cell_type": "code",
   "execution_count": 3,
   "metadata": {},
   "outputs": [
    {
     "name": "stdout",
     "output_type": "stream",
     "text": [
      "3\n",
      "6\n",
      "9\n",
      "12\n",
      "15\n",
      "18\n",
      "21\n",
      "24\n",
      "27\n",
      "30\n"
     ]
    }
   ],
   "source": [
    "x = int(input (\"įrašykite skaičių:\"))\n",
    "if (x ** 2) % 2 != 0:\n",
    "    for y in range(1, 11):\n",
    "        print(y * x)"
   ]
  },
  {
   "cell_type": "markdown",
   "metadata": {},
   "source": [
    "# 4. Gaukite visas įmanomas kombinacijas iš pateiktų sąrašų tik tada, jei diena yra arba pirmadienis arba trečiadienis, o valandos yra nuo 12 iki 17, įrašykite jas į list’ą"
   ]
  },
  {
   "cell_type": "code",
   "execution_count": 4,
   "metadata": {},
   "outputs": [
    {
     "name": "stdout",
     "output_type": "stream",
     "text": [
      "Pirmadienis 12\n",
      "Pirmadienis 13\n",
      "Pirmadienis 14\n",
      "Pirmadienis 15\n",
      "Pirmadienis 16\n",
      "Pirmadienis 17\n",
      "Treciadienis 12\n",
      "Treciadienis 13\n",
      "Treciadienis 14\n",
      "Treciadienis 15\n",
      "Treciadienis 16\n",
      "Treciadienis 17\n",
      "['Pirmadienis 12', 'Pirmadienis 13', 'Pirmadienis 14', 'Pirmadienis 15', 'Pirmadienis 16', 'Pirmadienis 17', 'Treciadienis 12', 'Treciadienis 13', 'Treciadienis 14', 'Treciadienis 15', 'Treciadienis 16', 'Treciadienis 17']\n"
     ]
    }
   ],
   "source": [
    "dienos = ('Pirmadienis', 'Antradienis', 'Treciadienis','Ketvirtadienis', 'Penktadienis', 'Sestadienis' , 'Sekmadienis')\n",
    "valandos = [10, 11, 12, 13, 14, 15, 16, 17, 18, 19]\n",
    "sąrašas = []\n",
    "for x in dienos:\n",
    "    if (x == 'Pirmadienis') or (x =='Treciadienis'):\n",
    "        for y in valandos:\n",
    "            if 17>=y>=12:\n",
    "                print(f\"{x} {y}\")\n",
    "                sąrašas.append(f\"{x} {y}\")\n",
    "print(sąrašas)\n",
    "\n",
    "\n"
   ]
  },
  {
   "cell_type": "markdown",
   "metadata": {},
   "source": [
    "# 5. Iš pirmų 100 skaičių, jeigu skaičius dalinasi iš 2 be liekanos, atspausdinkite ‘Fizz’, jeigu skaičius dalinasi iš 3 be liekanos atspausdinkite ‘Buzz’, jei skaičius dalinasi iš 2 ir 3 be liekanos, atspausdinkite ‘FizzBuzz’\n",
    "Pvz:\n",
    "1 - ''\n",
    "2 - 'Fizz'\n",
    "3 - 'Buzz'\n",
    "4 - 'Fizz'\n",
    "5 - ''\n",
    "6 - \n",
    "'FizzBuzz'"
   ]
  },
  {
   "cell_type": "code",
   "execution_count": 5,
   "metadata": {},
   "outputs": [
    {
     "name": "stdout",
     "output_type": "stream",
     "text": [
      "1 -\n",
      "2 Fizz\n",
      "3 Buzz\n",
      "4 Fizz\n",
      "5 -\n",
      "6 FizzBuzz\n",
      "7 -\n",
      "8 Fizz\n",
      "9 Buzz\n",
      "10 Fizz\n",
      "11 -\n",
      "12 FizzBuzz\n",
      "13 -\n",
      "14 Fizz\n",
      "15 Buzz\n",
      "16 Fizz\n",
      "17 -\n",
      "18 FizzBuzz\n",
      "19 -\n",
      "20 Fizz\n",
      "21 Buzz\n",
      "22 Fizz\n",
      "23 -\n",
      "24 FizzBuzz\n",
      "25 -\n",
      "26 Fizz\n",
      "27 Buzz\n",
      "28 Fizz\n",
      "29 -\n",
      "30 FizzBuzz\n",
      "31 -\n",
      "32 Fizz\n",
      "33 Buzz\n",
      "34 Fizz\n",
      "35 -\n",
      "36 FizzBuzz\n",
      "37 -\n",
      "38 Fizz\n",
      "39 Buzz\n",
      "40 Fizz\n",
      "41 -\n",
      "42 FizzBuzz\n",
      "43 -\n",
      "44 Fizz\n",
      "45 Buzz\n",
      "46 Fizz\n",
      "47 -\n",
      "48 FizzBuzz\n",
      "49 -\n",
      "50 Fizz\n",
      "51 Buzz\n",
      "52 Fizz\n",
      "53 -\n",
      "54 FizzBuzz\n",
      "55 -\n",
      "56 Fizz\n",
      "57 Buzz\n",
      "58 Fizz\n",
      "59 -\n",
      "60 FizzBuzz\n",
      "61 -\n",
      "62 Fizz\n",
      "63 Buzz\n",
      "64 Fizz\n",
      "65 -\n",
      "66 FizzBuzz\n",
      "67 -\n",
      "68 Fizz\n",
      "69 Buzz\n",
      "70 Fizz\n",
      "71 -\n",
      "72 FizzBuzz\n",
      "73 -\n",
      "74 Fizz\n",
      "75 Buzz\n",
      "76 Fizz\n",
      "77 -\n",
      "78 FizzBuzz\n",
      "79 -\n",
      "80 Fizz\n",
      "81 Buzz\n",
      "82 Fizz\n",
      "83 -\n",
      "84 FizzBuzz\n",
      "85 -\n",
      "86 Fizz\n",
      "87 Buzz\n",
      "88 Fizz\n",
      "89 -\n",
      "90 FizzBuzz\n",
      "91 -\n",
      "92 Fizz\n",
      "93 Buzz\n",
      "94 Fizz\n",
      "95 -\n",
      "96 FizzBuzz\n",
      "97 -\n",
      "98 Fizz\n",
      "99 Buzz\n",
      "100 Fizz\n"
     ]
    }
   ],
   "source": [
    "range(1, 101)\n",
    "for x in range(1, 101):\n",
    "    if x % 2 == 0 and x % 3 == 0:\n",
    "        print(x, \"FizzBuzz\")\n",
    "    elif x % 2 == 0:\n",
    "        print(x, \"Fizz\")\n",
    "    elif x % 3 == 0:\n",
    "        print(x, \"Buzz\")\n",
    "    else:\n",
    "        print(x, \"-\")\n",
    "\n",
    "\n",
    "\n",
    "\n",
    "\n"
   ]
  },
  {
   "cell_type": "markdown",
   "metadata": {},
   "source": [
    "# 6. Leiskite vartotojui pasirinkti skaičių, jeigu įvestas skaičius yra daugiau arba lygus 10, atspausdinkite visus skaičius nuo 1 iki pateikto skaičiaus, kurie dalinasi iš 5 su liekana"
   ]
  },
  {
   "cell_type": "code",
   "execution_count": 6,
   "metadata": {},
   "outputs": [
    {
     "name": "stdout",
     "output_type": "stream",
     "text": [
      "1\n",
      "2\n",
      "3\n",
      "4\n",
      "6\n",
      "7\n",
      "8\n",
      "9\n",
      "11\n"
     ]
    }
   ],
   "source": [
    "x = int(input (\"pasirinkite skaičių:\"))\n",
    "if x >= 10:\n",
    "    for y in range(1, x + 1):\n",
    "        if y % 5 != 0:\n",
    "            print(y)\n"
   ]
  },
  {
   "cell_type": "markdown",
   "metadata": {},
   "source": [
    "# 7. Koks yra sąrašo ilgis sudaryto iš pateiktų sąrašų kombinacijų, jeigu norime rasti visas įmanomas reikšmes? Išrikiuokite sąrašą nuo didžiausios iki mažiausios reikšmės (teks atlikti papildomų veiksmų tam atlikti teisingai, naudoti viena iš 3 narių rikiavimui)"
   ]
  },
  {
   "cell_type": "code",
   "execution_count": 36,
   "metadata": {},
   "outputs": [
    {
     "name": "stdout",
     "output_type": "stream",
     "text": [
      "19\n",
      "17\n",
      "17\n",
      "7\n",
      "5\n",
      "<class 'int'>\n",
      "labas 1 100\n",
      "labas 1 200\n",
      "labas 1 40\n",
      "labas 1 10\n",
      "labas 2 100\n",
      "labas 2 200\n",
      "labas 2 40\n",
      "labas 2 10\n",
      "labas 3 100\n",
      "labas 3 200\n",
      "labas 3 40\n",
      "labas 3 10\n",
      "labas 4 100\n",
      "labas 4 200\n",
      "labas 4 40\n",
      "labas 4 10\n",
      "labas 5 100\n",
      "labas 5 200\n",
      "labas 5 40\n",
      "labas 5 10\n",
      "vakaras 1 100\n",
      "vakaras 1 200\n",
      "vakaras 1 40\n",
      "vakaras 1 10\n",
      "vakaras 2 100\n",
      "vakaras 2 200\n",
      "vakaras 2 40\n",
      "vakaras 2 10\n",
      "vakaras 3 100\n",
      "vakaras 3 200\n",
      "vakaras 3 40\n",
      "vakaras 3 10\n",
      "vakaras 4 100\n",
      "vakaras 4 200\n",
      "vakaras 4 40\n",
      "vakaras 4 10\n",
      "vakaras 5 100\n",
      "vakaras 5 200\n",
      "vakaras 5 40\n",
      "vakaras 5 10\n",
      "kokia grazi diena 1 100\n",
      "kokia grazi diena 1 200\n",
      "kokia grazi diena 1 40\n",
      "kokia grazi diena 1 10\n",
      "kokia grazi diena 2 100\n",
      "kokia grazi diena 2 200\n",
      "kokia grazi diena 2 40\n",
      "kokia grazi diena 2 10\n",
      "kokia grazi diena 3 100\n",
      "kokia grazi diena 3 200\n",
      "kokia grazi diena 3 40\n",
      "kokia grazi diena 3 10\n",
      "kokia grazi diena 4 100\n",
      "kokia grazi diena 4 200\n",
      "kokia grazi diena 4 40\n",
      "kokia grazi diena 4 10\n",
      "kokia grazi diena 5 100\n",
      "kokia grazi diena 5 200\n",
      "kokia grazi diena 5 40\n",
      "kokia grazi diena 5 10\n",
      "siandien uz lango 1 100\n",
      "siandien uz lango 1 200\n",
      "siandien uz lango 1 40\n",
      "siandien uz lango 1 10\n",
      "siandien uz lango 2 100\n",
      "siandien uz lango 2 200\n",
      "siandien uz lango 2 40\n",
      "siandien uz lango 2 10\n",
      "siandien uz lango 3 100\n",
      "siandien uz lango 3 200\n",
      "siandien uz lango 3 40\n",
      "siandien uz lango 3 10\n",
      "siandien uz lango 4 100\n",
      "siandien uz lango 4 200\n",
      "siandien uz lango 4 40\n",
      "siandien uz lango 4 10\n",
      "siandien uz lango 5 100\n",
      "siandien uz lango 5 200\n",
      "siandien uz lango 5 40\n",
      "siandien uz lango 5 10\n",
      "10 laipsniu silumos 1 100\n",
      "10 laipsniu silumos 1 200\n",
      "10 laipsniu silumos 1 40\n",
      "10 laipsniu silumos 1 10\n",
      "10 laipsniu silumos 2 100\n",
      "10 laipsniu silumos 2 200\n",
      "10 laipsniu silumos 2 40\n",
      "10 laipsniu silumos 2 10\n",
      "10 laipsniu silumos 3 100\n",
      "10 laipsniu silumos 3 200\n",
      "10 laipsniu silumos 3 40\n",
      "10 laipsniu silumos 3 10\n",
      "10 laipsniu silumos 4 100\n",
      "10 laipsniu silumos 4 200\n",
      "10 laipsniu silumos 4 40\n",
      "10 laipsniu silumos 4 10\n",
      "10 laipsniu silumos 5 100\n",
      "10 laipsniu silumos 5 200\n",
      "10 laipsniu silumos 5 40\n",
      "10 laipsniu silumos 5 10\n",
      "100\n",
      "[('labas', 1, 100), ('labas', 1, 200), ('labas', 1, 40), ('labas', 1, 10), ('labas', 2, 100), ('labas', 2, 200), ('labas', 2, 40), ('labas', 2, 10), ('labas', 3, 100), ('labas', 3, 200), ('labas', 3, 40), ('labas', 3, 10), ('labas', 4, 100), ('labas', 4, 200), ('labas', 4, 40), ('labas', 4, 10), ('labas', 5, 100), ('labas', 5, 200), ('labas', 5, 40), ('labas', 5, 10), ('vakaras', 1, 100), ('vakaras', 1, 200), ('vakaras', 1, 40), ('vakaras', 1, 10), ('vakaras', 2, 100), ('vakaras', 2, 200), ('vakaras', 2, 40), ('vakaras', 2, 10), ('vakaras', 3, 100), ('vakaras', 3, 200), ('vakaras', 3, 40), ('vakaras', 3, 10), ('vakaras', 4, 100), ('vakaras', 4, 200), ('vakaras', 4, 40), ('vakaras', 4, 10), ('vakaras', 5, 100), ('vakaras', 5, 200), ('vakaras', 5, 40), ('vakaras', 5, 10), ('kokia grazi diena', 1, 100), ('kokia grazi diena', 1, 200), ('kokia grazi diena', 1, 40), ('kokia grazi diena', 1, 10), ('kokia grazi diena', 2, 100), ('kokia grazi diena', 2, 200), ('kokia grazi diena', 2, 40), ('kokia grazi diena', 2, 10), ('kokia grazi diena', 3, 100), ('kokia grazi diena', 3, 200), ('kokia grazi diena', 3, 40), ('kokia grazi diena', 3, 10), ('kokia grazi diena', 4, 100), ('kokia grazi diena', 4, 200), ('kokia grazi diena', 4, 40), ('kokia grazi diena', 4, 10), ('kokia grazi diena', 5, 100), ('kokia grazi diena', 5, 200), ('kokia grazi diena', 5, 40), ('kokia grazi diena', 5, 10), ('siandien uz lango', 1, 100), ('siandien uz lango', 1, 200), ('siandien uz lango', 1, 40), ('siandien uz lango', 1, 10), ('siandien uz lango', 2, 100), ('siandien uz lango', 2, 200), ('siandien uz lango', 2, 40), ('siandien uz lango', 2, 10), ('siandien uz lango', 3, 100), ('siandien uz lango', 3, 200), ('siandien uz lango', 3, 40), ('siandien uz lango', 3, 10), ('siandien uz lango', 4, 100), ('siandien uz lango', 4, 200), ('siandien uz lango', 4, 40), ('siandien uz lango', 4, 10), ('siandien uz lango', 5, 100), ('siandien uz lango', 5, 200), ('siandien uz lango', 5, 40), ('siandien uz lango', 5, 10), ('10 laipsniu silumos', 1, 100), ('10 laipsniu silumos', 1, 200), ('10 laipsniu silumos', 1, 40), ('10 laipsniu silumos', 1, 10), ('10 laipsniu silumos', 2, 100), ('10 laipsniu silumos', 2, 200), ('10 laipsniu silumos', 2, 40), ('10 laipsniu silumos', 2, 10), ('10 laipsniu silumos', 3, 100), ('10 laipsniu silumos', 3, 200), ('10 laipsniu silumos', 3, 40), ('10 laipsniu silumos', 3, 10), ('10 laipsniu silumos', 4, 100), ('10 laipsniu silumos', 4, 200), ('10 laipsniu silumos', 4, 40), ('10 laipsniu silumos', 4, 10), ('10 laipsniu silumos', 5, 100), ('10 laipsniu silumos', 5, 200), ('10 laipsniu silumos', 5, 40), ('10 laipsniu silumos', 5, 10)]\n",
      "Nuo didžiausio iki mažiausio string pagrindu\n",
      "[('10 laipsniu silumos', 5, 10), ('10 laipsniu silumos', 5, 40), ('10 laipsniu silumos', 5, 200), ('10 laipsniu silumos', 5, 100), ('10 laipsniu silumos', 4, 10), ('10 laipsniu silumos', 4, 40), ('10 laipsniu silumos', 4, 200), ('10 laipsniu silumos', 4, 100), ('10 laipsniu silumos', 3, 10), ('10 laipsniu silumos', 3, 40), ('10 laipsniu silumos', 3, 200), ('10 laipsniu silumos', 3, 100), ('10 laipsniu silumos', 2, 10), ('10 laipsniu silumos', 2, 40), ('10 laipsniu silumos', 2, 200), ('10 laipsniu silumos', 2, 100), ('10 laipsniu silumos', 1, 10), ('10 laipsniu silumos', 1, 40), ('10 laipsniu silumos', 1, 200), ('10 laipsniu silumos', 1, 100), ('siandien uz lango', 5, 10), ('siandien uz lango', 5, 40), ('siandien uz lango', 5, 200), ('siandien uz lango', 5, 100), ('siandien uz lango', 4, 10), ('siandien uz lango', 4, 40), ('siandien uz lango', 4, 200), ('siandien uz lango', 4, 100), ('siandien uz lango', 3, 10), ('siandien uz lango', 3, 40), ('siandien uz lango', 3, 200), ('siandien uz lango', 3, 100), ('siandien uz lango', 2, 10), ('siandien uz lango', 2, 40), ('siandien uz lango', 2, 200), ('siandien uz lango', 2, 100), ('siandien uz lango', 1, 10), ('siandien uz lango', 1, 40), ('siandien uz lango', 1, 200), ('siandien uz lango', 1, 100), ('kokia grazi diena', 5, 10), ('kokia grazi diena', 5, 40), ('kokia grazi diena', 5, 200), ('kokia grazi diena', 5, 100), ('kokia grazi diena', 4, 10), ('kokia grazi diena', 4, 40), ('kokia grazi diena', 4, 200), ('kokia grazi diena', 4, 100), ('kokia grazi diena', 3, 10), ('kokia grazi diena', 3, 40), ('kokia grazi diena', 3, 200), ('kokia grazi diena', 3, 100), ('kokia grazi diena', 2, 10), ('kokia grazi diena', 2, 40), ('kokia grazi diena', 2, 200), ('kokia grazi diena', 2, 100), ('kokia grazi diena', 1, 10), ('kokia grazi diena', 1, 40), ('kokia grazi diena', 1, 200), ('kokia grazi diena', 1, 100), ('vakaras', 5, 10), ('vakaras', 5, 40), ('vakaras', 5, 200), ('vakaras', 5, 100), ('vakaras', 4, 10), ('vakaras', 4, 40), ('vakaras', 4, 200), ('vakaras', 4, 100), ('vakaras', 3, 10), ('vakaras', 3, 40), ('vakaras', 3, 200), ('vakaras', 3, 100), ('vakaras', 2, 10), ('vakaras', 2, 40), ('vakaras', 2, 200), ('vakaras', 2, 100), ('vakaras', 1, 10), ('vakaras', 1, 40), ('vakaras', 1, 200), ('vakaras', 1, 100), ('labas', 5, 10), ('labas', 5, 40), ('labas', 5, 200), ('labas', 5, 100), ('labas', 4, 10), ('labas', 4, 40), ('labas', 4, 200), ('labas', 4, 100), ('labas', 3, 10), ('labas', 3, 40), ('labas', 3, 200), ('labas', 3, 100), ('labas', 2, 10), ('labas', 2, 40), ('labas', 2, 200), ('labas', 2, 100), ('labas', 1, 10), ('labas', 1, 40), ('labas', 1, 200), ('labas', 1, 100)]\n"
     ]
    }
   ],
   "source": [
    "\n",
    "a = ['1','2','3','4','5']\n",
    "b = ['labas', 'vakaras', 'kokia grazi diena', 'siandien uz lango', '10 laipsniu silumos']\n",
    "print(len(b[4]))\n",
    "print(len(b[3]))\n",
    "print(len(b[2]))\n",
    "print(len(b[1]))\n",
    "print(len(b[0]))\n",
    "c = ['100', '200', 40, 10]\n",
    "a[0:] = 1, 2, 3, 4, 5\n",
    "c[0] = 100\n",
    "c[1] = 200\n",
    "print(type(c[0]))\n",
    "list1 = []\n",
    "for x in b:\n",
    "    for y in a:\n",
    "        for z in c:\n",
    "            print(x, y, z)\n",
    "            list1.append((x, y, z))\n",
    "\n",
    "print(len(list1))\n",
    "list1.sort(key=len)\n",
    "print(list1)\n",
    "print(\"Nuo didžiausio iki mažiausio string pagrindu\")\n",
    "list1.reverse()\n",
    "print(list1)"
   ]
  }
 ],
 "metadata": {
  "kernelspec": {
   "display_name": "Python 3.10.6 64-bit",
   "language": "python",
   "name": "python3"
  },
  "language_info": {
   "codemirror_mode": {
    "name": "ipython",
    "version": 3
   },
   "file_extension": ".py",
   "mimetype": "text/x-python",
   "name": "python",
   "nbconvert_exporter": "python",
   "pygments_lexer": "ipython3",
   "version": "3.10.6"
  },
  "orig_nbformat": 4,
  "vscode": {
   "interpreter": {
    "hash": "aee8b7b246df8f9039afb4144a1f6fd8d2ca17a180786b69acc140d282b71a49"
   }
  }
 },
 "nbformat": 4,
 "nbformat_minor": 2
}
