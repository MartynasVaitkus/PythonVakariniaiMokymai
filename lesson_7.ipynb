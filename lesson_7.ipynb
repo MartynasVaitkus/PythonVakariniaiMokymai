{
 "cells": [
  {
   "cell_type": "markdown",
   "metadata": {},
   "source": [
    "# Classes"
   ]
  },
  {
   "cell_type": "code",
   "execution_count": 4,
   "metadata": {},
   "outputs": [],
   "source": [
    "class Car:\n",
    "    def __init__(self, brand, year, color, car_type):\n",
    "        # apačioje yra apibrėžiama mašina, t.y. apsirašėme, kas yra mašina.\n",
    "        self.brand = brand\n",
    "        self.year = year\n",
    "        self.color = color\n",
    "        self.car_type = car_type\n",
    "        # dabar jau galima kurti mašinos unikalius vienetus. Sekančioje cėlėje(bet gal galima ir toje pačioje?)\n",
    "\n"
   ]
  },
  {
   "cell_type": "code",
   "execution_count": 11,
   "metadata": {},
   "outputs": [
    {
     "name": "stdout",
     "output_type": "stream",
     "text": [
      "car_1\n",
      "Audi\n",
      "2005\n",
      "car_2\n",
      "Bmw\n",
      "2010\n",
      "car brand - Audi\n",
      "car brand - Bmw\n",
      "<__main__.Car object at 0x11002e7a0>\n"
     ]
    }
   ],
   "source": [
    "\n",
    "car_1 = Car(\"Audi\", 2005, \"red\", \"couppe\") # pirmoji unikali mašina\n",
    "car_2 = Car(\"Bmw\", 2010, \"black\", \"vagon\")\n",
    "print(\"car_1\")\n",
    "print(car_1.brand)\n",
    "print(car_1.year)\n",
    "print(\"car_2\")\n",
    "print(car_2.brand)\n",
    "print(car_2.year)\n",
    "cars = [car_1, car_2]\n",
    "for car in cars:\n",
    "    print(f\"car brand - {car.brand}\")\n",
    "print(car_1) # output \"<__main__.Car object at 0x11002e7a0>\" reškia, kad toks objektas yra saugomas vietoje 0x11002e7a0."
   ]
  },
  {
   "cell_type": "code",
   "execution_count": 32,
   "metadata": {},
   "outputs": [],
   "source": [
    "class Car:\n",
    "    def __init__(self, brand, year, color, car_type):\n",
    "        self.brand = brand\n",
    "        self.year = year\n",
    "        self.color = color\n",
    "        self.car_type = car_type\n",
    "# kuriame metodus/funkcijas klasės viduje\n",
    "    def __str__(self):\n",
    "        return f\"Brand: {self.brand}, year: {self.year}\" # žr print (car_1). Rezultatas bus \"Brand: Audi, year: 2005\" o ne \"<__main__.Car object at 0x11002e7a0>\".\n"
   ]
  },
  {
   "cell_type": "code",
   "execution_count": 31,
   "metadata": {},
   "outputs": [
    {
     "name": "stdout",
     "output_type": "stream",
     "text": [
      "car_1\n",
      "Audi\n",
      "2005\n",
      "Brand: Audi, year: 2005\n",
      "car_2\n",
      "Bmw\n",
      "2010\n"
     ]
    }
   ],
   "source": [
    "car_1 = Car(\"Audi\", 2005, \"red\", \"couppe\") # pirmoji unikali mašina\n",
    "car_2 = Car(\"Bmw\", 2010, \"black\", \"vagon\")\n",
    "print(\"car_1\")\n",
    "print(car_1.brand)\n",
    "print(car_1.year)\n",
    "print (car_1)\n",
    "\n",
    "print(\"car_2\")\n",
    "print(car_2.brand)\n",
    "print(car_2.year)"
   ]
  },
  {
   "cell_type": "code",
   "execution_count": 59,
   "metadata": {},
   "outputs": [],
   "source": [
    "class Car:\n",
    "    def __init__(self, brand, year, color, car_type):\n",
    "        self.brand = brand\n",
    "        self.year = year\n",
    "        self.color = color\n",
    "        self.car_type = car_type\n",
    "        self.engine_status = False\n",
    "# kuriame metodus/funkcijas klasės viduje\n",
    "    def __str__(self):\n",
    "        return f\"Brand: {self.brand}, year: {self.year}\" # taigi leidžia atspausdinti visus atributus vienu sykiu, o ne atskirai ršyti, pvz., print(car_1.brand) ir pan.\n",
    "    def start_engine (self): # bet reikia susikurti kintamąjį po \"def __init__ (self):\" eilute, pvz., self.engine_status = False (kai neužvedama mašina, variklis bus False).\n",
    "        if self.engine_status == False: # galime aprašyti veiksmus, kurie įjungia variklį\n",
    "            self.engine_status = True\n",
    "# per šį metodą/funkciją galime daryti tam tikrus veiksmus per šį objektą, t. y. per mašiną\n",
    "    def stop_engine (self):\n",
    "        if self.engine_status == True: # galime aprašyti veiksmus, kurie išjungia variklį\n",
    "            self.engine_status = False\n",
    "\n"
   ]
  },
  {
   "cell_type": "code",
   "execution_count": 63,
   "metadata": {},
   "outputs": [
    {
     "name": "stdout",
     "output_type": "stream",
     "text": [
      "car_1\n",
      "Brand: Audi, year: 2005\n",
      "Engine status - False\n",
      "įjungti variklį\n",
      "Engine status - True\n",
      "išjungti variklį\n",
      "Engine status - False\n",
      "car_2\n",
      "Brand: Bmw, year: 2010\n",
      "Engine status - False\n"
     ]
    }
   ],
   "source": [
    "car_1 = Car(\"Audi\", 2005, \"red\", \"couppe\") # pirmoji unikali mašina\n",
    "car_2 = Car(\"Bmw\", 2010, \"black\", \"vagon\")\n",
    "print(\"car_1\")\n",
    "print (car_1)\n",
    "print(f\"Engine status - {car_1.engine_status}\") # atspausdinu, ar variklis įjumgtas, ar išjungtas (šiuo atveju išjungtas).\n",
    "print(\"įjungti variklį\")\n",
    "car_1.start_engine() # tuomet paleidžiu komandą, kuri įjungia variklį. \"car_1.start_engine()\" yra metodas\n",
    "print(f\"Engine status - {car_1.engine_status}\")\n",
    "print(\"išjungti variklį\")\n",
    "car_1.stop_engine()\n",
    "print(f\"Engine status - {car_1.engine_status}\")\n",
    "print(\"car_2\")\n",
    "print(car_2)\n",
    "print(f\"Engine status - {car_2.engine_status}\")"
   ]
  },
  {
   "cell_type": "code",
   "execution_count": 72,
   "metadata": {},
   "outputs": [],
   "source": [
    "class Car:\n",
    "    def __init__(self, brand, year, color, car_type):\n",
    "        self.brand = brand\n",
    "        self.year = year\n",
    "        self.color = color\n",
    "        self.car_type = car_type\n",
    "        self.engine_status = False\n",
    "        self.window_fluid = 0.\n",
    "        self.MAX_WINDOW_FLUID = 3.4 # didžiosios nurodo, kad tai konstanta ir neturėtų keistis.\n",
    "# kuriame metodus/funkcijas klasės viduje\n",
    "    def __str__(self):\n",
    "        return f\"Brand: {self.brand}, year: {self.year}\" # taigi leidžia atspausdinti visus atributus vienu sykiu, o ne atskirai ršyti, pvz., print(car_1.brand) ir pan.\n",
    "    def start_engine (self): # bet reikia susikurti kintamąjį po \"def __init__ (self):\" eilute, pvz., self.engine_status = False (kai neužvedama mašina, variklis bus False).\n",
    "        if self.engine_status == False: # galime aprašyti veiksmus, kurie įjungia variklį\n",
    "            self.engine_status = True\n",
    "# per šį metodą/funkciją galime daryti tam tikrus veiksmus per šį objektą, t. y. per mašiną\n",
    "    def stop_engine (self):\n",
    "        if self.engine_status == True: # galime aprašyti veiksmus, kurie išjungia variklį\n",
    "            self.engine_status = False\n",
    "    \n",
    "    def add_window_fluid (self, amount_of_fluid): # amount_of_ fluid - papildomas argumentas. Bet vėlgi reikia susikurti kintamąjį po \"def __init__ (self):\" eilute, pvz., self.window_fluid = 0. (0 reiškia, jog tuščias bakelis) ir self.MAX_WINDOW_FLUID = 3.4.\n",
    "        if self.window_fluid + amount_of_fluid > self.MAX_WINDOW_FLUID:\n",
    "            self.window_fluid = self.MAX_WINDOW_FLUID\n",
    "        else:\n",
    "            self.window_fluid += amount_of_fluid # nereikia self prie amount_of_fluid, nes self naudojame, kai reikia informacijos apie objektą.\n",
    "\n",
    "\n"
   ]
  },
  {
   "cell_type": "code",
   "execution_count": 74,
   "metadata": {},
   "outputs": [
    {
     "name": "stdout",
     "output_type": "stream",
     "text": [
      "car_1\n",
      "Brand: Audi, year: 2005\n",
      "Engine status - False\n",
      "įjungti variklį\n",
      "Engine status - True\n",
      "išjungti variklį\n",
      "Engine status - False\n",
      "adding window fluid\n",
      "car has 2.0\n",
      "car_2\n",
      "Brand: Bmw, year: 2010\n",
      "Engine status - False\n"
     ]
    }
   ],
   "source": [
    "car_1 = Car(\"Audi\", 2005, \"red\", \"couppe\") # pirmoji unikali mašina\n",
    "car_2 = Car(\"Bmw\", 2010, \"black\", \"vagon\")\n",
    "print(\"car_1\")\n",
    "print (car_1)\n",
    "print(f\"Engine status - {car_1.engine_status}\") # atspausdinu, ar variklis įjumgtas, ar išjungtas (šiuo atveju išjungtas).\n",
    "print(\"įjungti variklį\")\n",
    "car_1.start_engine() # tuomet paleidžiu komandą, kuri įjungia variklį. \"car_1.start_engine()\" yra metodas\n",
    "print(f\"Engine status - {car_1.engine_status}\")\n",
    "print(\"išjungti variklį\")\n",
    "car_1.stop_engine()\n",
    "print(f\"Engine status - {car_1.engine_status}\")\n",
    "\n",
    "print(\"adding window fluid\")\n",
    "car_1.add_window_fluid(2.)\n",
    "print(f\"car has {car_1.window_fluid}\")\n",
    "print(\"car_2\")\n",
    "print(car_2)\n",
    "print(f\"Engine status - {car_2.engine_status}\")"
   ]
  }
 ],
 "metadata": {
  "kernelspec": {
   "display_name": "Python 3.10.6 64-bit",
   "language": "python",
   "name": "python3"
  },
  "language_info": {
   "codemirror_mode": {
    "name": "ipython",
    "version": 3
   },
   "file_extension": ".py",
   "mimetype": "text/x-python",
   "name": "python",
   "nbconvert_exporter": "python",
   "pygments_lexer": "ipython3",
   "version": "3.10.6"
  },
  "orig_nbformat": 4,
  "vscode": {
   "interpreter": {
    "hash": "aee8b7b246df8f9039afb4144a1f6fd8d2ca17a180786b69acc140d282b71a49"
   }
  }
 },
 "nbformat": 4,
 "nbformat_minor": 2
}
