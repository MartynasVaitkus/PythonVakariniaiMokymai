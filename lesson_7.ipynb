{
 "cells": [
  {
   "cell_type": "markdown",
   "metadata": {},
   "source": [
    "# Classes"
   ]
  },
  {
   "cell_type": "code",
   "execution_count": 4,
   "metadata": {},
   "outputs": [],
   "source": [
    "class Car:\n",
    "    def __init__(self, brand, year, color, car_type):\n",
    "        # apačioje yra apibrėžiama mašina, t.y. apsirašėme, kas yra mašina.\n",
    "        self.brand = brand\n",
    "        self.year = year\n",
    "        self.color = color\n",
    "        self.car_type = car_type\n",
    "        # dabar jau galima kurti mašinos unikalius vienetus. Sekančioje cėlėje(bet gal galima ir toje pačioje?)\n",
    "\n"
   ]
  },
  {
   "cell_type": "code",
   "execution_count": 11,
   "metadata": {},
   "outputs": [
    {
     "name": "stdout",
     "output_type": "stream",
     "text": [
      "car_1\n",
      "Audi\n",
      "2005\n",
      "car_2\n",
      "Bmw\n",
      "2010\n",
      "car brand - Audi\n",
      "car brand - Bmw\n",
      "<__main__.Car object at 0x11002e7a0>\n"
     ]
    }
   ],
   "source": [
    "\n",
    "car_1 = Car(\"Audi\", 2005, \"red\", \"couppe\") # pirmoji unikali mašina\n",
    "car_2 = Car(\"Bmw\", 2010, \"black\", \"vagon\")\n",
    "print(\"car_1\")\n",
    "print(car_1.brand)\n",
    "print(car_1.year)\n",
    "print(\"car_2\")\n",
    "print(car_2.brand)\n",
    "print(car_2.year)\n",
    "cars = [car_1, car_2]\n",
    "for car in cars:\n",
    "    print(f\"car brand - {car.brand}\")\n",
    "print(car_1) # output \"<__main__.Car object at 0x11002e7a0>\" reškia, kad toks objektas yra saugomas vietoje 0x11002e7a0."
   ]
  },
  {
   "cell_type": "code",
   "execution_count": 32,
   "metadata": {},
   "outputs": [],
   "source": [
    "class Car:\n",
    "    def __init__(self, brand, year, color, car_type):\n",
    "        self.brand = brand\n",
    "        self.year = year\n",
    "        self.color = color\n",
    "        self.car_type = car_type\n",
    "# kuriame metodus/funkcijas klasės viduje\n",
    "    def __str__(self):\n",
    "        return f\"Brand: {self.brand}, year: {self.year}\" # žr print (car_1). Rezultatas bus \"Brand: Audi, year: 2005\" o ne \"<__main__.Car object at 0x11002e7a0>\".\n"
   ]
  },
  {
   "cell_type": "code",
   "execution_count": 31,
   "metadata": {},
   "outputs": [
    {
     "name": "stdout",
     "output_type": "stream",
     "text": [
      "car_1\n",
      "Audi\n",
      "2005\n",
      "Brand: Audi, year: 2005\n",
      "car_2\n",
      "Bmw\n",
      "2010\n"
     ]
    }
   ],
   "source": [
    "car_1 = Car(\"Audi\", 2005, \"red\", \"couppe\") # pirmoji unikali mašina\n",
    "car_2 = Car(\"Bmw\", 2010, \"black\", \"vagon\")\n",
    "print(\"car_1\")\n",
    "print(car_1.brand)\n",
    "print(car_1.year)\n",
    "print (car_1)\n",
    "\n",
    "print(\"car_2\")\n",
    "print(car_2.brand)\n",
    "print(car_2.year)"
   ]
  },
  {
   "cell_type": "code",
   "execution_count": 59,
   "metadata": {},
   "outputs": [],
   "source": [
    "class Car:\n",
    "    def __init__(self, brand, year, color, car_type):\n",
    "        self.brand = brand\n",
    "        self.year = year\n",
    "        self.color = color\n",
    "        self.car_type = car_type\n",
    "        self.engine_status = False\n",
    "# kuriame metodus/funkcijas klasės viduje\n",
    "    def __str__(self):\n",
    "        return f\"Brand: {self.brand}, year: {self.year}\" # taigi leidžia atspausdinti visus atributus vienu sykiu, o ne atskirai ršyti, pvz., print(car_1.brand) ir pan.\n",
    "    def start_engine (self): # bet reikia susikurti kintamąjį po \"def __init__ (self):\" eilute, pvz., self.engine_status = False (kai neužvedama mašina, variklis bus False).\n",
    "        if self.engine_status == False: # galime aprašyti veiksmus, kurie įjungia variklį\n",
    "            self.engine_status = True\n",
    "# per šį metodą/funkciją galime daryti tam tikrus veiksmus per šį objektą, t. y. per mašiną\n",
    "    def stop_engine (self):\n",
    "        if self.engine_status == True: # galime aprašyti veiksmus, kurie išjungia variklį\n",
    "            self.engine_status = False\n",
    "\n"
   ]
  },
  {
   "cell_type": "code",
   "execution_count": 63,
   "metadata": {},
   "outputs": [
    {
     "name": "stdout",
     "output_type": "stream",
     "text": [
      "car_1\n",
      "Brand: Audi, year: 2005\n",
      "Engine status - False\n",
      "įjungti variklį\n",
      "Engine status - True\n",
      "išjungti variklį\n",
      "Engine status - False\n",
      "car_2\n",
      "Brand: Bmw, year: 2010\n",
      "Engine status - False\n"
     ]
    }
   ],
   "source": [
    "car_1 = Car(\"Audi\", 2005, \"red\", \"couppe\") # pirmoji unikali mašina\n",
    "car_2 = Car(\"Bmw\", 2010, \"black\", \"vagon\")\n",
    "print(\"car_1\")\n",
    "print (car_1)\n",
    "print(f\"Engine status - {car_1.engine_status}\") # atspausdinu, ar variklis įjumgtas, ar išjungtas (šiuo atveju išjungtas).\n",
    "print(\"įjungti variklį\")\n",
    "car_1.start_engine() # tuomet paleidžiu komandą, kuri įjungia variklį. \"car_1.start_engine()\" yra metodas\n",
    "print(f\"Engine status - {car_1.engine_status}\")\n",
    "print(\"išjungti variklį\")\n",
    "car_1.stop_engine()\n",
    "print(f\"Engine status - {car_1.engine_status}\")\n",
    "print(\"car_2\")\n",
    "print(car_2)\n",
    "print(f\"Engine status - {car_2.engine_status}\")"
   ]
  },
  {
   "cell_type": "code",
   "execution_count": 2,
   "metadata": {},
   "outputs": [],
   "source": [
    "class Car:\n",
    "    def __init__(self, brand, year, color, car_type):\n",
    "        self.brand = brand\n",
    "        self.year = year\n",
    "        self.color = color\n",
    "        self.car_type = car_type\n",
    "        self.engine_status = False\n",
    "        self.window_fluid = 0.\n",
    "        self.MAX_WINDOW_FLUID = 3.4 # didžiosios nurodo, kad tai konstanta ir neturėtų keistis.\n",
    "# kuriame metodus/funkcijas klasės viduje\n",
    "    def __str__(self):\n",
    "        return f\"Brand: {self.brand}, year: {self.year}\" # taigi leidžia atspausdinti visus atributus vienu sykiu, o ne atskirai ršyti, pvz., print(car_1.brand) ir pan.\n",
    "    def start_engine (self): # bet reikia susikurti kintamąjį po \"def __init__ (self):\" eilute, pvz., self.engine_status = False (kai neužvedama mašina, variklis bus False).\n",
    "        if self.engine_status == False: # galime aprašyti veiksmus, kurie įjungia variklį\n",
    "            self.engine_status = True\n",
    "# per šį metodą/funkciją galime daryti tam tikrus veiksmus per šį objektą, t. y. per mašiną\n",
    "    def stop_engine (self):\n",
    "        if self.engine_status == True: # galime aprašyti veiksmus, kurie išjungia variklį\n",
    "            self.engine_status = False\n",
    "    \n",
    "    def add_window_fluid (self, amount_of_fluid): # amount_of_ fluid - papildomas argumentas. Bet vėlgi reikia susikurti kintamąjį po \"def __init__ (self):\" eilute, pvz., self.window_fluid = 0. (0 reiškia, jog tuščias bakelis) ir self.MAX_WINDOW_FLUID = 3.4.\n",
    "        if self.window_fluid + amount_of_fluid > self.MAX_WINDOW_FLUID:\n",
    "            self.window_fluid = self.MAX_WINDOW_FLUID\n",
    "        else:\n",
    "            self.window_fluid += amount_of_fluid # nereikia self prie amount_of_fluid, nes self naudojame, kai reikia informacijos apie objektą.\n",
    "\n",
    "\n"
   ]
  },
  {
   "cell_type": "code",
   "execution_count": 3,
   "metadata": {},
   "outputs": [
    {
     "name": "stdout",
     "output_type": "stream",
     "text": [
      "car_1\n",
      "Brand: Audi, year: 2005\n",
      "Engine status - False\n",
      "įjungti variklį\n",
      "Engine status - True\n",
      "išjungti variklį\n",
      "Engine status - False\n",
      "adding window fluid\n",
      "car has 2.0\n",
      "car_2\n",
      "Brand: Bmw, year: 2010\n",
      "Engine status - False\n"
     ]
    }
   ],
   "source": [
    "car_1 = Car(\"Audi\", 2005, \"red\", \"couppe\") # pirmoji unikali mašina\n",
    "car_2 = Car(\"Bmw\", 2010, \"black\", \"vagon\")\n",
    "print(\"car_1\")\n",
    "print (car_1)\n",
    "print(f\"Engine status - {car_1.engine_status}\") # atspausdinu, ar variklis įjumgtas, ar išjungtas (šiuo atveju išjungtas).\n",
    "print(\"įjungti variklį\")\n",
    "car_1.start_engine() # tuomet paleidžiu komandą, kuri įjungia variklį. \"car_1.start_engine()\" yra metodas\n",
    "print(f\"Engine status - {car_1.engine_status}\")\n",
    "print(\"išjungti variklį\")\n",
    "car_1.stop_engine()\n",
    "print(f\"Engine status - {car_1.engine_status}\")\n",
    "\n",
    "print(\"adding window fluid\")\n",
    "car_1.add_window_fluid(2.)\n",
    "print(f\"car has {car_1.window_fluid}\")\n",
    "print(\"car_2\")\n",
    "print(car_2)\n",
    "print(f\"Engine status - {car_2.engine_status}\")"
   ]
  },
  {
   "cell_type": "markdown",
   "metadata": {},
   "source": [
    "# Class inheritance"
   ]
  },
  {
   "cell_type": "code",
   "execution_count": 24,
   "metadata": {},
   "outputs": [],
   "source": [
    "class Pipe():\n",
    "    def __init__(self) -> None:\n",
    "        pass\n",
    "        self.attribute_hello = \"Hello\"\n",
    "    def flow_rate(self, velocity):\n",
    "        return self.cross_section()*velocity\n",
    "    def cross_section(self):\n",
    "        raise NotImplementedError\n",
    "# sukūrėme labai generinį, abstraktų vamzdį, tiesa, neturėtume tokio vamzdžio per klasę kurti, bet mokymosi tikslais sukūrėme, reikia kurti vamzdį su savybėmis. "
   ]
  },
  {
   "cell_type": "code",
   "execution_count": 25,
   "metadata": {},
   "outputs": [],
   "source": [
    "class SquarePipe(Pipe): # norint įgalinti paveldėjimą, reikia skliastuose nurodyti kitos klasės pavadinimą \n",
    "    def __init__(self, width, height):\n",
    "        super().__init__() # ši komanda iškviečia \"tėvo\" komandą, t. y. \"tėvo\" savybes, o metodai ir taip persiduoda.\n",
    "        self.width = width\n",
    "        self.height = height\n",
    "\n",
    "    def cross_section(self):\n",
    "        return self.width * self.height\n",
    "# susikūrėme kvadratino vamzdžio klasę su dviejais argumentais. visa tai jau leidžia kurti unikalų vamzdį, žiūrėti kitoje cėlėje.\n"
   ]
  },
  {
   "cell_type": "code",
   "execution_count": 26,
   "metadata": {},
   "outputs": [
    {
     "name": "stdout",
     "output_type": "stream",
     "text": [
      "0.06\n",
      "Hello\n"
     ]
    }
   ],
   "source": [
    "square_pipe1 = SquarePipe(0.4, 0.3)\n",
    "print(square_pipe1.flow_rate(0.5)) # gauname tiekėjimo greitį(0.06)\n",
    "print(square_pipe1.attribute_hello)"
   ]
  },
  {
   "cell_type": "code",
   "execution_count": 28,
   "metadata": {},
   "outputs": [],
   "source": [
    "class RoundPipe(Pipe):\n",
    "    def __init__(self, radius):\n",
    "        #super().__init__()\n",
    "        self.radius = radius\n",
    "\n",
    "    def cross_section(self):\n",
    "        return 3.14 * (self.radius ** 2)"
   ]
  },
  {
   "cell_type": "code",
   "execution_count": 29,
   "metadata": {},
   "outputs": [
    {
     "name": "stdout",
     "output_type": "stream",
     "text": [
      "0.3925\n"
     ]
    },
    {
     "ename": "AttributeError",
     "evalue": "'RoundPipe' object has no attribute 'attribute_hello'",
     "output_type": "error",
     "traceback": [
      "\u001b[0;31m---------------------------------------------------------------------------\u001b[0m",
      "\u001b[0;31mAttributeError\u001b[0m                            Traceback (most recent call last)",
      "\u001b[1;32m/Users/martynas/Desktop/kursai/repository/PythonVakariniaiMokymai-2/lesson_7.ipynb Cell 15\u001b[0m in \u001b[0;36m<cell line: 4>\u001b[0;34m()\u001b[0m\n\u001b[1;32m      <a href='vscode-notebook-cell:/Users/martynas/Desktop/kursai/repository/PythonVakariniaiMokymai-2/lesson_7.ipynb#X20sZmlsZQ%3D%3D?line=1'>2</a>\u001b[0m \u001b[39mprint\u001b[39m(round_pipe1\u001b[39m.\u001b[39mflow_rate(\u001b[39m0.5\u001b[39m)) \u001b[39m# nereikia apsirašyti flow_rate, o paveldi iš abstraktaus vamzdžio aprašymo.\u001b[39;00m\n\u001b[1;32m      <a href='vscode-notebook-cell:/Users/martynas/Desktop/kursai/repository/PythonVakariniaiMokymai-2/lesson_7.ipynb#X20sZmlsZQ%3D%3D?line=2'>3</a>\u001b[0m \u001b[39m# paveldėjimas leidžia sutaupyti laiką, nes nebereikia rašyti tų dalykų, kurie kartojasi (šiuo atveju kaip apskaičiuoti flow_rate).\u001b[39;00m\n\u001b[0;32m----> <a href='vscode-notebook-cell:/Users/martynas/Desktop/kursai/repository/PythonVakariniaiMokymai-2/lesson_7.ipynb#X20sZmlsZQ%3D%3D?line=3'>4</a>\u001b[0m \u001b[39mprint\u001b[39m(round_pipe1\u001b[39m.\u001b[39;49mattribute_hello)\n",
      "\u001b[0;31mAttributeError\u001b[0m: 'RoundPipe' object has no attribute 'attribute_hello'"
     ]
    }
   ],
   "source": [
    "round_pipe1 = RoundPipe(0.5)\n",
    "print(round_pipe1.flow_rate(0.5)) # nereikia apsirašyti flow_rate, o paveldi iš abstraktaus vamzdžio aprašymo.\n",
    "# paveldėjimas leidžia sutaupyti laiką, nes nebereikia rašyti tų dalykų, kurie kartojasi (šiuo atveju kaip apskaičiuoti flow_rate).\n",
    "print(round_pipe1.attribute_hello)"
   ]
  },
  {
   "cell_type": "markdown",
   "metadata": {},
   "source": [
    "# pavyzdys su biblioteka"
   ]
  },
  {
   "cell_type": "code",
   "execution_count": 12,
   "metadata": {},
   "outputs": [],
   "source": [
    "import datetime\n",
    "\n",
    "class Biblioteka:\n",
    "    def __init__(self, pavadinimas):\n",
    "        self.pavadinimas = pavadinimas\n",
    "        self.knygos = [] # pradžioje biblioteka neturi jokių knygų.\n",
    "\n",
    "# reikia apsirašyti, jog galima pridėti ar pašalinti knygas iš bibliotekos\n",
    "    def add_book(self, add_book):\n",
    "        self.knygos.append(add_book)\n",
    "    def remove_book(self, remove_book):\n",
    "        if remove_book in self.knygos: # patikriname, ar pašalinama knyga yra bibliotekoje\n",
    "            self.knygos.remove(remove_book)\n",
    "        else:\n",
    "            print(\"Knyga {remove_book} nerasta sistemoje, tad negalime jos pašalinti\")\n",
    "    \n",
    "    \n",
    "\n",
    "    def knygu_laisvumas (self):\n",
    "        for book in self.knygos:\n",
    "            if not book.ordered_book:\n",
    "                print(f\" {book.pavadinimas} yra laisva\")\n",
    "\n",
    "    def paskolinti_knyga(self, user, knygos_pavadinimas):\n",
    "        rasta_laisva_knyga = False\n",
    "        for knyga in self.knygos:\n",
    "            if knyga.pavadinimas == knygos_pavadinimas and not knyga.ordered_book:\n",
    "                return_time = datetime.date.today() + datetime.timedelta(weeks=4)\n",
    "                rasta_laisva_knyga = True\n",
    "                knyga.to_order_book (user, return_time )\n",
    "        if not rasta_laisva_knyga:\n",
    "            print(f\" laisvos knygos - {knygos_pavadinimas} - nerasta\")\n"
   ]
  },
  {
   "cell_type": "code",
   "execution_count": null,
   "metadata": {},
   "outputs": [],
   "source": []
  },
  {
   "cell_type": "code",
   "execution_count": 27,
   "metadata": {},
   "outputs": [],
   "source": [
    "# toliau apsirašome, kas yra knyga\n",
    "class Book:\n",
    "    def __init__(self, pavadinimas, autorius, metai, puslapiai):\n",
    "        self.pavadinimas = pavadinimas\n",
    "        self.autorius = autorius\n",
    "        self.metai = metai\n",
    "        self.puslapiai = puslapiai\n",
    "\n",
    "        self.ordered_book = False # knyga nepaskolinta\n",
    "        self.reader = None # skaitytojo nėra\n",
    "        self.return_time = None\n",
    "    def to_order_book(self, new_reader, return_book_time):\n",
    "        self.new_reader = new_reader\n",
    "        self.return_time = return_book_time\n",
    "        self.ordered_book = True\n",
    "    def return_book(self):\n",
    "        self.new_reader = None\n",
    "        self.return_time = None\n",
    "        self.ordered_book = False\n",
    "    def __eq__(self, another_book: object) -> bool: # šita komanda lygina du objektus, t. y. knygą, kurią dabar ieškome, su konkrečia knyga bibliotekoje. ši komanda turi grąžinti loginę reikšmę.\n",
    "# self - ta knyga, kuri aprašyta  \"def __init__(self, pavadinimas, autorius, metai, puslapiai)\", another_book tai ta knyga, su kuria mes lyginame.\n",
    "# po return reikia parašyti kriterijus, pagal kuriuos jei knygos atitinka, bus vienodos.\n",
    "        return self.pavadinimas == another_book.pavadinimas and self.autorius == another_book.autorius\n",
    "# toliau susikuriame kelias unikalias knygas kitoje cėlėje.\n",
    "    def __repr__(self):\n",
    "        return f\"{self.pavadinimas} {self.autorius} {self.metai}\"\n",
    "\n"
   ]
  },
  {
   "cell_type": "code",
   "execution_count": 28,
   "metadata": {},
   "outputs": [],
   "source": [
    "knyga_1 = Book(pavadinimas=\"knyga_5\", autorius=\"Kazkoks zymus zmogus\", metai=1843, puslapiai=576 )\n",
    "knyga_2 = Book(\"knyga_2\", \"Kazkoks zymus zmogus\", 1983, 576 )\n",
    "knyga_3 = Book(\"knyga_3\", \"Kitas zmogus\", 1923, 547 )\n",
    "knyga_4 = Book(\"knyga_2\", \"Kazkas\", 1489, 4984 )\n",
    "knyga_5 = Book(\"knyga_5\", \"Kazkoks zymus zmogus\", 1843, 576 )\n"
   ]
  },
  {
   "cell_type": "code",
   "execution_count": 29,
   "metadata": {},
   "outputs": [
    {
     "name": "stdout",
     "output_type": "stream",
     "text": [
      "True\n",
      "False\n"
     ]
    }
   ],
   "source": [
    "print(knyga_1 == knyga_5)\n",
    "print(knyga_1 == knyga_2) # naudojame komandą \"def __eq__(self, another_book: object)\""
   ]
  },
  {
   "cell_type": "code",
   "execution_count": 30,
   "metadata": {},
   "outputs": [
    {
     "name": "stdout",
     "output_type": "stream",
     "text": [
      "[]\n",
      "[knyga_5 Kazkoks zymus zmogus 1843, knyga_2 Kazkoks zymus zmogus 1983, knyga_3 Kitas zmogus 1923, knyga_2 Kazkas 1489, knyga_5 Kazkoks zymus zmogus 1843]\n"
     ]
    }
   ],
   "source": [
    "# susikuriame unikalią biblioteką\n",
    "mano_biblioteka = Biblioteka(\"VCS biblioteka\")\n",
    "print(mano_biblioteka.knygos) # atspausdinimo, kiek yra knygų. Tuščia.\n",
    "# pridedame knygas\n",
    "mano_biblioteka.add_book(knyga_1)\n",
    "mano_biblioteka.add_book(knyga_2)\n",
    "mano_biblioteka.add_book(knyga_3)\n",
    "mano_biblioteka.add_book(knyga_4)\n",
    "mano_biblioteka.add_book(knyga_5)\n",
    "print(mano_biblioteka.knygos)\n",
    "# unikalias knygas padavėme bibliotekai. Ir jei per biblioteka pakeičiame kokią nors vertę (pvz., per komandą skolinti), tai ir unikalios knygos vertė keičiasi. Tai yra susiję su mutable principais."
   ]
  },
  {
   "cell_type": "code",
   "execution_count": 31,
   "metadata": {},
   "outputs": [
    {
     "name": "stdout",
     "output_type": "stream",
     "text": [
      " knyga_5 yra laisva\n",
      " knyga_2 yra laisva\n",
      " knyga_3 yra laisva\n",
      " knyga_2 yra laisva\n",
      " knyga_5 yra laisva\n"
     ]
    }
   ],
   "source": [
    "mano_biblioteka.knygu_laisvumas()"
   ]
  },
  {
   "cell_type": "code",
   "execution_count": 32,
   "metadata": {},
   "outputs": [],
   "source": [
    "mano_biblioteka.paskolinti_knyga (\"Petrui\", \"knyga_3\")\n"
   ]
  },
  {
   "cell_type": "code",
   "execution_count": 33,
   "metadata": {},
   "outputs": [
    {
     "name": "stdout",
     "output_type": "stream",
     "text": [
      " knyga_5 yra laisva\n",
      " knyga_2 yra laisva\n",
      " knyga_2 yra laisva\n",
      " knyga_5 yra laisva\n"
     ]
    }
   ],
   "source": [
    "mano_biblioteka.knygu_laisvumas()"
   ]
  },
  {
   "cell_type": "code",
   "execution_count": 34,
   "metadata": {},
   "outputs": [
    {
     "data": {
      "text/plain": [
       "'Petrui'"
      ]
     },
     "execution_count": 34,
     "metadata": {},
     "output_type": "execute_result"
    }
   ],
   "source": [
    "knyga_3.new_reader"
   ]
  },
  {
   "cell_type": "code",
   "execution_count": 40,
   "metadata": {},
   "outputs": [],
   "source": [
    "knyga_4.pavadinimas = \"knyga_2\""
   ]
  },
  {
   "cell_type": "code",
   "execution_count": 41,
   "metadata": {},
   "outputs": [
    {
     "name": "stdout",
     "output_type": "stream",
     "text": [
      "knyga_2\n"
     ]
    }
   ],
   "source": [
    "print(knyga_4.pavadinimas)"
   ]
  },
  {
   "cell_type": "code",
   "execution_count": null,
   "metadata": {},
   "outputs": [],
   "source": [
    "# no suggestions\n",
    "def string_function( variable ):\n",
    "    return variable.replace(\" \", \"_\")\n",
    "\n",
    "# variable_name : <variable_type>\n",
    "def string_function_with_suggestion( variable: str ) -> str:\n",
    "    return variable.replace(\" \", \"_\")"
   ]
  }
 ],
 "metadata": {
  "kernelspec": {
   "display_name": "Python 3.10.6 64-bit",
   "language": "python",
   "name": "python3"
  },
  "language_info": {
   "codemirror_mode": {
    "name": "ipython",
    "version": 3
   },
   "file_extension": ".py",
   "mimetype": "text/x-python",
   "name": "python",
   "nbconvert_exporter": "python",
   "pygments_lexer": "ipython3",
   "version": "3.10.6"
  },
  "orig_nbformat": 4,
  "vscode": {
   "interpreter": {
    "hash": "aee8b7b246df8f9039afb4144a1f6fd8d2ca17a180786b69acc140d282b71a49"
   }
  }
 },
 "nbformat": 4,
 "nbformat_minor": 2
}
