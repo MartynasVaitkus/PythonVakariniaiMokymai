{
 "cells": [
  {
   "cell_type": "markdown",
   "metadata": {},
   "source": [
    "# String\n"
   ]
  },
  {
   "cell_type": "code",
   "execution_count": 24,
   "metadata": {},
   "outputs": [
    {
     "name": "stdout",
     "output_type": "stream",
     "text": [
      "<class 'str'>\n",
      "n\n",
      "s\n",
      "a\n",
      "15\n",
      "15\n",
      "MartynasVaitkus\n",
      "MartynasVaitkus\n",
      "Martynas Vaitkus\n",
      "Martynas Vaitkus\n",
      "i\n",
      "ni\n"
     ]
    }
   ],
   "source": [
    "vardas = \"Martynas\"\n",
    "pavardė = \"Vaitkus\"\n",
    "print (type(vardas))\n",
    "print (vardas[5])\n",
    "print (vardas[7])\n",
    "print (vardas[-7])\n",
    "print ((len (vardas)) + (len (pavardė)))\n",
    "print ((len (vardas)) + (len (pavardė)))\n",
    "print ((vardas)  +  (pavardė))\n",
    "print ((vardas) + (pavardė))\n",
    "print (vardas, pavardė)\n",
    "print (vardas,pavardė)\n",
    "print (pavardė[2])\n",
    "print ((vardas [5]) + (pavardė) [2])\n"
   ]
  },
  {
   "cell_type": "markdown",
   "metadata": {},
   "source": [
    "# find"
   ]
  },
  {
   "cell_type": "code",
   "execution_count": 46,
   "metadata": {},
   "outputs": [
    {
     "name": "stdout",
     "output_type": "stream",
     "text": [
      "44\n",
      "38\n",
      "82\n",
      "6\n",
      "23\n",
      "11\n",
      "35\n"
     ]
    }
   ],
   "source": [
    "sakinys = \"Martynas Vaitkus bando programuoti su Python\"\n",
    "print (len (sakinys))\n",
    "print (sakinys.find (\"Python\"))\n",
    "print ((len(sakinys)) + (sakinys.find(\"Python\")))\n",
    "print ((len(sakinys)) - (sakinys.find(\"Python\")))\n",
    "print (sakinys.find(\"programuoti\"))\n",
    "print (len (\"programuoti\"))\n",
    "print (sakinys.find (\"su\"))"
   ]
  },
  {
   "cell_type": "markdown",
   "metadata": {},
   "source": [
    "# Slicing"
   ]
  },
  {
   "cell_type": "code",
   "execution_count": 3,
   "metadata": {},
   "outputs": [
    {
     "name": "stdout",
     "output_type": "stream",
     "text": [
      "Ma\n",
      "Mrya atu ad rgaut uPto\n",
      "MtaVtsaorruiuyo\n",
      "15\n",
      "48\n"
     ]
    }
   ],
   "source": [
    "sakinys = \"Martynas Vaitkus bando programuoti su Python\"\n",
    "print (sakinys[0:2])\n",
    "print (sakinys[0::2])\n",
    "print (sakinys[0::3])\n",
    "print (len((sakinys[0::3])))\n",
    "print ((len((sakinys[0::3])) + len (\"su\")) - len (\"Vaitkus\") + (sakinys.find (\"Python\")))\n",
    "\n",
    "\n"
   ]
  },
  {
   "cell_type": "markdown",
   "metadata": {},
   "source": [
    "# Replace"
   ]
  },
  {
   "cell_type": "code",
   "execution_count": 8,
   "metadata": {},
   "outputs": [
    {
     "name": "stdout",
     "output_type": "stream",
     "text": [
      "Vaikinas programuoja su Java\n",
      "28\n",
      "38\n",
      "9\n",
      "24\n",
      "ikiaV\n"
     ]
    }
   ],
   "source": [
    "sakinys = \"Martynas Vaitkus bando programuoti su Python\"\n",
    "sakinys.replace (\"Martynas Vaitkus bando programuoti\", \"Vaikinas programuoja\"). replace (\"Python\", \"Java\")\n",
    "print (sakinys.replace (\"Martynas Vaitkus bando programuoti\", \"Vaikinas programuoja\"). replace (\"Python\", \"Java\"))\n",
    "print (len (sakinys.replace (\"Martynas Vaitkus bando programuoti\", \"Vaikinas programuoja\"). replace (\"Python\", \"Java\")))\n",
    "print ((len (sakinys.replace (\"Martynas Vaitkus bando programuoti\", \"Vaikinas programuoja\"). replace (\"Python\", \"Java\"))) + len (\"Java\") + len (\"Python\"))\n",
    "print (sakinys. find (\"Vaitkus\"))\n",
    "sakinys = sakinys.replace (\"Martynas Vaitkus bando programuoti\", \"Vaikinas programuoja\"). replace (\"Python\", \"Java\")\n",
    "print (sakinys. find (\"Java\"))\n",
    "print (sakinys [4::-1])\n"
   ]
  }
 ],
 "metadata": {
  "kernelspec": {
   "display_name": "Python 3.10.6 64-bit",
   "language": "python",
   "name": "python3"
  },
  "language_info": {
   "codemirror_mode": {
    "name": "ipython",
    "version": 3
   },
   "file_extension": ".py",
   "mimetype": "text/x-python",
   "name": "python",
   "nbconvert_exporter": "python",
   "pygments_lexer": "ipython3",
   "version": "3.10.6"
  },
  "orig_nbformat": 4,
  "vscode": {
   "interpreter": {
    "hash": "aee8b7b246df8f9039afb4144a1f6fd8d2ca17a180786b69acc140d282b71a49"
   }
  }
 },
 "nbformat": 4,
 "nbformat_minor": 2
}
