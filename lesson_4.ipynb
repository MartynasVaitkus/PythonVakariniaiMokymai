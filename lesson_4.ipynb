{
 "cells": [
  {
   "cell_type": "markdown",
   "metadata": {},
   "source": [
    "# List comprehension"
   ]
  },
  {
   "cell_type": "code",
   "execution_count": 5,
   "metadata": {},
   "outputs": [
    {
     "name": "stdout",
     "output_type": "stream",
     "text": [
      "[3, 6, 9, 12, 15, 18]\n"
     ]
    }
   ],
   "source": [
    "range(1,21)\n",
    "dalinasiiš3 = []\n",
    "for x in range(1, 21):\n",
    "    if (x % 3) == 0:\n",
    "        dalinasiiš3.append(x)\n",
    "print(dalinasiiš3)\n",
    "# visa tai galima perteikti ir viena eilute. Žiūrėti apačioje:)"
   ]
  },
  {
   "cell_type": "code",
   "execution_count": 11,
   "metadata": {},
   "outputs": [
    {
     "name": "stdout",
     "output_type": "stream",
     "text": [
      "[2, 4, 6, 8, 10, 12, 14, 16, 18, 20, 22, 24, 26, 28, 30, 32, 34, 36, 38, 40]\n"
     ]
    }
   ],
   "source": [
    "y = [x * 2 for x in range(1, 21)]\n",
    "print(y)"
   ]
  },
  {
   "cell_type": "code",
   "execution_count": 13,
   "metadata": {},
   "outputs": [
    {
     "name": "stdout",
     "output_type": "stream",
     "text": [
      "[3, 6, 9, 12, 15, 18]\n"
     ]
    }
   ],
   "source": [
    "dalinasiiš3 = [x for x in range(1, 21) if x % 3 ==0]\n",
    "print(dalinasiiš3)"
   ]
  },
  {
   "cell_type": "code",
   "execution_count": 14,
   "metadata": {},
   "outputs": [
    {
     "name": "stdout",
     "output_type": "stream",
     "text": [
      "['nesidalina', 'nesidalina', 3, 'nesidalina', 'nesidalina', 6, 'nesidalina', 'nesidalina', 9, 'nesidalina', 'nesidalina', 12, 'nesidalina', 'nesidalina', 15, 'nesidalina', 'nesidalina', 18, 'nesidalina', 'nesidalina']\n"
     ]
    }
   ],
   "source": [
    "dalinasiiš3 = [x if x % 3 ==0 else \"nesidalina\" for x in range(1, 21) ]\n",
    "print(dalinasiiš3)"
   ]
  },
  {
   "cell_type": "markdown",
   "metadata": {},
   "source": [
    "# None deklaracija"
   ]
  },
  {
   "cell_type": "code",
   "execution_count": 1,
   "metadata": {},
   "outputs": [
    {
     "name": "stdout",
     "output_type": "stream",
     "text": [
      "<class 'NoneType'>\n"
     ]
    }
   ],
   "source": [
    "niekas = None\n",
    "print(type(niekas))"
   ]
  },
  {
   "cell_type": "code",
   "execution_count": 2,
   "metadata": {},
   "outputs": [
    {
     "name": "stdout",
     "output_type": "stream",
     "text": [
      "None\n"
     ]
    }
   ],
   "source": [
    "list_1 = [1, 2, 3, 4, ]\n",
    "print(list_1.sort()) # atmintyje yra įrašomas rikiavimas, o grąžina None. Jei print(list_1), tai atspausdins jau išrikiuotą sąrašą."
   ]
  },
  {
   "cell_type": "code",
   "execution_count": 3,
   "metadata": {},
   "outputs": [
    {
     "name": "stdout",
     "output_type": "stream",
     "text": [
      "vardas yra None\n",
      "vardas yra Nida\n"
     ]
    }
   ],
   "source": [
    "#name = \"\"\n",
    "#name=input (\"koks tavo vardas?\")\n",
    "#if name == \"Jonas\":\n",
    "#    print(\"sveikas, Jonai!\")\n",
    "\n",
    "name = None\n",
    "name1=input (\"koks tavo vardas?\")\n",
    "if name1 == \"\":\n",
    "    name1=input(\"neįrašėte vardo, tai koks jūsų vardas?\")\n",
    "print(f\"vardas yra {name}\")\n",
    "if name1 != \"\":\n",
    "    name=name1\n",
    "print(f\"vardas yra {name}\")\n",
    "\n"
   ]
  },
  {
   "cell_type": "markdown",
   "metadata": {},
   "source": [
    "# Dictionary"
   ]
  },
  {
   "cell_type": "code",
   "execution_count": 16,
   "metadata": {},
   "outputs": [
    {
     "name": "stdout",
     "output_type": "stream",
     "text": [
      "{'vardas': 'Jonas', 'amzius': 26}\n",
      "Jonas\n",
      "2\n",
      "dict_keys(['vardas', 'amzius'])\n",
      "{'vardas': 'Jonas', 'amzius': 26, 'hobiai': ['fotografavimas', 'muzika']}\n",
      "{'vardas': 'Jonas', 'amzius': 27, 'hobiai': ['fotografavimas', 'muzika']}\n",
      "<class 'list'>\n"
     ]
    }
   ],
   "source": [
    "me = {\n",
    "    \"vardas\" : \"Jonas\",\n",
    "    \"amzius\" : 26\n",
    "}\n",
    "print(me)\n",
    "print(me [\"vardas\"])\n",
    "print(len(me))\n",
    "print(me.keys())\n",
    "me[\"hobiai\"] = [\"fotografavimas\", \"muzika\" ]\n",
    "print(me)\n",
    "me[\"amzius\"] = 27\n",
    "print(me)\n",
    "print(type(me[\"hobiai\"]))"
   ]
  },
  {
   "cell_type": "code",
   "execution_count": 15,
   "metadata": {},
   "outputs": [
    {
     "name": "stdout",
     "output_type": "stream",
     "text": [
      "tiesa\n",
      "penki\n"
     ]
    }
   ],
   "source": [
    "someone = {\n",
    "    \"True\": \"tiesa\",\n",
    "    \"False\": \"false\",\n",
    "    5: \"penki\"\n",
    "}\n",
    "print(someone[\"True\"])\n",
    "print(someone[5])"
   ]
  },
  {
   "cell_type": "code",
   "execution_count": 25,
   "metadata": {},
   "outputs": [
    {
     "name": "stdout",
     "output_type": "stream",
     "text": [
      "[{'vardas': 'Jonas', 'pavardė': 'Jonaitis'}, {'vardas': 'Petras', 'pavardė': 'Petraitis'}]\n",
      "Martynas\n",
      "[{'vardas': 'Martynas', 'pavardė': 'Jonaitis'}, {'vardas': 'Petras', 'pavardė': 'Petraitis'}]\n",
      "Martynas\n",
      "Petras\n"
     ]
    }
   ],
   "source": [
    "žmonės = [\n",
    "    {\"vardas\": \"Jonas\",\n",
    "    \"pavardė\": \"Jonaitis\"},\n",
    "    {\"vardas\": \"Petras\",\n",
    "    \"pavardė\": \"Petraitis\" }\n",
    "]\n",
    "print(žmonės)\n",
    "žmonės[0][\"vardas\"] = \"Martynas\"\n",
    "print(žmonės[0][\"vardas\"])\n",
    "print(žmonės)\n",
    "for vardai in žmonės:\n",
    "    print(vardai [\"vardas\"])\n"
   ]
  },
  {
   "cell_type": "code",
   "execution_count": 4,
   "metadata": {},
   "outputs": [
    {
     "name": "stdout",
     "output_type": "stream",
     "text": [
      "{'vardas': 'Jonas', 'amzius': 26}\n",
      "Jonas\n",
      "2\n",
      "dict_keys(['vardas', 'amzius'])\n",
      "{'vardas': 'Jonas', 'amzius': 26, 'hobiai': ['fotografavimas', 'muzika']}\n",
      "{'vardas': 'Jonas', 'amzius': 27, 'hobiai': ['fotografavimas', 'muzika']}\n",
      "3\n"
     ]
    }
   ],
   "source": [
    "me = {\n",
    "    \"vardas\" : \"Jonas\",\n",
    "    \"amzius\" : 26\n",
    "}\n",
    "print(me)\n",
    "print(me [\"vardas\"])\n",
    "print(len(me))\n",
    "print(me.keys())\n",
    "me[\"hobiai\"] = [\"fotografavimas\", \"muzika\" ]\n",
    "print(me)\n",
    "me[\"amzius\"] = 27\n",
    "print(me)\n",
    "print(len(me))"
   ]
  },
  {
   "cell_type": "code",
   "execution_count": 6,
   "metadata": {},
   "outputs": [
    {
     "name": "stdout",
     "output_type": "stream",
     "text": [
      "{'vardas': 'Jonas', 'amzius': 27, 'hobiai': ['fotografavimas', 'muzika']}\n",
      "{}\n"
     ]
    }
   ],
   "source": [
    "print(me)\n",
    "me.clear() # ištrina viską, jei norisi ištrinti konkrečiai ką nors, naudoti del\n",
    "print(me)\n"
   ]
  },
  {
   "cell_type": "code",
   "execution_count": 8,
   "metadata": {},
   "outputs": [
    {
     "name": "stdout",
     "output_type": "stream",
     "text": [
      "{'vardas': 'Jonas', 'amzius': 27, 'hobiai': ['fotografavimas', 'muzika']}\n",
      "{'vardas': 'Jonas', 'amzius': 27}\n"
     ]
    }
   ],
   "source": [
    "me = {'vardas': 'Jonas', 'amzius': 27, 'hobiai': ['fotografavimas', 'muzika']}\n",
    "print(me)\n",
    "del me[\"hobiai\"]\n",
    "print(me)"
   ]
  },
  {
   "cell_type": "code",
   "execution_count": 11,
   "metadata": {},
   "outputs": [
    {
     "name": "stdout",
     "output_type": "stream",
     "text": [
      "{'vardas': 'Jonas', 'amzius': 27, 'hobiai': ['fotografavimas', 'muzika']}\n",
      "{'amzius': 27, 'hobiai': ['fotografavimas', 'muzika']}\n"
     ]
    }
   ],
   "source": [
    "me = {'vardas': 'Jonas', 'amzius': 27, 'hobiai': ['fotografavimas', 'muzika']}\n",
    "print(me)\n",
    "me.pop(\"vardas\")\n",
    "print(me)"
   ]
  },
  {
   "cell_type": "code",
   "execution_count": 16,
   "metadata": {},
   "outputs": [
    {
     "name": "stdout",
     "output_type": "stream",
     "text": [
      "{'vardas': 'Jonas', 'amzius': 27, 'hobiai': ['fotografavimas', 'muzika']}\n",
      "('hobiai', ['fotografavimas', 'muzika'])\n",
      "{'vardas': 'Jonas', 'amzius': 27}\n"
     ]
    }
   ],
   "source": [
    "me = {'vardas': 'Jonas', 'amzius': 27, 'hobiai': ['fotografavimas', 'muzika']}\n",
    "print(me)\n",
    "print(me.popitem()) #popitem savo nuožiūra (gal paskutinį) ištrina vieną narį ir jį pateikia. Atkreipti dėmesį, kad pateikia paprastais skliaustais ().\n",
    "print(me)\n",
    "\n",
    "\n"
   ]
  },
  {
   "cell_type": "code",
   "execution_count": 22,
   "metadata": {},
   "outputs": [
    {
     "name": "stdout",
     "output_type": "stream",
     "text": [
      "{'vardas': 'Jonas', 'amzius': 27, 'hobiai': ['fotografavimas', 'muzika']}\n",
      "None\n",
      "nerastas\n",
      "['fotografavimas', 'muzika']\n"
     ]
    }
   ],
   "source": [
    "me = {'vardas': 'Jonas', 'amzius': 27, 'hobiai': ['fotografavimas', 'muzika']}\n",
    "print(me)\n",
    "#print(me[\"neegzistuojantys dalykai\"]) # išmeta klaidą\n",
    "print(me.get(\"neegzistuojantys dalykai\")) # nemeta klaidos\n",
    "print(me.get(\"neegzistuojantys dalykai\", \"nerastas\")) \n",
    "print(me.get(\"hobiai\"))"
   ]
  },
  {
   "cell_type": "code",
   "execution_count": 23,
   "metadata": {},
   "outputs": [
    {
     "name": "stdout",
     "output_type": "stream",
     "text": [
      "{'vardas': 'Jonas', 'amzius': 27, 'hobiai': ['fotografavimas', 'muzika']}\n",
      "{'vardas': 'Jonas', 'amzius': 28, 'hobiai': ['fotografavimas', 'muzika', 'rankinis']}\n"
     ]
    }
   ],
   "source": [
    "me = {'vardas': 'Jonas', 'amzius': 27, 'hobiai': ['fotografavimas', 'muzika']}\n",
    "print(me)\n",
    "nauji_duomenys = {\"amzius\": 28, \"hobiai\": ['fotografavimas', 'muzika', 'rankinis']}\n",
    "me.update(nauji_duomenys)\n",
    "print(me)"
   ]
  },
  {
   "cell_type": "code",
   "execution_count": 33,
   "metadata": {},
   "outputs": [
    {
     "name": "stdout",
     "output_type": "stream",
     "text": [
      "{'vardas': 'Jonas', 'amzius': 27, 'hobiai': ['fotografavimas', 'muzika']}\n",
      "Jonas\n",
      "27\n",
      "['fotografavimas', 'muzika']\n",
      "vardas\n",
      "amzius\n",
      "hobiai\n"
     ]
    }
   ],
   "source": [
    "me = {'vardas': 'Jonas', 'amzius': 27, 'hobiai': ['fotografavimas', 'muzika']}\n",
    "print(me)\n",
    "for value in me.values():\n",
    "    print(value)\n",
    "for key in me.keys():\n",
    "    print(key)\n",
    "\n"
   ]
  },
  {
   "cell_type": "code",
   "execution_count": 31,
   "metadata": {},
   "outputs": [
    {
     "name": "stdout",
     "output_type": "stream",
     "text": [
      "{'vardas': 'Jonas', 'amzius': 27, 'hobiai': ['fotografavimas', 'muzika']}\n",
      " key is vardas and value is Jonas\n",
      " key is amzius and value is 27\n",
      " key is hobiai and value is ['fotografavimas', 'muzika']\n"
     ]
    }
   ],
   "source": [
    "me = {'vardas': 'Jonas', 'amzius': 27, 'hobiai': ['fotografavimas', 'muzika']}\n",
    "print(me)\n",
    "for key, value in me.items():\n",
    "    print(f\" key is {key} and value is {value}\")"
   ]
  },
  {
   "cell_type": "markdown",
   "metadata": {},
   "source": [
    "# užduotys su dictionary"
   ]
  },
  {
   "cell_type": "code",
   "execution_count": 40,
   "metadata": {},
   "outputs": [
    {
     "name": "stdout",
     "output_type": "stream",
     "text": [
      "Ford\n",
      "3\n",
      "{'brand': 'Ford', 'model': 'Mustang', 'year': 2022}\n",
      "{'brand': 'Ford', 'model': 'Mustang', 'year': 2022, 'color': 'red', 'used': True}\n",
      "{'model': 'Mustang', 'year': 2022, 'color': 'red', 'used': True}\n",
      "{'model': 'Mustang', 'year': None, 'color': 'red', 'used': True}\n"
     ]
    }
   ],
   "source": [
    "car = {\n",
    "    \"brand\": \"Ford\",\n",
    "    \"model\": \"Mustang\",\n",
    "    \"year\": 1964\n",
    "}\n",
    "print(car[\"brand\"])\n",
    "print(len(car))\n",
    "car[\"year\"]= 2022\n",
    "print(car)\n",
    "nauji_duomenys = {\"color\": \"red\", \"used\": True}\n",
    "car.update(nauji_duomenys)\n",
    "print(car)\n",
    "car.pop(\"brand\")\n",
    "print(car)\n",
    "car[\"year\"]= None\n",
    "print(car)"
   ]
  },
  {
   "cell_type": "markdown",
   "metadata": {},
   "source": [
    "# Set"
   ]
  },
  {
   "cell_type": "code",
   "execution_count": 47,
   "metadata": {},
   "outputs": [
    {
     "name": "stdout",
     "output_type": "stream",
     "text": [
      "3\n",
      "{'banana', 'strawsberry', 'cherry', 'apple'}\n",
      "{'strawsberry', 'cherry', 'apple'}\n"
     ]
    }
   ],
   "source": [
    "thisset = {\"apple\", \"banana\", \"cherry\"}\n",
    "print(len(thisset))\n",
    "\"banana\" in thisset\n",
    "thisset.add(\"strawsberry\")\n",
    "print(thisset)\n",
    "thisset.remove(\"banana\")\n",
    "print(thisset)"
   ]
  },
  {
   "cell_type": "code",
   "execution_count": 45,
   "metadata": {},
   "outputs": [
    {
     "name": "stdout",
     "output_type": "stream",
     "text": [
      "{'a', 1, 3, 4, 5, 'c'}\n"
     ]
    }
   ],
   "source": [
    "set1 = {1, 1, 1, 1, 3, 4, 3, 5, \"a\", \"c\"}\n",
    "print(set1) # atkreipti, kad dingo kiti vienetai, liko tik vienas vienetas. Set turi būti tik unikalūs, t. y. nesikartojantys nariai.\n"
   ]
  },
  {
   "cell_type": "code",
   "execution_count": 48,
   "metadata": {},
   "outputs": [
    {
     "name": "stdout",
     "output_type": "stream",
     "text": [
      "{'cherry', 'banana', 'raspeberry', 'strawsberry', 'apple'}\n"
     ]
    }
   ],
   "source": [
    "thisset = {\"apple\", \"banana\", \"cherry\"}\n",
    "thisset.update({\"strawsberry\", \"raspeberry\"})\n",
    "print(thisset)\n"
   ]
  },
  {
   "cell_type": "code",
   "execution_count": 50,
   "metadata": {},
   "outputs": [
    {
     "name": "stdout",
     "output_type": "stream",
     "text": [
      "{'cherry', 'banana', 'raspeberry', 'strawsberry', 'apple'}\n",
      "{'cherry', 'banana', 'raspeberry', 'strawsberry'}\n"
     ]
    }
   ],
   "source": [
    "thisset = {\"apple\", \"banana\", \"cherry\"}\n",
    "thisset.update({\"strawsberry\", \"raspeberry\"})\n",
    "print(thisset)\n",
    "thisset.discard(\"apple\") # discard nemeta klaidos, jei set nėra reikšmės, kurią norisi ištrinti. Tuo tarpu remove() tokiu atveju meta klaidą.\n",
    "print(thisset)"
   ]
  },
  {
   "cell_type": "code",
   "execution_count": 55,
   "metadata": {},
   "outputs": [
    {
     "name": "stdout",
     "output_type": "stream",
     "text": [
      "{1, 2, 3, 4}\n",
      "{8, 9, 6, 7}\n",
      "{1, 2, 3, 4, 6, 7, 8, 9}\n",
      "{1, 2, 3, 4}\n"
     ]
    }
   ],
   "source": [
    "set1 = {1, 4, 3, 2}\n",
    "print(set1)\n",
    "set2 = {8, 6, 9, 7}\n",
    "print(set2)\n",
    "set1.union(set2)\n",
    "print(set1.union(set2))\n",
    "print(set1)\n"
   ]
  },
  {
   "cell_type": "code",
   "execution_count": 56,
   "metadata": {},
   "outputs": [
    {
     "name": "stdout",
     "output_type": "stream",
     "text": [
      "{1, 2, 3, 4}\n",
      "{8, 9, 6, 7}\n",
      "{1, 2, 3, 4}\n"
     ]
    }
   ],
   "source": [
    "set1 = {1, 4, 3, 2}\n",
    "print(set1)\n",
    "set2 = {8, 6, 9, 7}\n",
    "print(set2)\n",
    "print(set1.difference(set2))"
   ]
  }
 ],
 "metadata": {
  "kernelspec": {
   "display_name": "Python 3.10.6 64-bit",
   "language": "python",
   "name": "python3"
  },
  "language_info": {
   "codemirror_mode": {
    "name": "ipython",
    "version": 3
   },
   "file_extension": ".py",
   "mimetype": "text/x-python",
   "name": "python",
   "nbconvert_exporter": "python",
   "pygments_lexer": "ipython3",
   "version": "3.10.6"
  },
  "orig_nbformat": 4,
  "vscode": {
   "interpreter": {
    "hash": "aee8b7b246df8f9039afb4144a1f6fd8d2ca17a180786b69acc140d282b71a49"
   }
  }
 },
 "nbformat": 4,
 "nbformat_minor": 2
}
