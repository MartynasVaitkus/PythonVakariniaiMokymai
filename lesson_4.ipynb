{
 "cells": [
  {
   "cell_type": "markdown",
   "metadata": {},
   "source": [
    "# List comprehension"
   ]
  },
  {
   "cell_type": "code",
   "execution_count": 5,
   "metadata": {},
   "outputs": [
    {
     "name": "stdout",
     "output_type": "stream",
     "text": [
      "[3, 6, 9, 12, 15, 18]\n"
     ]
    }
   ],
   "source": [
    "range(1,21)\n",
    "dalinasiiš3 = []\n",
    "for x in range(1, 21):\n",
    "    if (x % 3) == 0:\n",
    "        dalinasiiš3.append(x)\n",
    "print(dalinasiiš3)\n",
    "# visa tai galima perteikti ir viena eilute. Žiūrėti apačioje:)"
   ]
  },
  {
   "cell_type": "code",
   "execution_count": 11,
   "metadata": {},
   "outputs": [
    {
     "name": "stdout",
     "output_type": "stream",
     "text": [
      "[2, 4, 6, 8, 10, 12, 14, 16, 18, 20, 22, 24, 26, 28, 30, 32, 34, 36, 38, 40]\n"
     ]
    }
   ],
   "source": [
    "y = [x * 2 for x in range(1, 21)]\n",
    "print(y)"
   ]
  },
  {
   "cell_type": "code",
   "execution_count": 13,
   "metadata": {},
   "outputs": [
    {
     "name": "stdout",
     "output_type": "stream",
     "text": [
      "[3, 6, 9, 12, 15, 18]\n"
     ]
    }
   ],
   "source": [
    "dalinasiiš3 = [x for x in range(1, 21) if x % 3 ==0]\n",
    "print(dalinasiiš3)"
   ]
  },
  {
   "cell_type": "code",
   "execution_count": 14,
   "metadata": {},
   "outputs": [
    {
     "name": "stdout",
     "output_type": "stream",
     "text": [
      "['nesidalina', 'nesidalina', 3, 'nesidalina', 'nesidalina', 6, 'nesidalina', 'nesidalina', 9, 'nesidalina', 'nesidalina', 12, 'nesidalina', 'nesidalina', 15, 'nesidalina', 'nesidalina', 18, 'nesidalina', 'nesidalina']\n"
     ]
    }
   ],
   "source": [
    "dalinasiiš3 = [x if x % 3 ==0 else \"nesidalina\" for x in range(1, 21) ]\n",
    "print(dalinasiiš3)"
   ]
  },
  {
   "cell_type": "markdown",
   "metadata": {},
   "source": [
    "# None deklaracija"
   ]
  },
  {
   "cell_type": "code",
   "execution_count": 1,
   "metadata": {},
   "outputs": [
    {
     "name": "stdout",
     "output_type": "stream",
     "text": [
      "<class 'NoneType'>\n"
     ]
    }
   ],
   "source": [
    "niekas = None\n",
    "print(type(niekas))"
   ]
  },
  {
   "cell_type": "code",
   "execution_count": 2,
   "metadata": {},
   "outputs": [
    {
     "name": "stdout",
     "output_type": "stream",
     "text": [
      "None\n"
     ]
    }
   ],
   "source": [
    "list_1 = [1, 2, 3, 4, ]\n",
    "print(list_1.sort()) # atmintyje yra įrašomas rikiavimas, o grąžina None. Jei print(list_1), tai atspausdins jau išrikiuotą sąrašą."
   ]
  },
  {
   "cell_type": "code",
   "execution_count": 101,
   "metadata": {},
   "outputs": [
    {
     "name": "stdout",
     "output_type": "stream",
     "text": [
      "vardas yra None\n",
      "vardas yra Jonas\n"
     ]
    }
   ],
   "source": [
    "#name = \"\"\n",
    "#name=input (\"koks tavo vardas?\")\n",
    "#if name == \"Jonas\":\n",
    "#    print(\"sveikas, Jonai!\")\n",
    "\n",
    "name = None\n",
    "name1=input (\"koks tavo vardas?\")\n",
    "if name1 == \"\":\n",
    "    name1=input(\"neįrašėte vardo, tai koks jūsų vardas?\")\n",
    "print(f\"vardas yra {name}\")\n",
    "if name1 != \"\":\n",
    "    name=name1\n",
    "print(f\"vardas yra {name}\")\n",
    "\n"
   ]
  },
  {
   "cell_type": "markdown",
   "metadata": {},
   "source": [
    "# Dictionary"
   ]
  },
  {
   "cell_type": "code",
   "execution_count": 16,
   "metadata": {},
   "outputs": [
    {
     "name": "stdout",
     "output_type": "stream",
     "text": [
      "{'vardas': 'Jonas', 'amzius': 26}\n",
      "Jonas\n",
      "2\n",
      "dict_keys(['vardas', 'amzius'])\n",
      "{'vardas': 'Jonas', 'amzius': 26, 'hobiai': ['fotografavimas', 'muzika']}\n",
      "{'vardas': 'Jonas', 'amzius': 27, 'hobiai': ['fotografavimas', 'muzika']}\n",
      "<class 'list'>\n"
     ]
    }
   ],
   "source": [
    "me = {\n",
    "    \"vardas\" : \"Jonas\",\n",
    "    \"amzius\" : 26\n",
    "}\n",
    "print(me)\n",
    "print(me [\"vardas\"])\n",
    "print(len(me))\n",
    "print(me.keys())\n",
    "me[\"hobiai\"] = [\"fotografavimas\", \"muzika\" ]\n",
    "print(me)\n",
    "me[\"amzius\"] = 27\n",
    "print(me)\n",
    "print(type(me[\"hobiai\"]))"
   ]
  },
  {
   "cell_type": "code",
   "execution_count": 15,
   "metadata": {},
   "outputs": [
    {
     "name": "stdout",
     "output_type": "stream",
     "text": [
      "tiesa\n",
      "penki\n"
     ]
    }
   ],
   "source": [
    "someone = {\n",
    "    \"True\": \"tiesa\",\n",
    "    \"False\": \"false\",\n",
    "    5: \"penki\"\n",
    "}\n",
    "print(someone[\"True\"])\n",
    "print(someone[5])"
   ]
  },
  {
   "cell_type": "code",
   "execution_count": 25,
   "metadata": {},
   "outputs": [
    {
     "name": "stdout",
     "output_type": "stream",
     "text": [
      "[{'vardas': 'Jonas', 'pavardė': 'Jonaitis'}, {'vardas': 'Petras', 'pavardė': 'Petraitis'}]\n",
      "Martynas\n",
      "[{'vardas': 'Martynas', 'pavardė': 'Jonaitis'}, {'vardas': 'Petras', 'pavardė': 'Petraitis'}]\n",
      "Martynas\n",
      "Petras\n"
     ]
    }
   ],
   "source": [
    "žmonės = [\n",
    "    {\"vardas\": \"Jonas\",\n",
    "    \"pavardė\": \"Jonaitis\"},\n",
    "    {\"vardas\": \"Petras\",\n",
    "    \"pavardė\": \"Petraitis\" }\n",
    "]\n",
    "print(žmonės)\n",
    "žmonės[0][\"vardas\"] = \"Martynas\"\n",
    "print(žmonės[0][\"vardas\"])\n",
    "print(žmonės)\n",
    "for vardai in žmonės:\n",
    "    print(vardai [\"vardas\"])\n"
   ]
  },
  {
   "cell_type": "code",
   "execution_count": 4,
   "metadata": {},
   "outputs": [
    {
     "name": "stdout",
     "output_type": "stream",
     "text": [
      "{'vardas': 'Jonas', 'amzius': 26}\n",
      "Jonas\n",
      "2\n",
      "dict_keys(['vardas', 'amzius'])\n",
      "{'vardas': 'Jonas', 'amzius': 26, 'hobiai': ['fotografavimas', 'muzika']}\n",
      "{'vardas': 'Jonas', 'amzius': 27, 'hobiai': ['fotografavimas', 'muzika']}\n",
      "3\n"
     ]
    }
   ],
   "source": [
    "me = {\n",
    "    \"vardas\" : \"Jonas\",\n",
    "    \"amzius\" : 26\n",
    "}\n",
    "print(me)\n",
    "print(me [\"vardas\"])\n",
    "print(len(me))\n",
    "print(me.keys())\n",
    "me[\"hobiai\"] = [\"fotografavimas\", \"muzika\" ]\n",
    "print(me)\n",
    "me[\"amzius\"] = 27\n",
    "print(me)\n",
    "print(len(me))"
   ]
  },
  {
   "cell_type": "code",
   "execution_count": 6,
   "metadata": {},
   "outputs": [
    {
     "name": "stdout",
     "output_type": "stream",
     "text": [
      "{'vardas': 'Jonas', 'amzius': 27, 'hobiai': ['fotografavimas', 'muzika']}\n",
      "{}\n"
     ]
    }
   ],
   "source": [
    "print(me)\n",
    "me.clear() # ištrina viską, jei norisi ištrinti konkrečiai ką nors, naudoti del\n",
    "print(me)\n"
   ]
  },
  {
   "cell_type": "code",
   "execution_count": 8,
   "metadata": {},
   "outputs": [
    {
     "name": "stdout",
     "output_type": "stream",
     "text": [
      "{'vardas': 'Jonas', 'amzius': 27, 'hobiai': ['fotografavimas', 'muzika']}\n",
      "{'vardas': 'Jonas', 'amzius': 27}\n"
     ]
    }
   ],
   "source": [
    "me = {'vardas': 'Jonas', 'amzius': 27, 'hobiai': ['fotografavimas', 'muzika']}\n",
    "print(me)\n",
    "del me[\"hobiai\"]\n",
    "print(me)"
   ]
  },
  {
   "cell_type": "code",
   "execution_count": 11,
   "metadata": {},
   "outputs": [
    {
     "name": "stdout",
     "output_type": "stream",
     "text": [
      "{'vardas': 'Jonas', 'amzius': 27, 'hobiai': ['fotografavimas', 'muzika']}\n",
      "{'amzius': 27, 'hobiai': ['fotografavimas', 'muzika']}\n"
     ]
    }
   ],
   "source": [
    "me = {'vardas': 'Jonas', 'amzius': 27, 'hobiai': ['fotografavimas', 'muzika']}\n",
    "print(me)\n",
    "me.pop(\"vardas\")\n",
    "print(me)"
   ]
  },
  {
   "cell_type": "code",
   "execution_count": 16,
   "metadata": {},
   "outputs": [
    {
     "name": "stdout",
     "output_type": "stream",
     "text": [
      "{'vardas': 'Jonas', 'amzius': 27, 'hobiai': ['fotografavimas', 'muzika']}\n",
      "('hobiai', ['fotografavimas', 'muzika'])\n",
      "{'vardas': 'Jonas', 'amzius': 27}\n"
     ]
    }
   ],
   "source": [
    "me = {'vardas': 'Jonas', 'amzius': 27, 'hobiai': ['fotografavimas', 'muzika']}\n",
    "print(me)\n",
    "print(me.popitem()) #popitem savo nuožiūra (gal paskutinį) ištrina vieną narį ir jį pateikia. Atkreipti dėmesį, kad pateikia paprastais skliaustais ().\n",
    "print(me)\n",
    "\n",
    "\n"
   ]
  },
  {
   "cell_type": "code",
   "execution_count": 22,
   "metadata": {},
   "outputs": [
    {
     "name": "stdout",
     "output_type": "stream",
     "text": [
      "{'vardas': 'Jonas', 'amzius': 27, 'hobiai': ['fotografavimas', 'muzika']}\n",
      "None\n",
      "nerastas\n",
      "['fotografavimas', 'muzika']\n"
     ]
    }
   ],
   "source": [
    "me = {'vardas': 'Jonas', 'amzius': 27, 'hobiai': ['fotografavimas', 'muzika']}\n",
    "print(me)\n",
    "#print(me[\"neegzistuojantys dalykai\"]) # išmeta klaidą\n",
    "print(me.get(\"neegzistuojantys dalykai\")) # nemeta klaidos\n",
    "print(me.get(\"neegzistuojantys dalykai\", \"nerastas\")) \n",
    "print(me.get(\"hobiai\"))"
   ]
  },
  {
   "cell_type": "code",
   "execution_count": 15,
   "metadata": {},
   "outputs": [
    {
     "name": "stdout",
     "output_type": "stream",
     "text": [
      "Jack\n",
      "26\n",
      "None\n"
     ]
    },
    {
     "ename": "KeyError",
     "evalue": "'address'",
     "output_type": "error",
     "traceback": [
      "\u001b[0;31m---------------------------------------------------------------------------\u001b[0m",
      "\u001b[0;31mKeyError\u001b[0m                                  Traceback (most recent call last)",
      "\u001b[1;32m/Users/martynas/Desktop/kursai/repository/PythonVakariniaiMokymai/PythonVakariniaiMokymai-2/lesson_4.ipynb Cell 20\u001b[0m in \u001b[0;36m<cell line: 15>\u001b[0;34m()\u001b[0m\n\u001b[1;32m     <a href='vscode-notebook-cell:/Users/martynas/Desktop/kursai/repository/PythonVakariniaiMokymai/PythonVakariniaiMokymai-2/lesson_4.ipynb#Y102sZmlsZQ%3D%3D?line=11'>12</a>\u001b[0m \u001b[39mprint\u001b[39m(my_dict\u001b[39m.\u001b[39mget(\u001b[39m'\u001b[39m\u001b[39maddress\u001b[39m\u001b[39m'\u001b[39m))\n\u001b[1;32m     <a href='vscode-notebook-cell:/Users/martynas/Desktop/kursai/repository/PythonVakariniaiMokymai/PythonVakariniaiMokymai-2/lesson_4.ipynb#Y102sZmlsZQ%3D%3D?line=13'>14</a>\u001b[0m \u001b[39m# KeyError\u001b[39;00m\n\u001b[0;32m---> <a href='vscode-notebook-cell:/Users/martynas/Desktop/kursai/repository/PythonVakariniaiMokymai/PythonVakariniaiMokymai-2/lesson_4.ipynb#Y102sZmlsZQ%3D%3D?line=14'>15</a>\u001b[0m \u001b[39mprint\u001b[39m(my_dict[\u001b[39m'\u001b[39;49m\u001b[39maddress\u001b[39;49m\u001b[39m'\u001b[39;49m])\n",
      "\u001b[0;31mKeyError\u001b[0m: 'address'"
     ]
    }
   ],
   "source": [
    "# get vs [] for retrieving elements\n",
    "my_dict = {'name': 'Jack', 'age': 26}\n",
    "\n",
    "# Output: Jack\n",
    "print(my_dict['name'])\n",
    "\n",
    "# Output: 26\n",
    "print(my_dict.get('age'))\n",
    "\n",
    "# Trying to access keys which doesn't exist throws error\n",
    "# Output None\n",
    "print(my_dict.get('address'))\n",
    "\n",
    "# KeyError\n",
    "print(my_dict['address'])"
   ]
  },
  {
   "cell_type": "code",
   "execution_count": 23,
   "metadata": {},
   "outputs": [
    {
     "name": "stdout",
     "output_type": "stream",
     "text": [
      "{'vardas': 'Jonas', 'amzius': 27, 'hobiai': ['fotografavimas', 'muzika']}\n",
      "{'vardas': 'Jonas', 'amzius': 28, 'hobiai': ['fotografavimas', 'muzika', 'rankinis']}\n"
     ]
    }
   ],
   "source": [
    "me = {'vardas': 'Jonas', 'amzius': 27, 'hobiai': ['fotografavimas', 'muzika']}\n",
    "print(me)\n",
    "nauji_duomenys = {\"amzius\": 28, \"hobiai\": ['fotografavimas', 'muzika', 'rankinis']}\n",
    "me.update(nauji_duomenys)\n",
    "print(me)"
   ]
  },
  {
   "cell_type": "code",
   "execution_count": 33,
   "metadata": {},
   "outputs": [
    {
     "name": "stdout",
     "output_type": "stream",
     "text": [
      "{'vardas': 'Jonas', 'amzius': 27, 'hobiai': ['fotografavimas', 'muzika']}\n",
      "Jonas\n",
      "27\n",
      "['fotografavimas', 'muzika']\n",
      "vardas\n",
      "amzius\n",
      "hobiai\n"
     ]
    }
   ],
   "source": [
    "me = {'vardas': 'Jonas', 'amzius': 27, 'hobiai': ['fotografavimas', 'muzika']}\n",
    "print(me)\n",
    "for value in me.values():\n",
    "    print(value)\n",
    "for key in me.keys():\n",
    "    print(key)\n",
    "\n"
   ]
  },
  {
   "cell_type": "code",
   "execution_count": 31,
   "metadata": {},
   "outputs": [
    {
     "name": "stdout",
     "output_type": "stream",
     "text": [
      "{'vardas': 'Jonas', 'amzius': 27, 'hobiai': ['fotografavimas', 'muzika']}\n",
      " key is vardas and value is Jonas\n",
      " key is amzius and value is 27\n",
      " key is hobiai and value is ['fotografavimas', 'muzika']\n"
     ]
    }
   ],
   "source": [
    "me = {'vardas': 'Jonas', 'amzius': 27, 'hobiai': ['fotografavimas', 'muzika']}\n",
    "print(me)\n",
    "for key, value in me.items():\n",
    "    print(f\" key is {key} and value is {value}\")"
   ]
  },
  {
   "cell_type": "code",
   "execution_count": 17,
   "metadata": {},
   "outputs": [
    {
     "name": "stdout",
     "output_type": "stream",
     "text": [
      "{0: 0, 1: 1, 2: 4, 3: 9, 4: 16, 5: 25}\n"
     ]
    }
   ],
   "source": [
    "# Dictionary Comprehension\n",
    "squares = {x: x*x for x in range(6)}\n",
    "\n",
    "print(squares)"
   ]
  },
  {
   "cell_type": "code",
   "execution_count": 18,
   "metadata": {},
   "outputs": [
    {
     "name": "stdout",
     "output_type": "stream",
     "text": [
      "{0: 0, 1: 1, 2: 4, 3: 9, 4: 16, 5: 25}\n"
     ]
    }
   ],
   "source": [
    "squares = {}\n",
    "for x in range(6):\n",
    "    squares[x] = x*x\n",
    "print(squares)"
   ]
  },
  {
   "cell_type": "code",
   "execution_count": 19,
   "metadata": {},
   "outputs": [
    {
     "name": "stdout",
     "output_type": "stream",
     "text": [
      "{1: 1, 3: 9, 5: 25, 7: 49, 9: 81}\n"
     ]
    }
   ],
   "source": [
    "# Dictionary Comprehension with if conditional\n",
    "odd_squares = {x: x*x for x in range(11) if x % 2 == 1}\n",
    "\n",
    "print(odd_squares)"
   ]
  },
  {
   "cell_type": "code",
   "execution_count": 26,
   "metadata": {},
   "outputs": [
    {
     "name": "stdout",
     "output_type": "stream",
     "text": [
      "1\n",
      "9\n",
      "25\n",
      "49\n",
      "81\n",
      "1\n",
      "9\n",
      "25\n",
      "49\n",
      "81\n"
     ]
    }
   ],
   "source": [
    "# Iterating through a Dictionary\n",
    "squares = {1: 1, 3: 9, 5: 25, 7: 49, 9: 81}\n",
    "for i in squares:\n",
    "    print(squares[i])\n",
    "for i in squares.values():\n",
    "    print(i)"
   ]
  },
  {
   "cell_type": "markdown",
   "metadata": {},
   "source": [
    "# Dictionary Built-in Functions\n",
    "all()\tReturn True if all keys of the dictionary are True (or if the dictionary is empty).\n",
    "\n",
    "any()\tReturn True if any key of the dictionary is true. If the dictionary is empty, return False.\n",
    "\n",
    "len()\tReturn the length (the number of items) in the dictionary.\n",
    "\n",
    "cmp()\tCompares items of two dictionaries. (Not available in Python 3)\n",
    "\n",
    "sorted()\tReturn a new sorted list of keys in the dictionary."
   ]
  },
  {
   "cell_type": "code",
   "execution_count": 21,
   "metadata": {},
   "outputs": [
    {
     "name": "stdout",
     "output_type": "stream",
     "text": [
      "False\n",
      "True\n",
      "6\n",
      "[0, 1, 3, 5, 7, 9]\n"
     ]
    }
   ],
   "source": [
    "# Dictionary Built-in Functions\n",
    "squares = {0: 0, 1: 1, 3: 9, 5: 25, 7: 49, 9: 81}\n",
    "\n",
    "# Output: False\n",
    "print(all(squares))\n",
    "\n",
    "# Output: True\n",
    "print(any(squares))\n",
    "\n",
    "# Output: 6\n",
    "print(len(squares))\n",
    "\n",
    "# Output: [0, 1, 3, 5, 7, 9]\n",
    "print(sorted(squares))"
   ]
  },
  {
   "cell_type": "markdown",
   "metadata": {},
   "source": [
    "# Python Dictionary Methods\n",
    "clear()\tRemoves all items from the dictionary.\n",
    "\n",
    "copy()\tReturns a shallow copy of the dictionary.\n",
    "\n",
    "fromkeys(seq[, v])\tReturns a new dictionary with keys from seq and value equal to v (defaults to None).\n",
    "\n",
    "get(key[,d])\tReturns the value of the key. If the key does not exist, returns d (defaults to None).\n",
    "\n",
    "items()\tReturn a new object of the dictionary's items in (key, value) format.\n",
    "\n",
    "keys()\tReturns a new object of the dictionary's keys.\n",
    "\n",
    "pop(key[,d])\tRemoves the item with the key and returns its value or d if key is not found. If d is not provided and the key is not found, it raises KeyError.\n",
    "\n",
    "popitem()\tRemoves and returns an arbitrary item (key, value). Raises KeyError if the dictionary is empty.\n",
    "\n",
    "setdefault(key[,d])\tReturns the corresponding value if the key is in the dictionary. If not, inserts the key with a value of d and returns d (defaults to None).\n",
    "\n",
    "update([other])\tUpdates the dictionary with the key/value pairs from other, overwriting existing keys.\n",
    "\n",
    "values()\tReturns a new object of the dictionary's values"
   ]
  },
  {
   "cell_type": "code",
   "execution_count": 16,
   "metadata": {},
   "outputs": [
    {
     "name": "stdout",
     "output_type": "stream",
     "text": [
      "{'Math': 0, 'English': 0, 'Science': 0}\n",
      "('Math', 0)\n",
      "('English', 0)\n",
      "('Science', 0)\n",
      "['English', 'Math', 'Science']\n"
     ]
    }
   ],
   "source": [
    "# Dictionary Methods\n",
    "marks = {}.fromkeys(['Math', 'English', 'Science'], 0)\n",
    "\n",
    "# Output: {'English': 0, 'Math': 0, 'Science': 0}\n",
    "print(marks)\n",
    "\n",
    "for item in marks.items():\n",
    "    print(item)\n",
    "\n",
    "# Output: ['English', 'Math', 'Science']\n",
    "print(list(sorted(marks.keys())))"
   ]
  },
  {
   "cell_type": "markdown",
   "metadata": {},
   "source": [
    "# užduotys su dictionary"
   ]
  },
  {
   "cell_type": "code",
   "execution_count": 40,
   "metadata": {},
   "outputs": [
    {
     "name": "stdout",
     "output_type": "stream",
     "text": [
      "Ford\n",
      "3\n",
      "{'brand': 'Ford', 'model': 'Mustang', 'year': 2022}\n",
      "{'brand': 'Ford', 'model': 'Mustang', 'year': 2022, 'color': 'red', 'used': True}\n",
      "{'model': 'Mustang', 'year': 2022, 'color': 'red', 'used': True}\n",
      "{'model': 'Mustang', 'year': None, 'color': 'red', 'used': True}\n"
     ]
    }
   ],
   "source": [
    "car = {\n",
    "    \"brand\": \"Ford\",\n",
    "    \"model\": \"Mustang\",\n",
    "    \"year\": 1964\n",
    "}\n",
    "print(car[\"brand\"])\n",
    "print(len(car))\n",
    "car[\"year\"]= 2022\n",
    "print(car)\n",
    "nauji_duomenys = {\"color\": \"red\", \"used\": True}\n",
    "car.update(nauji_duomenys)\n",
    "print(car)\n",
    "car.pop(\"brand\")\n",
    "print(car)\n",
    "car[\"year\"]= None\n",
    "print(car)"
   ]
  },
  {
   "cell_type": "markdown",
   "metadata": {},
   "source": [
    "# Set"
   ]
  },
  {
   "cell_type": "code",
   "execution_count": 47,
   "metadata": {},
   "outputs": [
    {
     "name": "stdout",
     "output_type": "stream",
     "text": [
      "3\n",
      "{'banana', 'strawsberry', 'cherry', 'apple'}\n",
      "{'strawsberry', 'cherry', 'apple'}\n"
     ]
    }
   ],
   "source": [
    "thisset = {\"apple\", \"banana\", \"cherry\"}\n",
    "print(len(thisset))\n",
    "\"banana\" in thisset\n",
    "thisset.add(\"strawsberry\")\n",
    "print(thisset)\n",
    "thisset.remove(\"banana\")\n",
    "print(thisset)"
   ]
  },
  {
   "cell_type": "code",
   "execution_count": 45,
   "metadata": {},
   "outputs": [
    {
     "name": "stdout",
     "output_type": "stream",
     "text": [
      "{'a', 1, 3, 4, 5, 'c'}\n"
     ]
    }
   ],
   "source": [
    "set1 = {1, 1, 1, 1, 3, 4, 3, 5, \"a\", \"c\"}\n",
    "print(set1) # atkreipti, kad dingo kiti vienetai, liko tik vienas vienetas. Set turi būti tik unikalūs, t. y. nesikartojantys nariai.\n"
   ]
  },
  {
   "cell_type": "code",
   "execution_count": 48,
   "metadata": {},
   "outputs": [
    {
     "name": "stdout",
     "output_type": "stream",
     "text": [
      "{'cherry', 'banana', 'raspeberry', 'strawsberry', 'apple'}\n"
     ]
    }
   ],
   "source": [
    "thisset = {\"apple\", \"banana\", \"cherry\"}\n",
    "thisset.update({\"strawsberry\", \"raspeberry\"})\n",
    "print(thisset)\n"
   ]
  },
  {
   "cell_type": "code",
   "execution_count": 50,
   "metadata": {},
   "outputs": [
    {
     "name": "stdout",
     "output_type": "stream",
     "text": [
      "{'cherry', 'banana', 'raspeberry', 'strawsberry', 'apple'}\n",
      "{'cherry', 'banana', 'raspeberry', 'strawsberry'}\n"
     ]
    }
   ],
   "source": [
    "thisset = {\"apple\", \"banana\", \"cherry\"}\n",
    "thisset.update({\"strawsberry\", \"raspeberry\"})\n",
    "print(thisset)\n",
    "thisset.discard(\"apple\") # discard nemeta klaidos, jei set nėra reikšmės, kurią norisi ištrinti. Tuo tarpu remove() tokiu atveju meta klaidą.\n",
    "print(thisset)"
   ]
  },
  {
   "cell_type": "code",
   "execution_count": 55,
   "metadata": {},
   "outputs": [
    {
     "name": "stdout",
     "output_type": "stream",
     "text": [
      "{1, 2, 3, 4}\n",
      "{8, 9, 6, 7}\n",
      "{1, 2, 3, 4, 6, 7, 8, 9}\n",
      "{1, 2, 3, 4}\n"
     ]
    }
   ],
   "source": [
    "set1 = {1, 4, 3, 2}\n",
    "print(set1)\n",
    "set2 = {8, 6, 9, 7}\n",
    "print(set2)\n",
    "set1.union(set2)\n",
    "print(set1.union(set2))\n",
    "print(set1)\n"
   ]
  },
  {
   "cell_type": "code",
   "execution_count": 27,
   "metadata": {},
   "outputs": [
    {
     "name": "stdout",
     "output_type": "stream",
     "text": [
      "{1, 2, 3, 4}\n",
      "{8, 9, 6, 7}\n",
      "{1, 2, 3, 4}\n",
      "{8, 9, 6, 7}\n"
     ]
    }
   ],
   "source": [
    "set1 = {1, 4, 3, 2}\n",
    "print(set1)\n",
    "set2 = {8, 6, 9, 7}\n",
    "print(set2)\n",
    "print(set1.difference(set2))\n",
    "print(set2.difference(set1))"
   ]
  },
  {
   "cell_type": "code",
   "execution_count": 30,
   "metadata": {},
   "outputs": [
    {
     "name": "stdout",
     "output_type": "stream",
     "text": [
      "{1, 2, 3, 6, 7, 8}\n",
      "{1, 2, 3, 6, 7, 8}\n"
     ]
    }
   ],
   "source": [
    "A = {1, 2, 3, 4, 5}\n",
    "B = {4, 5, 6, 7, 8}\n",
    "# use symmetric_difference function on A\n",
    "print(A.symmetric_difference(B)) # Symmetric Difference of A and B is a set of elements in A and B but not in both (excluding the intersection).\n",
    "\n",
    "\n",
    "# use symmetric_difference function on B\n",
    "print(B.symmetric_difference(A))\n"
   ]
  },
  {
   "cell_type": "code",
   "execution_count": 58,
   "metadata": {},
   "outputs": [
    {
     "name": "stdout",
     "output_type": "stream",
     "text": [
      "{1, 2, 3, 4, 6}\n",
      "{8, 9, 6, 7}\n",
      "{6}\n"
     ]
    }
   ],
   "source": [
    "set1 = {1, 4, 3, 2, 6}\n",
    "print(set1)\n",
    "set2 = {8, 6, 9, 7}\n",
    "print(set2)\n",
    "print(set1.intersection(set2))"
   ]
  },
  {
   "cell_type": "code",
   "execution_count": 60,
   "metadata": {},
   "outputs": [
    {
     "name": "stdout",
     "output_type": "stream",
     "text": [
      "{1, 2, 3}\n",
      "{1, 2, 3, 4, 5, 6, 7, 8}\n",
      "True\n"
     ]
    }
   ],
   "source": [
    "set1 = {1, 2, 3}\n",
    "print(set1)\n",
    "set2 = {1, 2, 3, 4, 5, 6, 7, 8}\n",
    "print(set2)\n",
    "print(set1.issubset(set2))\n"
   ]
  },
  {
   "cell_type": "code",
   "execution_count": 62,
   "metadata": {},
   "outputs": [
    {
     "name": "stdout",
     "output_type": "stream",
     "text": [
      "{1, 2, 3}\n",
      "{1, 2, 3, 4, 5, 6, 7, 8}\n",
      "False\n",
      "True\n"
     ]
    }
   ],
   "source": [
    "set1 = {1, 2, 3}\n",
    "print(set1)\n",
    "set2 = {1, 2, 3, 4, 5, 6, 7, 8}\n",
    "print(set2)\n",
    "print(set2.issubset(set1))\n",
    "print(set2.issuperset(set1)) # ar set1 priklauso set2\n"
   ]
  },
  {
   "cell_type": "code",
   "execution_count": 70,
   "metadata": {},
   "outputs": [
    {
     "name": "stdout",
     "output_type": "stream",
     "text": [
      "{1, 2}\n",
      "{1, 2, 4}\n",
      "[1, 2, 4]\n",
      "[0, 2, 4]\n",
      "{0, 2, 4}\n"
     ]
    }
   ],
   "source": [
    "# kaip pakeisti set ką nors?\n",
    "set1 = {1, 2, 3}\n",
    "set1.remove(3)\n",
    "print(set1)\n",
    "set1.add(4)\n",
    "print(set1)\n",
    "# galime pakeisti, kai set konvertuojame į, pvz., list.\n",
    "list1 = list(set1)\n",
    "print(list1)\n",
    "list1[0] = 0\n",
    "print(list1)\n",
    "set1 = set(list1)\n",
    "print(set1)"
   ]
  },
  {
   "cell_type": "code",
   "execution_count": 1,
   "metadata": {},
   "outputs": [
    {
     "name": "stdout",
     "output_type": "stream",
     "text": [
      "<class 'dict'>\n",
      "<class 'set'>\n"
     ]
    }
   ],
   "source": [
    "# Distinguish set and dictionary while creating empty set\n",
    "\n",
    "# initialize a with {}\n",
    "a = {}\n",
    "\n",
    "# check data type of a\n",
    "print(type(a))\n",
    "\n",
    "# initialize a with set()\n",
    "a = set()\n",
    "\n",
    "# check data type of a\n",
    "print(type(a))"
   ]
  },
  {
   "cell_type": "code",
   "execution_count": 2,
   "metadata": {},
   "outputs": [
    {
     "name": "stdout",
     "output_type": "stream",
     "text": [
      "{1, 2, 3, 4}\n",
      "{1, 2, 3}\n"
     ]
    },
    {
     "ename": "TypeError",
     "evalue": "unhashable type: 'list'",
     "output_type": "error",
     "traceback": [
      "\u001b[0;31m---------------------------------------------------------------------------\u001b[0m",
      "\u001b[0;31mTypeError\u001b[0m                                 Traceback (most recent call last)",
      "\u001b[1;32m/Users/martynas/Desktop/kursai/repository/PythonVakariniaiMokymai/PythonVakariniaiMokymai-2/lesson_4.ipynb Cell 37\u001b[0m in \u001b[0;36m<cell line: 15>\u001b[0;34m()\u001b[0m\n\u001b[1;32m      <a href='vscode-notebook-cell:/Users/martynas/Desktop/kursai/repository/PythonVakariniaiMokymai/PythonVakariniaiMokymai-2/lesson_4.ipynb#X55sZmlsZQ%3D%3D?line=8'>9</a>\u001b[0m \u001b[39mprint\u001b[39m(my_set)\n\u001b[1;32m     <a href='vscode-notebook-cell:/Users/martynas/Desktop/kursai/repository/PythonVakariniaiMokymai/PythonVakariniaiMokymai-2/lesson_4.ipynb#X55sZmlsZQ%3D%3D?line=10'>11</a>\u001b[0m \u001b[39m# set cannot have mutable items\u001b[39;00m\n\u001b[1;32m     <a href='vscode-notebook-cell:/Users/martynas/Desktop/kursai/repository/PythonVakariniaiMokymai/PythonVakariniaiMokymai-2/lesson_4.ipynb#X55sZmlsZQ%3D%3D?line=11'>12</a>\u001b[0m \u001b[39m# here [3, 4] is a mutable list\u001b[39;00m\n\u001b[1;32m     <a href='vscode-notebook-cell:/Users/martynas/Desktop/kursai/repository/PythonVakariniaiMokymai/PythonVakariniaiMokymai-2/lesson_4.ipynb#X55sZmlsZQ%3D%3D?line=12'>13</a>\u001b[0m \u001b[39m# this will cause an error.\u001b[39;00m\n\u001b[0;32m---> <a href='vscode-notebook-cell:/Users/martynas/Desktop/kursai/repository/PythonVakariniaiMokymai/PythonVakariniaiMokymai-2/lesson_4.ipynb#X55sZmlsZQ%3D%3D?line=14'>15</a>\u001b[0m my_set \u001b[39m=\u001b[39m {\u001b[39m1\u001b[39m, \u001b[39m2\u001b[39m, [\u001b[39m3\u001b[39m, \u001b[39m4\u001b[39m]}\n",
      "\u001b[0;31mTypeError\u001b[0m: unhashable type: 'list'"
     ]
    }
   ],
   "source": [
    "# set cannot have duplicates\n",
    "# Output: {1, 2, 3, 4}\n",
    "my_set = {1, 2, 3, 4, 3, 2}\n",
    "print(my_set)\n",
    "\n",
    "# we can make set from a list\n",
    "# Output: {1, 2, 3}\n",
    "my_set = set([1, 2, 3, 2])\n",
    "print(my_set)\n",
    "\n",
    "# set cannot have mutable items\n",
    "# here [3, 4] is a mutable list\n",
    "# this will cause an error.\n",
    "\n",
    "my_set = {1, 2, [3, 4]}\n"
   ]
  },
  {
   "cell_type": "code",
   "execution_count": 3,
   "metadata": {},
   "outputs": [
    {
     "name": "stdout",
     "output_type": "stream",
     "text": [
      "{1, 2, 3}\n",
      "{1.0, 'Hello', (1, 2, 3)}\n"
     ]
    }
   ],
   "source": [
    "# Different types of sets in Python\n",
    "# set of integers\n",
    "my_set = {1, 2, 3}\n",
    "print(my_set)\n",
    "\n",
    "# set of mixed datatypes\n",
    "my_set = {1.0, \"Hello\", (1, 2, 3)}\n",
    "print(my_set)"
   ]
  },
  {
   "cell_type": "code",
   "execution_count": null,
   "metadata": {},
   "outputs": [],
   "source": [
    "# Distinguish set and dictionary while creating empty set\n",
    "\n",
    "# initialize a with {}\n",
    "a = {}\n",
    "\n",
    "# check data type of a\n",
    "print(type(a))\n",
    "\n",
    "# initialize a with set()\n",
    "a = set()\n",
    "\n",
    "# check data type of a\n",
    "print(type(a))"
   ]
  },
  {
   "cell_type": "code",
   "execution_count": 4,
   "metadata": {},
   "outputs": [
    {
     "name": "stdout",
     "output_type": "stream",
     "text": [
      "{1, 3}\n",
      "{1, 2, 3}\n",
      "{1, 2, 3, 4}\n",
      "{1, 2, 3, 4, 5, 6, 8}\n"
     ]
    }
   ],
   "source": [
    "# initialize my_set\n",
    "my_set = {1, 3}\n",
    "print(my_set)\n",
    "\n",
    "# my_set[0]\n",
    "# if you uncomment the above line\n",
    "# you will get an error\n",
    "# TypeError: 'set' object does not support indexing\n",
    "\n",
    "# add an element\n",
    "# Output: {1, 2, 3}\n",
    "my_set.add(2)\n",
    "print(my_set)\n",
    "\n",
    "# add multiple elements\n",
    "# Output: {1, 2, 3, 4}\n",
    "my_set.update([2, 3, 4])\n",
    "print(my_set)\n",
    "\n",
    "# add list and set\n",
    "# Output: {1, 2, 3, 4, 5, 6, 8}\n",
    "my_set.update([4, 5], {1, 6, 8})\n",
    "print(my_set)"
   ]
  },
  {
   "cell_type": "code",
   "execution_count": 5,
   "metadata": {},
   "outputs": [
    {
     "name": "stdout",
     "output_type": "stream",
     "text": [
      "{1, 3, 4, 5, 6}\n",
      "{1, 3, 5, 6}\n",
      "{1, 3, 5}\n",
      "{1, 3, 5}\n"
     ]
    },
    {
     "ename": "KeyError",
     "evalue": "2",
     "output_type": "error",
     "traceback": [
      "\u001b[0;31m---------------------------------------------------------------------------\u001b[0m",
      "\u001b[0;31mKeyError\u001b[0m                                  Traceback (most recent call last)",
      "\u001b[1;32m/Users/martynas/Desktop/kursai/repository/PythonVakariniaiMokymai/PythonVakariniaiMokymai-2/lesson_4.ipynb Cell 41\u001b[0m in \u001b[0;36m<cell line: 26>\u001b[0;34m()\u001b[0m\n\u001b[1;32m     <a href='vscode-notebook-cell:/Users/martynas/Desktop/kursai/repository/PythonVakariniaiMokymai/PythonVakariniaiMokymai-2/lesson_4.ipynb#X62sZmlsZQ%3D%3D?line=18'>19</a>\u001b[0m \u001b[39mprint\u001b[39m(my_set)\n\u001b[1;32m     <a href='vscode-notebook-cell:/Users/martynas/Desktop/kursai/repository/PythonVakariniaiMokymai/PythonVakariniaiMokymai-2/lesson_4.ipynb#X62sZmlsZQ%3D%3D?line=20'>21</a>\u001b[0m \u001b[39m# remove an element\u001b[39;00m\n\u001b[1;32m     <a href='vscode-notebook-cell:/Users/martynas/Desktop/kursai/repository/PythonVakariniaiMokymai/PythonVakariniaiMokymai-2/lesson_4.ipynb#X62sZmlsZQ%3D%3D?line=21'>22</a>\u001b[0m \u001b[39m# not present in my_set\u001b[39;00m\n\u001b[1;32m     <a href='vscode-notebook-cell:/Users/martynas/Desktop/kursai/repository/PythonVakariniaiMokymai/PythonVakariniaiMokymai-2/lesson_4.ipynb#X62sZmlsZQ%3D%3D?line=22'>23</a>\u001b[0m \u001b[39m# you will get an error.\u001b[39;00m\n\u001b[1;32m     <a href='vscode-notebook-cell:/Users/martynas/Desktop/kursai/repository/PythonVakariniaiMokymai/PythonVakariniaiMokymai-2/lesson_4.ipynb#X62sZmlsZQ%3D%3D?line=23'>24</a>\u001b[0m \u001b[39m# Output: KeyError\u001b[39;00m\n\u001b[0;32m---> <a href='vscode-notebook-cell:/Users/martynas/Desktop/kursai/repository/PythonVakariniaiMokymai/PythonVakariniaiMokymai-2/lesson_4.ipynb#X62sZmlsZQ%3D%3D?line=25'>26</a>\u001b[0m my_set\u001b[39m.\u001b[39;49mremove(\u001b[39m2\u001b[39;49m)\n",
      "\u001b[0;31mKeyError\u001b[0m: 2"
     ]
    }
   ],
   "source": [
    "# initialize my_set\n",
    "my_set = {1, 3, 4, 5, 6}\n",
    "print(my_set)\n",
    "\n",
    "# discard an element\n",
    "# Output: {1, 3, 5, 6}\n",
    "my_set.discard(4)\n",
    "print(my_set)\n",
    "\n",
    "# remove an element\n",
    "# Output: {1, 3, 5}\n",
    "my_set.remove(6)\n",
    "print(my_set)\n",
    "\n",
    "# discard an element\n",
    "# not present in my_set\n",
    "# Output: {1, 3, 5}\n",
    "my_set.discard(2)\n",
    "print(my_set)\n",
    "\n",
    "# remove an element\n",
    "# not present in my_set\n",
    "# you will get an error.\n",
    "# Output: KeyError\n",
    "\n",
    "my_set.remove(2)"
   ]
  },
  {
   "cell_type": "code",
   "execution_count": 7,
   "metadata": {},
   "outputs": [
    {
     "name": "stdout",
     "output_type": "stream",
     "text": [
      "{'o', ' ', 'e', 'r', 'l', 'd', 'H', 'W'}\n",
      "o\n",
      "{'e', 'r', 'l', 'd', 'H', 'W'}\n",
      "set()\n"
     ]
    }
   ],
   "source": [
    "# initialize my_set\n",
    "# Output: set of unique elements\n",
    "my_set = set(\"Hello World\")\n",
    "print(my_set)\n",
    "\n",
    "# pop an element\n",
    "# Output: random element\n",
    "print(my_set.pop())\n",
    "\n",
    "# pop another element\n",
    "my_set.pop()\n",
    "print(my_set)\n",
    "\n",
    "# clear my_set\n",
    "# Output: set()\n",
    "my_set.clear()\n",
    "print(my_set)"
   ]
  },
  {
   "cell_type": "code",
   "execution_count": 11,
   "metadata": {},
   "outputs": [
    {
     "name": "stdout",
     "output_type": "stream",
     "text": [
      "True\n",
      "False\n"
     ]
    }
   ],
   "source": [
    "# in keyword in a set\n",
    "# initialize my_set\n",
    "my_set = set(\"apple\")\n",
    "\n",
    "# check if 'a' is present\n",
    "# Output: True\n",
    "print('a' in my_set)\n",
    "\n",
    "# check if 'p' is present\n",
    "# Output: False\n",
    "print('p' not in my_set)"
   ]
  },
  {
   "cell_type": "code",
   "execution_count": 14,
   "metadata": {},
   "outputs": [
    {
     "name": "stdout",
     "output_type": "stream",
     "text": [
      "a\n",
      "p\n",
      "e\n",
      "l\n"
     ]
    }
   ],
   "source": [
    "for letter in set(\"apple\"):\n",
    "    print(letter)"
   ]
  },
  {
   "cell_type": "markdown",
   "metadata": {},
   "source": [
    "# Built-in Functions with Set\n",
    "all()\tReturns True if all elements of the set are true (or if the set is empty).\n",
    "\n",
    "any()\tReturns True if any element of the set is true. If the set is empty, returns False.\n",
    "\n",
    "enumerate()\tReturns an enumerate object. It contains the index and value for all the items of the set as a pair.\n",
    "\n",
    "len()\tReturns the length (the number of items) in the set.\n",
    "\n",
    "max()\tReturns the largest item in the set.\n",
    "\n",
    "min()\tReturns the smallest item in the set.\n",
    "\n",
    "sorted()\tReturns a new sorted list from elements in the set(does not sort the set itself).\n",
    "\n",
    "sum()\tReturns the sum of all elements in the set."
   ]
  },
  {
   "cell_type": "markdown",
   "metadata": {},
   "source": [
    "# užduotys su set"
   ]
  },
  {
   "cell_type": "code",
   "execution_count": 89,
   "metadata": {},
   "outputs": [
    {
     "name": "stdout",
     "output_type": "stream",
     "text": [
      "['banana', 'cherry', 'apple']\n",
      "['banana', 'cherry', 'apple', ('kiwi', 5)]\n",
      "{'banana', ('kiwi', 5), 'cherry', 'apple'}\n"
     ]
    }
   ],
   "source": [
    "thisset = {\"apple\", \"banana\", \"cherry\"}\n",
    "list1 = list(thisset)\n",
    "print(list1)\n",
    "list1.append((\"kiwi\", 5))\n",
    "print(list1)\n",
    "thisset = set(list1)\n",
    "print(thisset)"
   ]
  },
  {
   "cell_type": "code",
   "execution_count": 92,
   "metadata": {},
   "outputs": [
    {
     "name": "stdout",
     "output_type": "stream",
     "text": [
      "{'banana', 'cherry', 'apple'}\n",
      "{'banana', 'cherry'}\n",
      "{'banana', 'watermelon', 'cherry'}\n"
     ]
    }
   ],
   "source": [
    "thisset = {\"apple\", \"banana\", \"cherry\"}\n",
    "print(thisset)\n",
    "thisset.remove(\"apple\")\n",
    "print(thisset)\n",
    "thisset.add(\"watermelon\")\n",
    "print(thisset)"
   ]
  },
  {
   "cell_type": "code",
   "execution_count": 100,
   "metadata": {},
   "outputs": [
    {
     "name": "stdout",
     "output_type": "stream",
     "text": [
      "{'banana', 'watermelon', 'cherry', 'apple'}\n",
      "{'watermelon', 'cherry', 'pear', 'grapes', 'apple', 'kiwi', 'citrus', 'banana', 'orange'}\n",
      "{'watermelon', 'cherry', 'pear', 'grapes', 'kiwi', 'citrus', 'banana', 'orange'}\n",
      "8\n",
      "None\n",
      "{'watermelon', 'cherry', 'pear', 'grapes', 'kiwi', 'citrus', 'banana', 'orange'}\n",
      "8\n"
     ]
    }
   ],
   "source": [
    "thisset = {\"apple\", \"banana\", \"cherry\"}\n",
    "thisset.add(\"watermelon\")\n",
    "print(thisset)\n",
    "thisset.update({\"kiwi\", \"orange\", \"citrus\", \"grapes\", \"pear\" })\n",
    "print(thisset)\n",
    "thisset.remove(\"apple\")\n",
    "print(thisset)\n",
    "print(len(thisset))\n",
    "print(thisset.add(\"cherry\"))\n",
    "print(thisset)\n",
    "print(len(thisset))"
   ]
  }
 ],
 "metadata": {
  "kernelspec": {
   "display_name": "Python 3.10.6 64-bit",
   "language": "python",
   "name": "python3"
  },
  "language_info": {
   "codemirror_mode": {
    "name": "ipython",
    "version": 3
   },
   "file_extension": ".py",
   "mimetype": "text/x-python",
   "name": "python",
   "nbconvert_exporter": "python",
   "pygments_lexer": "ipython3",
   "version": "3.10.6"
  },
  "orig_nbformat": 4,
  "vscode": {
   "interpreter": {
    "hash": "aee8b7b246df8f9039afb4144a1f6fd8d2ca17a180786b69acc140d282b71a49"
   }
  }
 },
 "nbformat": 4,
 "nbformat_minor": 2
}
