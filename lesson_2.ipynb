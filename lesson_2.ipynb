{
 "cells": [
  {
   "cell_type": "markdown",
   "metadata": {},
   "source": [
    "# isdigit()"
   ]
  },
  {
   "cell_type": "code",
   "execution_count": 11,
   "metadata": {},
   "outputs": [
    {
     "name": "stdout",
     "output_type": "stream",
     "text": [
      "False\n",
      "True\n",
      "False\n",
      "True\n"
     ]
    }
   ],
   "source": [
    "sakinys = \"Martynas Vaitkus bando programuoti su Python\"\n",
    "print (sakinys.isdigit())\n",
    "1983\n",
    "print (\"1983\".isdigit())\n",
    "print (\"1983 \".isdigit()) # tarpas yra po 1983\n",
    "# sutvarkyti galima su funkcija \"strip()\". Pvz., \n",
    "print (\"1983 \".strip ().isdigit())\n"
   ]
  },
  {
   "cell_type": "markdown",
   "metadata": {},
   "source": [
    "# \\n"
   ]
  },
  {
   "cell_type": "code",
   "execution_count": 182,
   "metadata": {},
   "outputs": [
    {
     "name": "stdout",
     "output_type": "stream",
     "text": [
      "Hello\n",
      "world\n",
      "world\n",
      "Helloworldworld\n",
      "Hello  hello  hello\n"
     ]
    }
   ],
   "source": [
    "text = \"Hello\\nworld\\nworld\"\n",
    "print(text)\n",
    "print (text.replace (\"\\n\", \"\"))\n",
    "print (text.replace (\"\\n\", \"  \").replace (\"world\", \"hello\"))"
   ]
  },
  {
   "cell_type": "markdown",
   "metadata": {},
   "source": [
    "# upper lower capitalize count"
   ]
  },
  {
   "cell_type": "code",
   "execution_count": 214,
   "metadata": {},
   "outputs": [
    {
     "name": "stdout",
     "output_type": "stream",
     "text": [
      "My name is Martynas, i live in Vilnius\n",
      "11\n",
      "My name is Martynas\n",
      "My name is Jonas, i live in Vilnius\n",
      "MY NAME IS JONAS, I LIVE IN VILNIUS\n",
      "My name is Jonas, i live in Vilnius\n",
      "My name is Jonas, i live in Vilnius\n",
      "MY NAME IS JONAS, I LIVE IN VILNIUS\n",
      "My name is Jonas, i live in Vilnius\n",
      "68\n",
      "My name is Jonas, i live in Vilnius\n"
     ]
    }
   ],
   "source": [
    "text = \"My name is Martynas, i live in Vilnius\"\n",
    "print (text)\n",
    "print (text.find(\"Martynas\"))\n",
    "print (text [0:text.find(\"Martynas\") + len (\"Martynas\")]) # šičia žiauriai gerai!!!\n",
    "print (text. replace (\"Martynas\", \"Jonas\"))\n",
    "text=text. replace (\"Martynas\", \"Jonas\")\n",
    "print (text.upper())\n",
    "print (text)\n",
    "print ((text [:text.find(\"live\") + len(\"live\") + len(\"in Vilnius \")])+\"\\n\"+ text.upper())\n",
    "print (text)\n",
    "print (len((text [:text.find(\"live\") + len(\"live\") + len(\"in Vilnius \")])) + len (\"Jonas\") + text.find (\"Vilnius\"))\n",
    "print (text [:text.find(\"live\") + len(\"live\") + len(\"in Vilnius \")])\n"
   ]
  },
  {
   "cell_type": "markdown",
   "metadata": {},
   "source": [
    "# Matematinės operacijos su tekstais"
   ]
  },
  {
   "cell_type": "code",
   "execution_count": 206,
   "metadata": {},
   "outputs": [
    {
     "name": "stdout",
     "output_type": "stream",
     "text": [
      "Martynas Vaitkus 1983, smagu susitikti!\n",
      "MartynasMartynasMartynasMartynasMartynasMartynasMartynasMartynasMartynasMartynas\n"
     ]
    }
   ],
   "source": [
    "name = \"Martynas\"\n",
    "surname = \"Vaitkus\"\n",
    "number = 1983\n",
    "print (name +\" \"+ surname + \" \"+ str (number) +\", smagu susitikti!\") # sudėtis, bet atimtis negalima. Str () konvertuoja skaičių į tekstą, ir galima sudėti.\n",
    "print (name  * 10) # daugyba, bet dalyba negalima"
   ]
  },
  {
   "cell_type": "markdown",
   "metadata": {},
   "source": [
    "# f-string"
   ]
  },
  {
   "cell_type": "code",
   "execution_count": 226,
   "metadata": {},
   "outputs": [
    {
     "name": "stdout",
     "output_type": "stream",
     "text": [
      "Martynas VAITKUS 1993, nice to meet you!\n"
     ]
    }
   ],
   "source": [
    "name = \"Martynas\"\n",
    "surname = \"Vaitkus\"\n",
    "number = 1983\n",
    "print(f\"{name} {surname. upper()} {number + 10}, nice to meet you!\")\n"
   ]
  },
  {
   "cell_type": "markdown",
   "metadata": {},
   "source": [
    "# Uždaviniai su \"string\""
   ]
  },
  {
   "cell_type": "code",
   "execution_count": 227,
   "metadata": {},
   "outputs": [
    {
     "name": "stdout",
     "output_type": "stream",
     "text": [
      "Martynas Vaitkus\n"
     ]
    }
   ],
   "source": [
    "name = \"Martynas\"\n",
    "surname = \"Vaitkus\"\n",
    "print(name, surname) "
   ]
  },
  {
   "cell_type": "code",
   "execution_count": 230,
   "metadata": {},
   "outputs": [
    {
     "name": "stdout",
     "output_type": "stream",
     "text": [
      "PYTHON MAKES ME REALLY REALLY HAPPY\n",
      "PyThOn makes me really really happy\n"
     ]
    }
   ],
   "source": [
    "sakinys = \"Python makes me really really happy\"\n",
    "print (sakinys.upper())\n",
    "print (sakinys.replace (\"Python\", \"PyThOn\"))"
   ]
  },
  {
   "cell_type": "code",
   "execution_count": 5,
   "metadata": {},
   "outputs": [
    {
     "name": "stdout",
     "output_type": "stream",
     "text": [
      "18\n",
      "happy\n",
      "happy\n",
      "24\n",
      "to\n",
      "39\n"
     ]
    }
   ],
   "source": [
    "sakinys = \"Hello world, i am happy to learn Python\"\n",
    "print (sakinys.find(\"happy\"))\n",
    "print (sakinys[18:sakinys.find(\"happy\") + len(\"happy\")])\n",
    "print (sakinys[sakinys.find(\"happy\"):sakinys.find(\"happy\") + len(\"happy\")]) # šitas irgi geras variantas\n",
    "print (sakinys.find(\"to\"))\n",
    "print (sakinys[24:sakinys.find(\"to\") + len(\"to\")])\n",
    "print (len(sakinys))"
   ]
  },
  {
   "cell_type": "code",
   "execution_count": 8,
   "metadata": {},
   "outputs": [
    {
     "name": "stdout",
     "output_type": "stream",
     "text": [
      "happy\n"
     ]
    }
   ],
   "source": [
    "sakinys = \"Hello world, i am happy to learn Python\"\n",
    "look_word = \"happy\"\n",
    "print (sakinys[sakinys.find(look_word):sakinys.find(look_word) + len(look_word)]) # su look_word happy žodžio išgavimas"
   ]
  },
  {
   "cell_type": "markdown",
   "metadata": {},
   "source": [
    "# Number"
   ]
  },
  {
   "cell_type": "code",
   "execution_count": 2,
   "metadata": {},
   "outputs": [
    {
     "name": "stdout",
     "output_type": "stream",
     "text": [
      "<class 'int'>\n",
      "<class 'float'>\n"
     ]
    }
   ],
   "source": [
    "number = 1983\n",
    "float_nr= 1.983\n",
    "print (type(number))\n",
    "print (type(float_nr))\n"
   ]
  },
  {
   "cell_type": "markdown",
   "metadata": {},
   "source": [
    "# operacijos su skaičiais"
   ]
  },
  {
   "cell_type": "code",
   "execution_count": 12,
   "metadata": {},
   "outputs": [
    {
     "name": "stdout",
     "output_type": "stream",
     "text": [
      "1984.983\n",
      "<class 'float'>\n",
      "1984.983 yra <class 'float'>\n",
      "1981.017\n",
      "3932.289\n",
      "1000.0\n"
     ]
    }
   ],
   "source": [
    "\n",
    "print (number + float_nr) # galima ir taip: suma (number + float_nr); print(suma) ir t.t.\n",
    "print (type (number + float_nr))\n",
    "print (f\"{number + float_nr} yra {type(number + float_nr)}\")\n",
    "print (number - float_nr)\n",
    "print (number * float_nr)\n",
    "print (number / float_nr)"
   ]
  },
  {
   "cell_type": "code",
   "execution_count": 21,
   "metadata": {},
   "outputs": [
    {
     "name": "stdout",
     "output_type": "stream",
     "text": [
      "3\n"
     ]
    }
   ],
   "source": [
    "number2 = 17\n",
    "number3 = 5\n",
    "print (number2//number3) # // jei norisi surasti sveikąją dalį\n"
   ]
  },
  {
   "cell_type": "code",
   "execution_count": 15,
   "metadata": {},
   "outputs": [
    {
     "name": "stdout",
     "output_type": "stream",
     "text": [
      "1\n"
     ]
    }
   ],
   "source": [
    "number2 = 21\n",
    "number3 = 5\n",
    "print (number2%number3) # % jei norisi surasti liekaną"
   ]
  },
  {
   "cell_type": "code",
   "execution_count": 32,
   "metadata": {},
   "outputs": [
    {
     "name": "stdout",
     "output_type": "stream",
     "text": [
      "25\n",
      "125\n",
      "225 yra <class 'int'> \n"
     ]
    }
   ],
   "source": [
    "number2 = 21\n",
    "number3 = 5\n",
    "print (number3 ** 2) # ** kai norisi pakalti laipsniu\n",
    "print (number3 ** 3)\n",
    "print (f\"{number3 ** 3 +100} yra {type (number3 ** 3 +100)} \")"
   ]
  },
  {
   "cell_type": "markdown",
   "metadata": {},
   "source": [
    "# užduotys su skaičiais"
   ]
  },
  {
   "cell_type": "code",
   "execution_count": 33,
   "metadata": {},
   "outputs": [
    {
     "name": "stdout",
     "output_type": "stream",
     "text": [
      "26\n",
      "16\n",
      "105\n",
      "4.2\n",
      "4\n",
      "1\n"
     ]
    }
   ],
   "source": [
    "number2 = 21\n",
    "number3 = 5\n",
    "print (number2+number3)\n",
    "print (number2-number3)\n",
    "print (number2*number3)\n",
    "print (number2/number3)\n",
    "print (number2//number3)\n",
    "print (number2%number3)"
   ]
  },
  {
   "cell_type": "code",
   "execution_count": 40,
   "metadata": {},
   "outputs": [
    {
     "name": "stdout",
     "output_type": "stream",
     "text": [
      "390.625\n",
      "Atstumas iki saulės yra 390.625 kartų didesnis nei iki mėnulio\n",
      "2560.0\n",
      "320.0\n",
      "3.555555555555556\n"
     ]
    }
   ],
   "source": [
    "saule = 150000000 # kad būtų suprantamiau: saule = 150_000_000\n",
    "moon = 384000\n",
    "print (saule/moon)\n",
    "print (f\"Atstumas iki saulės yra {saule/moon} kartų didesnis nei iki mėnulio\")\n",
    "print (moon/150)\n",
    "print ((moon/50)/24)\n",
    "print (((moon/150)/24)/30)\n",
    "\n"
   ]
  },
  {
   "cell_type": "markdown",
   "metadata": {},
   "source": [
    "# Boolean deklaracija"
   ]
  },
  {
   "cell_type": "code",
   "execution_count": 42,
   "metadata": {},
   "outputs": [
    {
     "name": "stdout",
     "output_type": "stream",
     "text": [
      "<class 'bool'>\n",
      "True\n"
     ]
    }
   ],
   "source": [
    "bool_1 = True\n",
    "bool_2 = False\n",
    "print (type (bool_1))\n",
    "number = 1\n",
    "print (bool(number))\n"
   ]
  },
  {
   "cell_type": "code",
   "execution_count": 50,
   "metadata": {},
   "outputs": [
    {
     "name": "stdout",
     "output_type": "stream",
     "text": [
      "False\n",
      "True\n",
      "True\n",
      "True\n",
      "True\n",
      "True\n",
      "False\n"
     ]
    }
   ],
   "source": [
    "print (2>4)\n",
    "print (2<4)\n",
    "print (2<4)\n",
    "print (6<=6) # daugiau ar lygu\n",
    "print (6 == 6) # lygybės ženklas naudajamas priskiriant reikšmę, o == naudojamas būtent lygybei.\n",
    "print (4!=2) # != naudojamas patikrinant ar kas nors yra nelygi.\n",
    "print (4!=4)\n"
   ]
  },
  {
   "cell_type": "code",
   "execution_count": 58,
   "metadata": {},
   "outputs": [
    {
     "name": "stdout",
     "output_type": "stream",
     "text": [
      "True\n",
      "False\n"
     ]
    }
   ],
   "source": [
    "tekstas = \"Hello world\"\n",
    "bool_1 = \"Hello\" in tekstas\n",
    "print (bool_1)\n",
    "bool_1 = \"b\" in tekstas\n",
    "print (bool_1)\n"
   ]
  },
  {
   "cell_type": "code",
   "execution_count": 61,
   "metadata": {},
   "outputs": [
    {
     "name": "stdout",
     "output_type": "stream",
     "text": [
      "False\n",
      "True\n",
      "True\n"
     ]
    }
   ],
   "source": [
    "print (bool (\"\")) # tuščias tekstas, nes tarp kabučių nėra nieko, net tarpo.\n",
    "print (bool (\" \")) # atsirado tarpas, o tai jau tekstinis simbolis, tad true.\n",
    "print (bool (\" Hello \"))"
   ]
  },
  {
   "cell_type": "code",
   "execution_count": 65,
   "metadata": {},
   "outputs": [
    {
     "name": "stdout",
     "output_type": "stream",
     "text": [
      "True\n",
      "False\n",
      "True\n"
     ]
    }
   ],
   "source": [
    "print (True)\n",
    "print (not True)\n",
    "print (not not True)"
   ]
  },
  {
   "cell_type": "code",
   "execution_count": 83,
   "metadata": {},
   "outputs": [
    {
     "name": "stdout",
     "output_type": "stream",
     "text": [
      "True\n",
      "False\n",
      "True\n",
      "True\n",
      "True\n",
      "False\n"
     ]
    },
    {
     "data": {
      "text/plain": [
       "False"
      ]
     },
     "execution_count": 83,
     "metadata": {},
     "output_type": "execute_result"
    }
   ],
   "source": [
    "print (20>10)\n",
    "print (20>10 and 45>1 and 1>4)\n",
    "print (20>10 and 45>1 and 5>4)\n",
    "print (20>10 and 45>1 and 5>4 or 4<3)\n",
    "print (5>4 or 4<3)\n",
    "print (5<4 or 4<3)\n",
    "(\"hello\" in \"Hello world\" and 4>3) or 5<5 # atkreipti, kad \"hello\" iš mažosios raidės\n"
   ]
  },
  {
   "cell_type": "markdown",
   "metadata": {},
   "source": [
    "# boolean deklaracijos užduotys"
   ]
  },
  {
   "cell_type": "code",
   "execution_count": 87,
   "metadata": {},
   "outputs": [
    {
     "name": "stdout",
     "output_type": "stream",
     "text": [
      "True\n",
      "True\n",
      "True\n",
      "True\n",
      "True\n"
     ]
    }
   ],
   "source": [
    "print (5>3)\n",
    "text= \"hello world\"\n",
    "\"hello\" in \"hello world\"\n",
    "number_1 = 2\n",
    "print (bool (number_1))\n",
    "print (5>4 and 3>2)\n",
    "print (4 == 4)\n",
    "print (5>4 or 3>2)"
   ]
  },
  {
   "cell_type": "code",
   "execution_count": 94,
   "metadata": {},
   "outputs": [
    {
     "name": "stdout",
     "output_type": "stream",
     "text": [
      "False\n"
     ]
    },
    {
     "data": {
      "text/plain": [
       "False"
      ]
     },
     "execution_count": 94,
     "metadata": {},
     "output_type": "execute_result"
    }
   ],
   "source": [
    "number_1 = 0\n",
    "print (bool(number_1))\n",
    "\"Martynas\" in \"Jonas neturi noro dirbti su Java programa\""
   ]
  },
  {
   "cell_type": "markdown",
   "metadata": {},
   "source": [
    " # List"
   ]
  },
  {
   "cell_type": "code",
   "execution_count": 108,
   "metadata": {},
   "outputs": [
    {
     "name": "stdout",
     "output_type": "stream",
     "text": [
      "['Martynas', 'Jonas', 'Tomas']\n",
      "Martynas\n",
      "Tomas\n",
      "['Martynas', 'Jonas']\n",
      "3\n",
      "True\n",
      "<class 'list'>\n"
     ]
    }
   ],
   "source": [
    "vardai = [\"Martynas\", \"Jonas\", \"Tomas\"]\n",
    "print (vardai)\n",
    "print (vardai[0])\n",
    "print (vardai[-1])\n",
    "print (vardai[:2]) # verta pastebėti, kaip su slicingu dirbama \"list\" kontekste.\n",
    "print (len(vardai))\n",
    "print (\"Martynas\" in vardai)\n",
    "print (type(vardai[:2]))"
   ]
  },
  {
   "cell_type": "code",
   "execution_count": 126,
   "metadata": {},
   "outputs": [
    {
     "name": "stdout",
     "output_type": "stream",
     "text": [
      "<class 'float'>\n",
      "<class 'str'>\n",
      "<class 'int'>\n",
      "3\n",
      "[1.56, 'Vilnius', 3]\n"
     ]
    }
   ],
   "source": [
    "list_2 = [1.56, \"Vilnius\", 3]\n",
    "print (type(list_2[0]))\n",
    "print (type(list_2[1]))\n",
    "print (type(list_2[2]))\n",
    "print (len(list_2))\n",
    "print (list_2[0:3])\n",
    "\n"
   ]
  },
  {
   "cell_type": "code",
   "execution_count": 128,
   "metadata": {},
   "outputs": [
    {
     "name": "stdout",
     "output_type": "stream",
     "text": [
      "7\n"
     ]
    }
   ],
   "source": [
    "list_2 = [1.56, \"Vilnius\", 3]\n",
    "print (len(list_2[-2]))"
   ]
  },
  {
   "cell_type": "code",
   "execution_count": 140,
   "metadata": {},
   "outputs": [
    {
     "name": "stdout",
     "output_type": "stream",
     "text": [
      "[1.56, 'Vilnius', 3, 500, 500, 500, 'Kaunas']\n"
     ]
    }
   ],
   "source": [
    "list_2 = [1.56, \"Vilnius\", 3]\n",
    "list_2.append(500)\n",
    "list_2.append(500)\n",
    "list_2.append(500)\n",
    "list_2.append(\"Kaunas\")\n",
    "print(list_2)\n"
   ]
  },
  {
   "cell_type": "code",
   "execution_count": 146,
   "metadata": {},
   "outputs": [
    {
     "name": "stdout",
     "output_type": "stream",
     "text": [
      "[1.56, 'Vilnius', 3, 500, 500, 500, 'Kaunas', 'Kaunas', 'Kaunas', 'Kaunas', 'Kaunas', 'Kaunas', 'Kaunas']\n"
     ]
    }
   ],
   "source": [
    "list_2.append(\"Kaunas\") # verta pastebėti, kad nuolat iš naujo paleidus, pridedamas \"Kaunas\" į sąrašą. Pakeičia originalų sąrašą.\n",
    "print(list_2)"
   ]
  },
  {
   "cell_type": "code",
   "execution_count": 151,
   "metadata": {},
   "outputs": [
    {
     "name": "stdout",
     "output_type": "stream",
     "text": [
      "1\n"
     ]
    }
   ],
   "source": [
    "list_2 = [1.56, \"Vilnius\", 3]\n",
    "print (list_2.count(\"Vilnius\"))"
   ]
  },
  {
   "cell_type": "code",
   "execution_count": 159,
   "metadata": {},
   "outputs": [
    {
     "name": "stdout",
     "output_type": "stream",
     "text": [
      "None\n"
     ]
    }
   ],
   "source": [
    "list_2 = [1.56, \"Vilnius\", 3]\n",
    "list_2.insert(1, 50)\n",
    "print(list_2.insert(1, 50)) # none nurodo, jog vis tiek sąrašas pasikeitė insert pagrindu, padaryk print(list_2), pamatysi.\n",
    "\n"
   ]
  },
  {
   "cell_type": "code",
   "execution_count": 176,
   "metadata": {},
   "outputs": [
    {
     "name": "stdout",
     "output_type": "stream",
     "text": [
      "<class 'float'>\n",
      "[1.56, 'Vilnius', 3]\n",
      "3\n",
      "[1.56, 'Vilnius']\n",
      "[1.56, 'Vilnius', 3]\n",
      "Vilnius\n",
      "[1.56, 3]\n",
      "<class 'float'>\n"
     ]
    }
   ],
   "source": [
    "list_2 = [1.56, \"Vilnius\", 3]\n",
    "print(type(list_2[0]))\n",
    "print(list_2)\n",
    "print(list_2.pop())\n",
    "print(list_2)\n",
    "list_2.append(3)\n",
    "print(list_2)\n",
    "print(list_2.pop(1))\n",
    "print(list_2)\n",
    "print(type(list_2[0]))\n"
   ]
  },
  {
   "cell_type": "code",
   "execution_count": 185,
   "metadata": {},
   "outputs": [
    {
     "name": "stdout",
     "output_type": "stream",
     "text": [
      "None\n",
      "[1.56, 3]\n"
     ]
    }
   ],
   "source": [
    "list_2 = [1.56, \"Vilnius\", 3]\n",
    "print(list_2.remove(\"Vilnius\"))\n",
    "print(list_2)"
   ]
  },
  {
   "cell_type": "code",
   "execution_count": 200,
   "metadata": {},
   "outputs": [
    {
     "name": "stdout",
     "output_type": "stream",
     "text": [
      "[1.56, 'Vilnius', 3, 999, 999]\n",
      "[1.56, 'Vilnius', 3, 999, 999, [999, 999]]\n",
      "[999, 999]\n",
      "<class 'list'>\n",
      "2\n",
      "[999, 999]\n",
      "Vilnius\n",
      "[1.56, 3, 999, 999]\n",
      "999\n",
      "[1.56, 3, 999, 999]\n"
     ]
    }
   ],
   "source": [
    "list_2 = [1.56, \"Vilnius\", 3]\n",
    "list_2.extend([999, 999])\n",
    "print(list_2)\n",
    "list_2.append([999, 999]) # verta pastebėti skirtumus tarp extend ir append.\n",
    "print(list_2)\n",
    "print (list_2[-1])\n",
    "print(type(list_2[-1]))\n",
    "print(len(list_2[-1]))\n",
    "print(list_2.pop())\n",
    "print(list_2.pop(1))\n",
    "print(list_2)\n",
    "print(list_2[-1])\n",
    "print(list_2)\n"
   ]
  },
  {
   "cell_type": "code",
   "execution_count": 5,
   "metadata": {},
   "outputs": [
    {
     "name": "stdout",
     "output_type": "stream",
     "text": [
      "[3, 'Vilnius', 1.56]\n",
      "[1.56, 'Vilnius', 3]\n"
     ]
    }
   ],
   "source": [
    "list_2 = [1.56, \"Vilnius\", 3]\n",
    "list_2.reverse()\n",
    "print (list_2)\n",
    "print(list_2[::-1]) # bet galima ir tokia forma apversti\n"
   ]
  },
  {
   "cell_type": "code",
   "execution_count": 11,
   "metadata": {},
   "outputs": [
    {
     "name": "stdout",
     "output_type": "stream",
     "text": [
      "[1.56, 3, 5, 6]\n",
      "[6, 5, 3, 1.56]\n"
     ]
    }
   ],
   "source": [
    "list_2 = [1.56, 5, 3, 6]\n",
    "list_2.sort()\n",
    "print(list_2)\n",
    "list_2.sort(reverse=True)\n",
    "print(list_2)"
   ]
  },
  {
   "cell_type": "code",
   "execution_count": 26,
   "metadata": {},
   "outputs": [
    {
     "name": "stdout",
     "output_type": "stream",
     "text": [
      "['Vilnius', 'Kaunas', 'Pasvalys']\n",
      "['Vilnius', 'Kaunas', 'Palanga']\n",
      "['Vilnius', 'Kaunas', 'Palanga', 'Pasvalys']\n",
      "False\n",
      "True\n"
     ]
    }
   ],
   "source": [
    "miestai = [\"Vilnius\", \"Kaunas\",\"Pasvalys\"]\n",
    "print(miestai)\n",
    "miestai[2] = \"Palanga\"\n",
    "print(miestai)\n",
    "miestai.append(\"Pasvalys\")\n",
    "print(miestai)\n",
    "print(bool([]))\n",
    "print(bool(miestai))"
   ]
  },
  {
   "cell_type": "code",
   "execution_count": 28,
   "metadata": {},
   "outputs": [
    {
     "name": "stdout",
     "output_type": "stream",
     "text": [
      "['Vilnius', 'Kaunas', 'Pasvalys', 'Martynas', 'Jonas', 'Tadas']\n",
      "['Vilnius', 'Kaunas', 'Pasvalys', 'Vilnius', 'Kaunas', 'Pasvalys']\n"
     ]
    }
   ],
   "source": [
    "miestai = [\"Vilnius\", \"Kaunas\",\"Pasvalys\"]\n",
    "vardai = [\"Martynas\", \"Jonas\", \"Tadas\"]\n",
    "print(miestai + vardai)\n",
    "print(miestai * 2)"
   ]
  },
  {
   "cell_type": "markdown",
   "metadata": {},
   "source": [
    "# List užduotys"
   ]
  },
  {
   "cell_type": "code",
   "execution_count": 32,
   "metadata": {},
   "outputs": [
    {
     "name": "stdout",
     "output_type": "stream",
     "text": [
      "3\n",
      "['Vilnius', 'Kaunas', 'Pasvalys', 'Palanga']\n"
     ]
    },
    {
     "data": {
      "text/plain": [
       "True"
      ]
     },
     "execution_count": 32,
     "metadata": {},
     "output_type": "execute_result"
    }
   ],
   "source": [
    "miestai = [\"Vilnius\", \"Kaunas\", \"Pasvalys\"]\n",
    "print(len(miestai))\n",
    "miestai.append(\"Palanga\")\n",
    "print (miestai)\n",
    "\"Vilnius\" in miestai"
   ]
  },
  {
   "cell_type": "code",
   "execution_count": 37,
   "metadata": {},
   "outputs": [
    {
     "name": "stdout",
     "output_type": "stream",
     "text": [
      "[5, 7, 3, 66, 32.3, 8, 2, 9, 6, 5]\n",
      "[5, 7, 3, 66, 32.3, 8, 2, 9, 6]\n",
      "[2, 3, 5, 6, 7, 8, 9, 32.3, 66]\n",
      "1\n"
     ]
    }
   ],
   "source": [
    "numbers_1 = [5, 7, 3, 66, 32.3, 8]\n",
    "numbers_2 = [2, 9, 6, 5]\n",
    "suma = numbers_1 + numbers_2\n",
    "print(suma)\n",
    "suma.pop()\n",
    "print(suma)\n",
    "suma.sort()\n",
    "print(suma)\n",
    "print(suma.count (5))"
   ]
  }
 ],
 "metadata": {
  "kernelspec": {
   "display_name": "Python 3.10.6 64-bit",
   "language": "python",
   "name": "python3"
  },
  "language_info": {
   "codemirror_mode": {
    "name": "ipython",
    "version": 3
   },
   "file_extension": ".py",
   "mimetype": "text/x-python",
   "name": "python",
   "nbconvert_exporter": "python",
   "pygments_lexer": "ipython3",
   "version": "3.10.6"
  },
  "orig_nbformat": 4,
  "vscode": {
   "interpreter": {
    "hash": "aee8b7b246df8f9039afb4144a1f6fd8d2ca17a180786b69acc140d282b71a49"
   }
  }
 },
 "nbformat": 4,
 "nbformat_minor": 2
}
