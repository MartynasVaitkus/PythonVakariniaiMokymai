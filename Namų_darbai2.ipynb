{
 "cells": [
  {
   "cell_type": "markdown",
   "metadata": {},
   "source": [
    "# 1. Rasti pasikartojančius elementus tarp dviejų list'ų\n",
    "# a = [1,2,3,4,5,6,7,8,9,15]\n",
    "# b = [3,8,9,11,15]\n",
    "# Gauti rezultatą c = [3,8,9,15] nes šie skaičiai pasikartoja abiejuose listuose"
   ]
  },
  {
   "cell_type": "code",
   "execution_count": 12,
   "metadata": {},
   "outputs": [
    {
     "name": "stdout",
     "output_type": "stream",
     "text": [
      "[3, 8, 9, 15]\n"
     ]
    }
   ],
   "source": [
    " a = [1,2,3,4,5,6,7,8,9,15]\n",
    " b = [3,8,9,11,15]\n",
    " set1 = set(a)\n",
    " set2 = set(b)\n",
    " (set1.intersection(set2))\n",
    " set3=set1.intersection(set2)\n",
    " print(sorted(set3))\n"
   ]
  },
  {
   "cell_type": "markdown",
   "metadata": {},
   "source": [
    "# 2. Išfiltruoti unikalius teigiamus numeris iš sąrašo\n",
    "# x = [1, 5, 1, 2, 8, -9, 10, 1, -8, -900, 14, 5, -8, 2, 1, -20, 900, 800, -6, -8, 12, 1]"
   ]
  },
  {
   "cell_type": "code",
   "execution_count": 18,
   "metadata": {},
   "outputs": [
    {
     "name": "stdout",
     "output_type": "stream",
     "text": [
      "{800, 1, 2, 900, 5, 8, 10, -20, 12, 14, -9, -8, -6, -900}\n",
      "{800, 1, 2, 900, 5, 8, 10, -20, 12, 14, -9, -8, -6, -900}\n",
      "[800, 1, 2, 900, 5, 8, 10, -20, 12, 14, -9, -8, -6, -900]\n",
      "800\n",
      "1\n",
      "2\n",
      "900\n",
      "5\n",
      "8\n",
      "10\n",
      "12\n",
      "14\n",
      "[800, 1, 2, 900, 5, 8, 10, 12, 14]\n"
     ]
    }
   ],
   "source": [
    "x = [1, 5, 1, 2, 8, -9, 10, 1, -8, -900, 14, 5, -8, 2, 1, -20, 900, 800, -6, -8, 12, 1]\n",
    "positive_list = []\n",
    "set1 = set(x)\n",
    "print(set1)\n",
    "set2 = set1\n",
    "print(set2)\n",
    "list1 = list(set2)\n",
    "print(list1)\n",
    "for y in list1:\n",
    "    if y > 0:\n",
    "        print(y)\n",
    "        positive_list.append(y)\n",
    "print(positive_list)"
   ]
  },
  {
   "cell_type": "markdown",
   "metadata": {},
   "source": [
    "# 3. Paskaičiuoti pelną pardavus visas prekes. Informacija apie kainą ir kiekius yra pateikiama kaip dictionary, atsakymą suapvalinti iki 2 skaičių po kablelio.\n",
    "\n",
    "# x = { \"cost_price\": 32.67, \n",
    "#         \"sell_price\": 45.00,      \n",
    "#          \"inventory\": 1212  }"
   ]
  },
  {
   "cell_type": "code",
   "execution_count": null,
   "metadata": {},
   "outputs": [],
   "source": []
  }
 ],
 "metadata": {
  "kernelspec": {
   "display_name": "Python 3.10.6 64-bit",
   "language": "python",
   "name": "python3"
  },
  "language_info": {
   "codemirror_mode": {
    "name": "ipython",
    "version": 3
   },
   "file_extension": ".py",
   "mimetype": "text/x-python",
   "name": "python",
   "nbconvert_exporter": "python",
   "pygments_lexer": "ipython3",
   "version": "3.10.6"
  },
  "orig_nbformat": 4,
  "vscode": {
   "interpreter": {
    "hash": "aee8b7b246df8f9039afb4144a1f6fd8d2ca17a180786b69acc140d282b71a49"
   }
  }
 },
 "nbformat": 4,
 "nbformat_minor": 2
}
