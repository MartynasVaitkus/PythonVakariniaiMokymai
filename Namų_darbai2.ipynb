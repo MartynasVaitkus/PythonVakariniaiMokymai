{
 "cells": [
  {
   "cell_type": "markdown",
   "metadata": {},
   "source": [
    "# 1. Rasti pasikartojančius elementus tarp dviejų list'ų\n",
    "# a = [1,2,3,4,5,6,7,8,9,15]\n",
    "# b = [3,8,9,11,15]\n",
    "# Gauti rezultatą c = [3,8,9,15] nes šie skaičiai pasikartoja abiejuose listuose"
   ]
  },
  {
   "cell_type": "code",
   "execution_count": 12,
   "metadata": {},
   "outputs": [
    {
     "name": "stdout",
     "output_type": "stream",
     "text": [
      "[8, 9, 3, 15]\n"
     ]
    }
   ],
   "source": [
    " a = [1,2,3,4,5,6,7,8,9,15]\n",
    " b = [3,8,9,11,15]\n",
    " set1 = set(a)\n",
    " set2 = set(b)\n",
    " c=list(set1.intersection(set2))\n",
    " print((c))\n"
   ]
  },
  {
   "cell_type": "code",
   "execution_count": 14,
   "metadata": {},
   "outputs": [
    {
     "name": "stdout",
     "output_type": "stream",
     "text": [
      "[8, 9, 3, 15]\n"
     ]
    }
   ],
   "source": [
    "a = [1,2,3,4,5,6,7,8,9,15]\n",
    "b = [3,8,9,11,15]\n",
    "c=list(set(a).intersection(b))\n",
    "print(c)"
   ]
  },
  {
   "cell_type": "markdown",
   "metadata": {},
   "source": [
    "# 2. Išfiltruoti unikalius teigiamus numeris iš sąrašo\n",
    "# x = [1, 5, 1, 2, 8, -9, 10, 1, -8, -900, 14, 5, -8, 2, 1, -20, 900, 800, -6, -8, 12, 1]"
   ]
  },
  {
   "cell_type": "code",
   "execution_count": 2,
   "metadata": {},
   "outputs": [
    {
     "name": "stdout",
     "output_type": "stream",
     "text": [
      "{800, 1, 2, 900, 5, 8, 10, -20, 12, 14, -9, -8, -6, -900}\n",
      "{800, 1, 2, 900, 5, 8, 10, -20, 12, 14, -9, -8, -6, -900}\n",
      "[800, 1, 2, 900, 5, 8, 10, -20, 12, 14, -9, -8, -6, -900]\n",
      "800\n",
      "1\n",
      "2\n",
      "900\n",
      "5\n",
      "8\n",
      "10\n",
      "12\n",
      "14\n",
      "[800, 1, 2, 900, 5, 8, 10, 12, 14]\n"
     ]
    }
   ],
   "source": [
    "x = [1, 5, 1, 2, 8, -9, 10, 1, -8, -900, 14, 5, -8, 2, 1, -20, 900, 800, -6, -8, 12, 1]\n",
    "positive_list = []\n",
    "set1 = set(x)\n",
    "print(set1)\n",
    "set2 = set1\n",
    "print(set2)\n",
    "list1 = list(set2)\n",
    "print(list1)\n",
    "for y in list1:\n",
    "    if y > 0:\n",
    "        print(y)\n",
    "        positive_list.append(y)\n",
    "print(positive_list)"
   ]
  },
  {
   "cell_type": "code",
   "execution_count": 15,
   "metadata": {},
   "outputs": [
    {
     "name": "stdout",
     "output_type": "stream",
     "text": [
      "[800, 1, 2, 900, 5, 8, 10, 12, 14]\n"
     ]
    }
   ],
   "source": [
    "x = [1, 5, 1, 2, 8, -9, 10, 1, -8, -900, 14, 5, -8, 2, 1, -20, 900, 800, -6, -8, 12, 1]\n",
    "set1 = set(x)\n",
    "result = [number for number in set1 if number > 0]\n",
    "print(result)"
   ]
  },
  {
   "cell_type": "markdown",
   "metadata": {},
   "source": [
    "# 3. Paskaičiuoti pelną pardavus visas prekes. Informacija apie kainą ir kiekius yra pateikiama kaip dictionary, atsakymą suapvalinti iki 2 skaičių po kablelio.\n",
    "\n",
    "# x = { \"cost_price\": 32.67, \n",
    "#         \"sell_price\": 45.00,      \n",
    "#          \"inventory\": 1212  }"
   ]
  },
  {
   "cell_type": "code",
   "execution_count": 3,
   "metadata": {},
   "outputs": [
    {
     "name": "stdout",
     "output_type": "stream",
     "text": [
      "[32.67, 45.0, 1212]\n",
      "39596.04\n",
      "54540.0\n",
      "14943.96\n"
     ]
    }
   ],
   "source": [
    "# nesu tikras, ar tikrai tokiu būdu reikia spręsti.\n",
    "x = { \"cost_price\": 32.67, \n",
    "      \"sell_price\": 45.00,      \n",
    "      \"inventory\": 1212  }\n",
    "list_1 = (list(x.values()))\n",
    "print(list_1)\n",
    "number_1 = list_1 [0] * list_1 [2]\n",
    "print(number_1)\n",
    "number_2 = list_1 [1] * list_1 [2]\n",
    "print(number_2)\n",
    "profit = number_2 - number_1\n",
    "print(profit)"
   ]
  },
  {
   "cell_type": "code",
   "execution_count": 19,
   "metadata": {},
   "outputs": [
    {
     "name": "stdout",
     "output_type": "stream",
     "text": [
      "14943.96\n",
      " pelnas: 14943.96\n"
     ]
    }
   ],
   "source": [
    "x = { \"cost_price\": 32.67, \n",
    "      \"sell_price\": 45.00,      \n",
    "      \"inventory\": 1212  }\n",
    "profit = (x [\"sell_price\"] - x [\"cost_price\"]) * x[\"inventory\"]\n",
    "print(round (profit, 2)) # \"round\" padeda suapvalinti, o skaitmuo \"2\" nurodo, kiek skaitmenų palikti po kableliu.\n",
    "# arba\n",
    "print(f\" pelnas: {profit:.2f}\")"
   ]
  },
  {
   "cell_type": "markdown",
   "metadata": {},
   "source": [
    "# 4. Leiskite įvesti 10 žodžių, programa turi atsakyti į tokius klausimus:\n",
    "# Kiek žodžių yra ilgesnių nei 10 simbolių\n",
    "# Kuris žodis yra ilgiausias ir trumpiausias\n",
    "# Ar nors vienas žodis yra palindromas, jei taip, koks arba kokie tai žodžiai\n",
    "# Palindromas - atvirkščiai skaitant žodį, gaunasi tas pats žodis.\n",
    "# savas -> savas"
   ]
  },
  {
   "cell_type": "code",
   "execution_count": 27,
   "metadata": {},
   "outputs": [
    {
     "name": "stdout",
     "output_type": "stream",
     "text": [
      "['kompiuteris']\n",
      "kompiuteris\n",
      "tu\n",
      "['savas']\n"
     ]
    }
   ],
   "source": [
    "žodžiai = [\"savas\", \"mes\", \"penki\", \"internetas\", \"dirbtinis\", \"Paskalis\", \"tu\", \"obuolys\", \"kompiuteris\", \"technika\"]\n",
    "ilgi_žodžiai = [žodis for žodis in žodžiai if len(žodis) > 10]\n",
    "print(ilgi_žodžiai)\n",
    "# arba\n",
    "ilgiausi_žodžiai = max (žodžiai, key=lambda zodis: len(zodis))\n",
    "trumpiausi_žodžiai = min (žodžiai, key=lambda zodis: len(zodis))\n",
    "print(ilgiausi_žodžiai)\n",
    "print(trumpiausi_žodžiai)\n",
    "polindromai = [žodis for žodis in žodžiai if žodis == žodis [::-1]]\n",
    "print(polindromai)\n"
   ]
  },
  {
   "cell_type": "markdown",
   "metadata": {},
   "source": [
    "# 5. Turėdami list’ą, gaukite didžiausią šalia esančių skaičių sandaugą\n",
    "\n",
    "# my_list = [3, 6, -2, -5, 7, 3]\n",
    "\n",
    "# rezultatas = 21, nes 7 ir 3 sandauga yra didžiausia"
   ]
  },
  {
   "cell_type": "code",
   "execution_count": 33,
   "metadata": {},
   "outputs": [
    {
     "name": "stdout",
     "output_type": "stream",
     "text": [
      "indeksas yra 0, po šiuo indeksu yra reikšmė 3, sekanti reikšmė su indeksu 1 yra 6\n",
      "indeksas yra 1, po šiuo indeksu yra reikšmė 6, sekanti reikšmė su indeksu 2 yra -2\n",
      "indeksas yra 2, po šiuo indeksu yra reikšmė -2, sekanti reikšmė su indeksu 3 yra -5\n",
      "indeksas yra 3, po šiuo indeksu yra reikšmė -5, sekanti reikšmė su indeksu 4 yra 7\n",
      "indeksas yra 4, po šiuo indeksu yra reikšmė 7, sekanti reikšmė su indeksu 5 yra 3\n",
      "21\n"
     ]
    }
   ],
   "source": [
    "my_list1 = [3, 6, -2, -5, 7, 3]\n",
    "sandauga = 1\n",
    "for i in range(len(my_list1)-1):\n",
    "    print(f\"indeksas yra {i}, po šiuo indeksu yra reikšmė {my_list1[i]}, sekanti reikšmė su indeksu {i + 1} yra {my_list1[i +1]}\")\n",
    "    if sandauga < my_list1[i] * my_list1[i +1]:\n",
    "        sandauga = my_list1[i] * my_list1[i +1]\n",
    "print(sandauga)\n"
   ]
  },
  {
   "cell_type": "code",
   "execution_count": 46,
   "metadata": {},
   "outputs": [
    {
     "name": "stdout",
     "output_type": "stream",
     "text": [
      "[3, 6, -2, -5, 7]\n",
      "[6, -2, -5, 7, 3]\n",
      " num1: 3, num2: 6\n",
      " num1: 6, num2: -2\n",
      " num1: -2, num2: -5\n",
      " num1: -5, num2: 7\n",
      " num1: 7, num2: 3\n",
      "21\n",
      "[(3, 6), (6, -2), (-2, -5), (-5, 7), (7, 3)]\n",
      "(7, 3)\n"
     ]
    }
   ],
   "source": [
    "my_list1 = [3, 6, -2, -5, 7, 3]\n",
    "sandauga = 1\n",
    "print(my_list1[:-1])\n",
    "print(my_list1[1:])\n",
    "for num1, num2 in zip(my_list1[:-1], my_list1[1:]):\n",
    "    print(f\" num1: {num1}, num2: {num2}\")\n",
    "    if sandauga < num1 * num2:\n",
    "        sandauga = num1 * num2\n",
    "print(sandauga)\n",
    "print(list(zip(my_list1[:-1], my_list1[1:])))\n",
    "list1 = list(zip(my_list1[:-1], my_list1[1:]))\n",
    "print(list1.pop())\n",
    "\n"
   ]
  }
 ],
 "metadata": {
  "kernelspec": {
   "display_name": "Python 3.10.6 64-bit",
   "language": "python",
   "name": "python3"
  },
  "language_info": {
   "codemirror_mode": {
    "name": "ipython",
    "version": 3
   },
   "file_extension": ".py",
   "mimetype": "text/x-python",
   "name": "python",
   "nbconvert_exporter": "python",
   "pygments_lexer": "ipython3",
   "version": "3.10.6"
  },
  "orig_nbformat": 4,
  "vscode": {
   "interpreter": {
    "hash": "aee8b7b246df8f9039afb4144a1f6fd8d2ca17a180786b69acc140d282b71a49"
   }
  }
 },
 "nbformat": 4,
 "nbformat_minor": 2
}
