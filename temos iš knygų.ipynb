{
 "cells": [
  {
   "cell_type": "code",
   "execution_count": 22,
   "metadata": {},
   "outputs": [
    {
     "name": "stdout",
     "output_type": "stream",
     "text": [
      "Martynas Martynas Martynas Martynas Martynas \n"
     ]
    }
   ],
   "source": [
    "print(\"Martynas\" \" \" * 5)"
   ]
  },
  {
   "cell_type": "code",
   "execution_count": 25,
   "metadata": {},
   "outputs": [
    {
     "name": "stdout",
     "output_type": "stream",
     "text": [
      "Goodbye cruel world!\n",
      "Goodbye cruel world! It is time to run!\n"
     ]
    }
   ],
   "source": [
    "sakinys = \"Goodbye cruel world!\"\n",
    "print(sakinys)\n",
    "sakinys = sakinys +\" \"+\"It is time to run!\"\n",
    "print(sakinys)"
   ]
  },
  {
   "cell_type": "code",
   "execution_count": 5,
   "metadata": {},
   "outputs": [
    {
     "name": "stdout",
     "output_type": "stream",
     "text": [
      "I am 29 years old.\n",
      "29\n",
      "I am 29 years old.\n"
     ]
    }
   ],
   "source": [
    "print('I am ' + \"29\" + ' years old.')\n",
    "print(str(29))\n",
    "print('I am ' + str(29) + ' years old.')"
   ]
  },
  {
   "cell_type": "code",
   "execution_count": 11,
   "metadata": {},
   "outputs": [
    {
     "name": "stdout",
     "output_type": "stream",
     "text": [
      "29\n",
      "29\n",
      "2\n",
      "3.0\n"
     ]
    }
   ],
   "source": [
    "print(int(\"29\"))\n",
    "print(int(29))\n",
    "print(int(2.3))\n",
    "print(float(3))"
   ]
  },
  {
   "cell_type": "code",
   "execution_count": 33,
   "metadata": {},
   "outputs": [
    {
     "name": "stdout",
     "output_type": "stream",
     "text": [
      "True\n",
      "True\n"
     ]
    }
   ],
   "source": [
    "print(42==int(\"42\"))\n",
    "print(42==42)"
   ]
  },
  {
   "cell_type": "code",
   "execution_count": 13,
   "metadata": {},
   "outputs": [
    {
     "name": "stdout",
     "output_type": "stream",
     "text": [
      "I have eaten 99 burritos\n"
     ]
    }
   ],
   "source": [
    "sakinys ='I have eaten ' + str(99) + ' burritos'\n",
    "print(sakinys)\n",
    "\n",
    "\n"
   ]
  },
  {
   "cell_type": "code",
   "execution_count": 32,
   "metadata": {},
   "outputs": [
    {
     "name": "stdout",
     "output_type": "stream",
     "text": [
      "['third', 'fourth']\n",
      "['first', 'second', 'fourth']\n",
      "['zero', 'first', 'first', 'second', 'fourth']\n",
      "['first', 'second', 'fourth']\n",
      "['first', 'second', 'second', 'fourth']\n",
      "['first', 'second', 'fourth']\n",
      "['first', 'second', 'third', 'fourth']\n",
      "['fourth', 'third', 'second', 'first']\n",
      "['first', 'second', 'third', 'fourth']\n"
     ]
    }
   ],
   "source": [
    "x = [\"first\", \"second\", \"third\", \"fourth\"]\n",
    "print(x[-2:])\n",
    "x[2:3] = []\n",
    "print(x)\n",
    "print([\"zero\", \"first\"]+x) # verta pastebėti!!!\n",
    "print(x)\n",
    "x.insert(1, \"second\")\n",
    "print(x)\n",
    "x.remove(\"second\")\n",
    "print(x)\n",
    "x.insert(2, \"third\")\n",
    "print(x)\n",
    "x.reverse()\n",
    "print(x)\n",
    "print(x[::-1])\n"
   ]
  }
 ],
 "metadata": {
  "kernelspec": {
   "display_name": "Python 3.10.6 64-bit",
   "language": "python",
   "name": "python3"
  },
  "language_info": {
   "codemirror_mode": {
    "name": "ipython",
    "version": 3
   },
   "file_extension": ".py",
   "mimetype": "text/x-python",
   "name": "python",
   "nbconvert_exporter": "python",
   "pygments_lexer": "ipython3",
   "version": "3.10.6"
  },
  "orig_nbformat": 4,
  "vscode": {
   "interpreter": {
    "hash": "aee8b7b246df8f9039afb4144a1f6fd8d2ca17a180786b69acc140d282b71a49"
   }
  }
 },
 "nbformat": 4,
 "nbformat_minor": 2
}
