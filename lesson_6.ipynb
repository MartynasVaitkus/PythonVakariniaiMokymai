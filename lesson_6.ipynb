{
 "cells": [
  {
   "cell_type": "markdown",
   "metadata": {},
   "source": [
    "# klaidų valdymas"
   ]
  },
  {
   "cell_type": "code",
   "execution_count": 14,
   "metadata": {},
   "outputs": [
    {
     "name": "stdout",
     "output_type": "stream",
     "text": [
      "1\n",
      "2\n"
     ]
    },
    {
     "ename": "StopIteration",
     "evalue": "",
     "output_type": "error",
     "traceback": [
      "\u001b[0;31m---------------------------------------------------------------------------\u001b[0m",
      "\u001b[0;31mStopIteration\u001b[0m                             Traceback (most recent call last)",
      "\u001b[1;32m/Users/martynas/Desktop/kursai/repository/PythonVakariniaiMokymai-1/lesson_6.ipynb Cell 2\u001b[0m in \u001b[0;36m<cell line: 4>\u001b[0;34m()\u001b[0m\n\u001b[1;32m      <a href='vscode-notebook-cell:/Users/martynas/Desktop/kursai/repository/PythonVakariniaiMokymai-1/lesson_6.ipynb#W3sZmlsZQ%3D%3D?line=1'>2</a>\u001b[0m \u001b[39mprint\u001b[39m(\u001b[39mnext\u001b[39m(it))\n\u001b[1;32m      <a href='vscode-notebook-cell:/Users/martynas/Desktop/kursai/repository/PythonVakariniaiMokymai-1/lesson_6.ipynb#W3sZmlsZQ%3D%3D?line=2'>3</a>\u001b[0m \u001b[39mprint\u001b[39m(\u001b[39mnext\u001b[39m(it))\n\u001b[0;32m----> <a href='vscode-notebook-cell:/Users/martynas/Desktop/kursai/repository/PythonVakariniaiMokymai-1/lesson_6.ipynb#W3sZmlsZQ%3D%3D?line=3'>4</a>\u001b[0m \u001b[39mprint\u001b[39m(\u001b[39mnext\u001b[39;49m(it))\n",
      "\u001b[0;31mStopIteration\u001b[0m: "
     ]
    }
   ],
   "source": [
    "it = iter([1, 2])\n",
    "print(next(it))\n",
    "print(next(it))\n",
    "print(next(it))"
   ]
  },
  {
   "cell_type": "code",
   "execution_count": 15,
   "metadata": {},
   "outputs": [
    {
     "ename": "ValueError",
     "evalue": "invalid literal for int() with base 10: 'Sveiki'",
     "output_type": "error",
     "traceback": [
      "\u001b[0;31m---------------------------------------------------------------------------\u001b[0m",
      "\u001b[0;31mValueError\u001b[0m                                Traceback (most recent call last)",
      "\u001b[1;32m/Users/martynas/Desktop/kursai/repository/PythonVakariniaiMokymai-1/lesson_6.ipynb Cell 3\u001b[0m in \u001b[0;36m<cell line: 3>\u001b[0;34m()\u001b[0m\n\u001b[1;32m      <a href='vscode-notebook-cell:/Users/martynas/Desktop/kursai/repository/PythonVakariniaiMokymai-1/lesson_6.ipynb#X21sZmlsZQ%3D%3D?line=0'>1</a>\u001b[0m \u001b[39mdef\u001b[39;00m \u001b[39mmano_funkcija\u001b[39m(arg):\n\u001b[1;32m      <a href='vscode-notebook-cell:/Users/martynas/Desktop/kursai/repository/PythonVakariniaiMokymai-1/lesson_6.ipynb#X21sZmlsZQ%3D%3D?line=1'>2</a>\u001b[0m     \u001b[39mprint\u001b[39m(\u001b[39mint\u001b[39m(arg))\n\u001b[0;32m----> <a href='vscode-notebook-cell:/Users/martynas/Desktop/kursai/repository/PythonVakariniaiMokymai-1/lesson_6.ipynb#X21sZmlsZQ%3D%3D?line=2'>3</a>\u001b[0m mano_funkcija(\u001b[39m\"\u001b[39;49m\u001b[39mSveiki\u001b[39;49m\u001b[39m\"\u001b[39;49m)\n",
      "\u001b[1;32m/Users/martynas/Desktop/kursai/repository/PythonVakariniaiMokymai-1/lesson_6.ipynb Cell 3\u001b[0m in \u001b[0;36mmano_funkcija\u001b[0;34m(arg)\u001b[0m\n\u001b[1;32m      <a href='vscode-notebook-cell:/Users/martynas/Desktop/kursai/repository/PythonVakariniaiMokymai-1/lesson_6.ipynb#X21sZmlsZQ%3D%3D?line=0'>1</a>\u001b[0m \u001b[39mdef\u001b[39;00m \u001b[39mmano_funkcija\u001b[39m(arg):\n\u001b[0;32m----> <a href='vscode-notebook-cell:/Users/martynas/Desktop/kursai/repository/PythonVakariniaiMokymai-1/lesson_6.ipynb#X21sZmlsZQ%3D%3D?line=1'>2</a>\u001b[0m     \u001b[39mprint\u001b[39m(\u001b[39mint\u001b[39;49m(arg))\n",
      "\u001b[0;31mValueError\u001b[0m: invalid literal for int() with base 10: 'Sveiki'"
     ]
    }
   ],
   "source": [
    "def mano_funkcija(arg):\n",
    "    print(int(arg))\n",
    "mano_funkcija(\"Sveiki\")"
   ]
  },
  {
   "cell_type": "markdown",
   "metadata": {},
   "source": [
    "# Klaidos sukėlimas"
   ]
  },
  {
   "cell_type": "code",
   "execution_count": 20,
   "metadata": {},
   "outputs": [
    {
     "name": "stdout",
     "output_type": "stream",
     "text": [
      "15\n"
     ]
    },
    {
     "ename": "ValueError",
     "evalue": "First argument must be integer",
     "output_type": "error",
     "traceback": [
      "\u001b[0;31m---------------------------------------------------------------------------\u001b[0m",
      "\u001b[0;31mValueError\u001b[0m                                Traceback (most recent call last)",
      "\u001b[1;32m/Users/martynas/Desktop/kursai/repository/PythonVakariniaiMokymai-1/lesson_6.ipynb Cell 5\u001b[0m in \u001b[0;36m<cell line: 8>\u001b[0;34m()\u001b[0m\n\u001b[1;32m      <a href='vscode-notebook-cell:/Users/martynas/Desktop/kursai/repository/PythonVakariniaiMokymai-1/lesson_6.ipynb#X24sZmlsZQ%3D%3D?line=5'>6</a>\u001b[0m     \u001b[39mreturn\u001b[39;00m a\u001b[39m+\u001b[39mb\n\u001b[1;32m      <a href='vscode-notebook-cell:/Users/martynas/Desktop/kursai/repository/PythonVakariniaiMokymai-1/lesson_6.ipynb#X24sZmlsZQ%3D%3D?line=6'>7</a>\u001b[0m \u001b[39mprint\u001b[39m(add_numbers(\u001b[39m5\u001b[39m, \u001b[39m10\u001b[39m))\n\u001b[0;32m----> <a href='vscode-notebook-cell:/Users/martynas/Desktop/kursai/repository/PythonVakariniaiMokymai-1/lesson_6.ipynb#X24sZmlsZQ%3D%3D?line=7'>8</a>\u001b[0m \u001b[39mprint\u001b[39m(add_numbers(\u001b[39m\"\u001b[39;49m\u001b[39m5\u001b[39;49m\u001b[39m\"\u001b[39;49m, \u001b[39m10\u001b[39;49m))\n",
      "\u001b[1;32m/Users/martynas/Desktop/kursai/repository/PythonVakariniaiMokymai-1/lesson_6.ipynb Cell 5\u001b[0m in \u001b[0;36madd_numbers\u001b[0;34m(a, b)\u001b[0m\n\u001b[1;32m      <a href='vscode-notebook-cell:/Users/martynas/Desktop/kursai/repository/PythonVakariniaiMokymai-1/lesson_6.ipynb#X24sZmlsZQ%3D%3D?line=0'>1</a>\u001b[0m \u001b[39mdef\u001b[39;00m \u001b[39madd_numbers\u001b[39m(a, b):\n\u001b[1;32m      <a href='vscode-notebook-cell:/Users/martynas/Desktop/kursai/repository/PythonVakariniaiMokymai-1/lesson_6.ipynb#X24sZmlsZQ%3D%3D?line=1'>2</a>\u001b[0m     \u001b[39mif\u001b[39;00m \u001b[39mnot\u001b[39;00m \u001b[39misinstance\u001b[39m (a, \u001b[39mint\u001b[39m):\n\u001b[0;32m----> <a href='vscode-notebook-cell:/Users/martynas/Desktop/kursai/repository/PythonVakariniaiMokymai-1/lesson_6.ipynb#X24sZmlsZQ%3D%3D?line=2'>3</a>\u001b[0m         \u001b[39mraise\u001b[39;00m \u001b[39mValueError\u001b[39;00m(\u001b[39m\"\u001b[39m\u001b[39mFirst argument must be integer\u001b[39m\u001b[39m\"\u001b[39m)\n\u001b[1;32m      <a href='vscode-notebook-cell:/Users/martynas/Desktop/kursai/repository/PythonVakariniaiMokymai-1/lesson_6.ipynb#X24sZmlsZQ%3D%3D?line=3'>4</a>\u001b[0m     \u001b[39mif\u001b[39;00m \u001b[39mnot\u001b[39;00m \u001b[39misinstance\u001b[39m (b, \u001b[39mint\u001b[39m):\n\u001b[1;32m      <a href='vscode-notebook-cell:/Users/martynas/Desktop/kursai/repository/PythonVakariniaiMokymai-1/lesson_6.ipynb#X24sZmlsZQ%3D%3D?line=4'>5</a>\u001b[0m         \u001b[39mraise\u001b[39;00m \u001b[39mValueError\u001b[39;00m(\u001b[39m\"\u001b[39m\u001b[39mSecond argument must be integer\u001b[39m\u001b[39m\"\u001b[39m)\n",
      "\u001b[0;31mValueError\u001b[0m: First argument must be integer"
     ]
    }
   ],
   "source": [
    "def add_numbers(a, b):\n",
    "    if not isinstance (a, int):\n",
    "        raise ValueError(\"First argument must be integer\")\n",
    "    if not isinstance (b, int):\n",
    "        raise ValueError(\"Second argument must be integer\")\n",
    "    return a+b\n",
    "print(add_numbers(5, 10))\n",
    "print(add_numbers(\"5\", 10))"
   ]
  },
  {
   "cell_type": "code",
   "execution_count": 19,
   "metadata": {},
   "outputs": [
    {
     "name": "stdout",
     "output_type": "stream",
     "text": [
      "15\n"
     ]
    }
   ],
   "source": [
    "def add_numbers(a, b):\n",
    "    if not isinstance (a, int):\n",
    "        raise ValueError(\"First argument must be integer\")\n",
    "    if not isinstance (b, int):\n",
    "        raise ValueError(\"Second argument must be integer\")\n",
    "    return a+b\n",
    "\n",
    "print(add_numbers(5, 10))"
   ]
  },
  {
   "cell_type": "markdown",
   "metadata": {},
   "source": [
    "# klaidų išvengimas (try/except)"
   ]
  },
  {
   "cell_type": "code",
   "execution_count": 1,
   "metadata": {},
   "outputs": [
    {
     "ename": "NameError",
     "evalue": "name 'q' is not defined",
     "output_type": "error",
     "traceback": [
      "\u001b[0;31m---------------------------------------------------------------------------\u001b[0m",
      "\u001b[0;31mNameError\u001b[0m                                 Traceback (most recent call last)",
      "\u001b[1;32m/Users/martynas/Desktop/kursai/repository/PythonVakariniaiMokymai-1/lesson_6.ipynb Cell 4\u001b[0m in \u001b[0;36m<cell line: 1>\u001b[0;34m()\u001b[0m\n\u001b[0;32m----> <a href='vscode-notebook-cell:/Users/martynas/Desktop/kursai/repository/PythonVakariniaiMokymai-1/lesson_6.ipynb#W6sZmlsZQ%3D%3D?line=0'>1</a>\u001b[0m \u001b[39mprint\u001b[39m(q)\n",
      "\u001b[0;31mNameError\u001b[0m: name 'q' is not defined"
     ]
    }
   ],
   "source": [
    "print(q)\n",
    "print(\"kodo pabaiga\") # šito teksto neatspausdina, nes print(q) meta klaidą ir kodas sustojo"
   ]
  },
  {
   "cell_type": "code",
   "execution_count": 23,
   "metadata": {},
   "outputs": [
    {
     "name": "stdout",
     "output_type": "stream",
     "text": [
      "kodo pradžia\n",
      "name 'q' is not defined\n",
      "kodo pabaiga\n"
     ]
    }
   ],
   "source": [
    "try: # tarsi sakytume Pythonui, jog pabandyk, jei kas nesigaus, pranešk.\n",
    "    print(\"kodo pradžia\")\n",
    "    print(q)\n",
    "    print(\"kodo pabaiga\") # nesuveikia, nes po print(q) persoka i except sriti.\n",
    "except NameError as e: # except įgalina nurodyti, kokį klaidų tipą mes norime pagauti\n",
    "    print(e) # šioje vietoje rašome, ką toliau norime daryti. Šiuo atveju prašome atspausdinti pačią klaidą.\n",
    "\n",
    "\n",
    "print(\"kodo pabaiga\")"
   ]
  },
  {
   "cell_type": "code",
   "execution_count": 26,
   "metadata": {},
   "outputs": [
    {
     "name": "stdout",
     "output_type": "stream",
     "text": [
      "kodo pradzia\n",
      "pagauta klaida\n"
     ]
    }
   ],
   "source": [
    "try:\n",
    "    print(\"kodo pradzia\")\n",
    "    print(q)\n",
    "    print(\"kodo pabaiga\") # nesuveikė, nes po print(q) peršoko į except sritį.\n",
    "except NameError as e:\n",
    "    print(\"pagauta klaida\")\n"
   ]
  },
  {
   "cell_type": "code",
   "execution_count": 27,
   "metadata": {},
   "outputs": [
    {
     "name": "stdout",
     "output_type": "stream",
     "text": [
      "try pradzia\n",
      "pagauta NameError klaida\n"
     ]
    }
   ],
   "source": [
    "try:\n",
    "    print('try pradzia')\n",
    "    print(q)\n",
    "    print ( 5 / 0)\n",
    "    print('try pabaiga') # nesuveikia\n",
    "except NameError as e: # DO THIS\n",
    "    print ('pagauta NameError klaida')\n",
    "except ZeroDivisionError as e: # DO THIS nemeta ir neatspausdino 'pagauta ZeroDivisionError klaida', nes print(q) peršoko į \"NameError as e\" sritį ir atspausdino 'pagauta NameError klaida'\n",
    "    print ('pagauta ZeroDivisionError klaida')"
   ]
  },
  {
   "cell_type": "markdown",
   "metadata": {},
   "source": [
    "# bet galima apsieit iir be try ir except bloko"
   ]
  },
  {
   "cell_type": "code",
   "execution_count": 28,
   "metadata": {},
   "outputs": [
    {
     "name": "stdout",
     "output_type": "stream",
     "text": [
      "6000000000.0\n"
     ]
    }
   ],
   "source": [
    "b = 6\n",
    "c = 0\n",
    "\n",
    "if c == 0:\n",
    "    c += 0.000000001\n",
    "v = b / c\n",
    "print (v)"
   ]
  },
  {
   "cell_type": "code",
   "execution_count": 31,
   "metadata": {},
   "outputs": [
    {
     "name": "stdout",
     "output_type": "stream",
     "text": [
      "try pradzia\n",
      "pagauta ZeroDivisionError klaida\n",
      "finally dalis\n"
     ]
    }
   ],
   "source": [
    "try:\n",
    "    print('try pradzia')\n",
    "    #print(q)\n",
    "    print ( 5 / 0)\n",
    "    print('try pabaiga') # nesuveikia\n",
    "except NameError as e: # DO THIS\n",
    "    print ('pagauta NameError klaida')\n",
    "except ZeroDivisionError as e: # DO THIS nemeta ir neatspausdino 'pagauta ZeroDivisionError klaida', nes print(q) peršoko į \"NameError as e\" sritį ir atspausdino 'pagauta NameError klaida'\n",
    "    print ('pagauta ZeroDivisionError klaida')\n",
    "finally:\n",
    "    print(\"finally dalis\") # bus atspausdinta bet kokiu atveju. Nesvarbu - ar klaida buvo, ar nebuvo."
   ]
  },
  {
   "cell_type": "markdown",
   "metadata": {},
   "source": [
    "# OS boblioteka"
   ]
  },
  {
   "cell_type": "code",
   "execution_count": 1,
   "metadata": {},
   "outputs": [],
   "source": [
    "import os"
   ]
  },
  {
   "cell_type": "code",
   "execution_count": 11,
   "metadata": {},
   "outputs": [
    {
     "name": "stdout",
     "output_type": "stream",
     "text": [
      "/Users/martynas/Desktop/Test\n"
     ]
    }
   ],
   "source": [
    "print(os.getcwd()) # gauni, kur yra dabartinė darbo vieta\n"
   ]
  },
  {
   "cell_type": "code",
   "execution_count": 8,
   "metadata": {},
   "outputs": [
    {
     "name": "stdout",
     "output_type": "stream",
     "text": [
      "[]\n"
     ]
    }
   ],
   "source": [
    "print(os.listdir())"
   ]
  },
  {
   "cell_type": "code",
   "execution_count": 4,
   "metadata": {},
   "outputs": [],
   "source": [
    "# absolute or relative\n",
    "os.chdir(\"../../../Test/\") #"
   ]
  },
  {
   "cell_type": "code",
   "execution_count": 5,
   "metadata": {},
   "outputs": [
    {
     "data": {
      "text/plain": [
       "'/Users/martynas/Desktop/Test'"
      ]
     },
     "execution_count": 5,
     "metadata": {},
     "output_type": "execute_result"
    }
   ],
   "source": [
    "os.getcwd() # esu dabar nebe '/Users/martynas/Desktop/kursai/repository/PythonVakariniaiMokymai-1', o '/Users/martynas/Desktop/Test'"
   ]
  },
  {
   "cell_type": "code",
   "execution_count": 7,
   "metadata": {},
   "outputs": [
    {
     "name": "stdout",
     "output_type": "stream",
     "text": [
      "[]\n"
     ]
    }
   ],
   "source": [
    "print(os.listdir())"
   ]
  },
  {
   "cell_type": "code",
   "execution_count": 14,
   "metadata": {},
   "outputs": [],
   "source": [
    "os.chdir(\"../Burke/\")"
   ]
  },
  {
   "cell_type": "code",
   "execution_count": 15,
   "metadata": {},
   "outputs": [
    {
     "name": "stdout",
     "output_type": "stream",
     "text": [
      "/Users/martynas/Desktop/Burke\n"
     ]
    }
   ],
   "source": [
    "print(os.getcwd())"
   ]
  },
  {
   "cell_type": "code",
   "execution_count": 16,
   "metadata": {},
   "outputs": [
    {
     "name": "stdout",
     "output_type": "stream",
     "text": [
      "[\"(St Antony's Series) Jennifer M. Welsh - Edmund Burke and International Relations_ The Commonwealth of Europe and the Crusade Against the French Revolution-Palgrave Macmillan (1995).pdf\", \"(Political Thinkers) Frank O'Gorman - Edmund Burke (Political Thinkers)-Routledge (2004).pdf\"]\n"
     ]
    }
   ],
   "source": [
    "print(os.listdir()) # išmeta, kas šiuo metu yra faile"
   ]
  },
  {
   "cell_type": "code",
   "execution_count": 17,
   "metadata": {},
   "outputs": [],
   "source": [
    "os.chdir(\"../kursai/repository/PythonVakariniaiMokymai-1/\")"
   ]
  },
  {
   "cell_type": "code",
   "execution_count": 18,
   "metadata": {},
   "outputs": [
    {
     "name": "stdout",
     "output_type": "stream",
     "text": [
      "/Users/martynas/Desktop/kursai/repository/PythonVakariniaiMokymai-1\n"
     ]
    }
   ],
   "source": [
    "print(os.getcwd())"
   ]
  },
  {
   "cell_type": "code",
   "execution_count": 21,
   "metadata": {},
   "outputs": [
    {
     "name": "stdout",
     "output_type": "stream",
     "text": [
      "['lesson_1.2.ipynb', 'lesson_2.ipynb', 'lesson_6.ipynb', 'lesson_4.ipynb', 'lesson_3.ipynb', 'lesson_1.ipynb', 'lesson_5.ipynb', 'lesson_7.ipynb', 'README.md', 'temos iš knygų.ipynb', '.gitignore', 'Namų_darbai2.ipynb', '.git', 'Namų_darbai.ipynb']\n"
     ]
    }
   ],
   "source": [
    "print(os.listdir(\"/Users/martynas/Desktop/kursai/repository/PythonVakariniaiMokymai-1\"))"
   ]
  },
  {
   "cell_type": "code",
   "execution_count": 25,
   "metadata": {},
   "outputs": [
    {
     "name": "stdout",
     "output_type": "stream",
     "text": [
      "root: /Users/martynas/Desktop/kursai/repository/PythonVakariniaiMokymai-1\n",
      "dirs: ['.git']\n",
      "files: ['lesson_1.2.ipynb', 'lesson_2.ipynb', 'lesson_6.ipynb', 'lesson_4.ipynb', 'lesson_3.ipynb', 'lesson_1.ipynb', 'lesson_5.ipynb', 'lesson_7.ipynb', 'README.md', 'temos iš knygų.ipynb', '.gitignore', 'Namų_darbai2.ipynb', 'Namų_darbai.ipynb']\n",
      "root: /Users/martynas/Desktop/kursai/repository/PythonVakariniaiMokymai-1/.git\n",
      "dirs: ['objects', 'info', 'logs', 'hooks', 'refs', 'branches']\n",
      "files: ['config', 'HEAD', 'description', 'index', 'packed-refs', 'COMMIT_EDITMSG']\n",
      "root: /Users/martynas/Desktop/kursai/repository/PythonVakariniaiMokymai-1/.git/objects\n",
      "dirs: ['69', '51', '05', 'ae', 'pack', '87', '8a', 'info', '55', 'b6', 'f7']\n",
      "files: []\n",
      "root: /Users/martynas/Desktop/kursai/repository/PythonVakariniaiMokymai-1/.git/objects/69\n",
      "dirs: []\n",
      "files: ['d50c7bc87c379c471d8c35921ffa2f49a7f2ff']\n",
      "root: /Users/martynas/Desktop/kursai/repository/PythonVakariniaiMokymai-1/.git/objects/51\n",
      "dirs: []\n",
      "files: ['4eb01dedd0335f0f132006df53b0ea33bbfe39']\n",
      "root: /Users/martynas/Desktop/kursai/repository/PythonVakariniaiMokymai-1/.git/objects/05\n",
      "dirs: []\n",
      "files: ['481e27645bf4f78fbdd97389785a7246250695']\n",
      "root: /Users/martynas/Desktop/kursai/repository/PythonVakariniaiMokymai-1/.git/objects/ae\n",
      "dirs: []\n",
      "files: ['c6fc81faf0e97e1bb22e623eed7ad73deefba8']\n",
      "root: /Users/martynas/Desktop/kursai/repository/PythonVakariniaiMokymai-1/.git/objects/pack\n",
      "dirs: []\n",
      "files: ['pack-a9d60a9bbaae9d57d8f9e000f75509eccea83404.pack', 'pack-a9d60a9bbaae9d57d8f9e000f75509eccea83404.idx']\n",
      "root: /Users/martynas/Desktop/kursai/repository/PythonVakariniaiMokymai-1/.git/objects/87\n",
      "dirs: []\n",
      "files: ['4a14031f86ba00c167e9796765cb97a19c62d1']\n",
      "root: /Users/martynas/Desktop/kursai/repository/PythonVakariniaiMokymai-1/.git/objects/8a\n",
      "dirs: []\n",
      "files: ['d2fd2857848083bfc104a0a1d075ec71cda72f']\n",
      "root: /Users/martynas/Desktop/kursai/repository/PythonVakariniaiMokymai-1/.git/objects/info\n",
      "dirs: []\n",
      "files: []\n",
      "root: /Users/martynas/Desktop/kursai/repository/PythonVakariniaiMokymai-1/.git/objects/55\n",
      "dirs: []\n",
      "files: ['728cde9da29b17446508608802c4f678950a87']\n",
      "root: /Users/martynas/Desktop/kursai/repository/PythonVakariniaiMokymai-1/.git/objects/b6\n",
      "dirs: []\n",
      "files: ['c6843344aa98ff42e9a0c2eb42bffa21e3c63d']\n",
      "root: /Users/martynas/Desktop/kursai/repository/PythonVakariniaiMokymai-1/.git/objects/f7\n",
      "dirs: []\n",
      "files: ['cb1e1d1c37c798ddecc7914b44d35c8edbe478']\n",
      "root: /Users/martynas/Desktop/kursai/repository/PythonVakariniaiMokymai-1/.git/info\n",
      "dirs: []\n",
      "files: ['exclude']\n",
      "root: /Users/martynas/Desktop/kursai/repository/PythonVakariniaiMokymai-1/.git/logs\n",
      "dirs: ['refs']\n",
      "files: ['HEAD']\n",
      "root: /Users/martynas/Desktop/kursai/repository/PythonVakariniaiMokymai-1/.git/logs/refs\n",
      "dirs: ['heads', 'remotes']\n",
      "files: []\n",
      "root: /Users/martynas/Desktop/kursai/repository/PythonVakariniaiMokymai-1/.git/logs/refs/heads\n",
      "dirs: []\n",
      "files: ['main']\n",
      "root: /Users/martynas/Desktop/kursai/repository/PythonVakariniaiMokymai-1/.git/logs/refs/remotes\n",
      "dirs: ['origin']\n",
      "files: []\n",
      "root: /Users/martynas/Desktop/kursai/repository/PythonVakariniaiMokymai-1/.git/logs/refs/remotes/origin\n",
      "dirs: []\n",
      "files: ['HEAD', 'main']\n",
      "root: /Users/martynas/Desktop/kursai/repository/PythonVakariniaiMokymai-1/.git/hooks\n",
      "dirs: []\n",
      "files: ['commit-msg.sample', 'pre-rebase.sample', 'pre-commit.sample', 'applypatch-msg.sample', 'fsmonitor-watchman.sample', 'pre-receive.sample', 'prepare-commit-msg.sample', 'post-update.sample', 'pre-merge-commit.sample', 'pre-applypatch.sample', 'pre-push.sample', 'update.sample', 'push-to-checkout.sample']\n",
      "root: /Users/martynas/Desktop/kursai/repository/PythonVakariniaiMokymai-1/.git/refs\n",
      "dirs: ['heads', 'tags', 'remotes']\n",
      "files: []\n",
      "root: /Users/martynas/Desktop/kursai/repository/PythonVakariniaiMokymai-1/.git/refs/heads\n",
      "dirs: []\n",
      "files: ['main']\n",
      "root: /Users/martynas/Desktop/kursai/repository/PythonVakariniaiMokymai-1/.git/refs/tags\n",
      "dirs: []\n",
      "files: []\n",
      "root: /Users/martynas/Desktop/kursai/repository/PythonVakariniaiMokymai-1/.git/refs/remotes\n",
      "dirs: ['origin']\n",
      "files: []\n",
      "root: /Users/martynas/Desktop/kursai/repository/PythonVakariniaiMokymai-1/.git/refs/remotes/origin\n",
      "dirs: []\n",
      "files: ['HEAD', 'main']\n",
      "root: /Users/martynas/Desktop/kursai/repository/PythonVakariniaiMokymai-1/.git/branches\n",
      "dirs: []\n",
      "files: []\n"
     ]
    }
   ],
   "source": [
    "for root, dirs, files in os.walk(\"/Users/martynas/Desktop/kursai/repository/PythonVakariniaiMokymai-1\", topdown=True): # walk komanda eina gilyn (arba galima pakeisti topdown=True) per viską.\n",
    "    print (f'root: {root}') # duoda lokaciją\n",
    "    print (f'dirs: {dirs}') # directories == folder, duoda aplankalą\n",
    "    print (f'files: {files}') # duoda tai, kas yra aplankale"
   ]
  },
  {
   "cell_type": "code",
   "execution_count": 26,
   "metadata": {},
   "outputs": [
    {
     "name": "stdout",
     "output_type": "stream",
     "text": [
      "/Users/martynas/Desktop/kursai/repository/PythonVakariniaiMokymai-1\n"
     ]
    }
   ],
   "source": [
    "print(os.getcwd())"
   ]
  },
  {
   "cell_type": "code",
   "execution_count": 27,
   "metadata": {},
   "outputs": [
    {
     "ename": "FileNotFoundError",
     "evalue": "[Errno 2] No such file or directory: 'mkdir/folder1'",
     "output_type": "error",
     "traceback": [
      "\u001b[0;31m---------------------------------------------------------------------------\u001b[0m",
      "\u001b[0;31mFileNotFoundError\u001b[0m                         Traceback (most recent call last)",
      "\u001b[1;32m/Users/martynas/Desktop/kursai/repository/PythonVakariniaiMokymai-1/lesson_6.ipynb Cell 30\u001b[0m in \u001b[0;36m<cell line: 1>\u001b[0;34m()\u001b[0m\n\u001b[0;32m----> <a href='vscode-notebook-cell:/Users/martynas/Desktop/kursai/repository/PythonVakariniaiMokymai-1/lesson_6.ipynb#X52sZmlsZQ%3D%3D?line=0'>1</a>\u001b[0m os\u001b[39m.\u001b[39;49mmkdir(\u001b[39m\"\u001b[39;49m\u001b[39mmkdir/folder1\u001b[39;49m\u001b[39m\"\u001b[39;49m)\n",
      "\u001b[0;31mFileNotFoundError\u001b[0m: [Errno 2] No such file or directory: 'mkdir/folder1'"
     ]
    }
   ],
   "source": [
    "os.mkdir(\"mkdir/folder1\") #, klaida, nes neranda (ir nesukuria) mkdir aplankalo, su mkdir komanda gali sukurti tik 1 aplankalą"
   ]
  },
  {
   "cell_type": "code",
   "execution_count": 28,
   "metadata": {},
   "outputs": [],
   "source": [
    "os.mkdir(\"mkdir\") # dabar jau sukūrė aplankalą mkdir. Pažiūrėk į viršų kairėje prie visų aplankalų, pamatysi mkdir."
   ]
  },
  {
   "cell_type": "code",
   "execution_count": 30,
   "metadata": {},
   "outputs": [],
   "source": [
    "os.makedirs(\"mkdir1/folder1/folder2\") # su šita komanda jau galima sukurti aplankalą ir subaplankalų."
   ]
  },
  {
   "cell_type": "code",
   "execution_count": 31,
   "metadata": {},
   "outputs": [],
   "source": [
    "os.removedirs(\"mkdir\")"
   ]
  },
  {
   "cell_type": "code",
   "execution_count": 32,
   "metadata": {},
   "outputs": [],
   "source": [
    "os.mkdir(\"mkdir\")"
   ]
  },
  {
   "cell_type": "code",
   "execution_count": 33,
   "metadata": {},
   "outputs": [],
   "source": [
    "# delete files and folder\n",
    "import shutil\n",
    "shutil.rmtree('mkdir')"
   ]
  },
  {
   "cell_type": "code",
   "execution_count": 34,
   "metadata": {},
   "outputs": [],
   "source": [
    "os.mkdir(\"mkdir\")"
   ]
  },
  {
   "cell_type": "code",
   "execution_count": 35,
   "metadata": {},
   "outputs": [],
   "source": [
    "shutil.rmtree('mkdir1') # trina ir aplankalus ir jame esančius failus"
   ]
  },
  {
   "cell_type": "code",
   "execution_count": 36,
   "metadata": {},
   "outputs": [],
   "source": [
    "os.makedirs(\"mkdir1/folder1/folder2\")"
   ]
  },
  {
   "cell_type": "code",
   "execution_count": 38,
   "metadata": {},
   "outputs": [],
   "source": [
    "os.rename(\"mkdir\", \"zzzb\") "
   ]
  },
  {
   "cell_type": "markdown",
   "metadata": {},
   "source": [
    "# Dokumentų skaitymas ir rašymas"
   ]
  },
  {
   "cell_type": "code",
   "execution_count": 39,
   "metadata": {},
   "outputs": [
    {
     "name": "stdout",
     "output_type": "stream",
     "text": [
      "Hello, Martynas!\n",
      "How are you?\n",
      "Where are you from?\n",
      "\n"
     ]
    }
   ],
   "source": [
    "with open(\"tekstas.txt\", \"r\") as fr: # vietoj fr galima bet ką rašyti.\n",
    "    tekstas = fr.read()\n",
    "print(tekstas)"
   ]
  },
  {
   "cell_type": "code",
   "execution_count": 40,
   "metadata": {},
   "outputs": [],
   "source": [
    "tekstas_2 = \"Hello from file\"\n",
    "with open(\"tekstas_write.txt\", \"w\") as fw: # vietoj fw galima bet ką rašyti.\n",
    "    fw.write(tekstas_2)\n"
   ]
  },
  {
   "cell_type": "code",
   "execution_count": 41,
   "metadata": {},
   "outputs": [],
   "source": [
    "tekstas_2 = \"Hello from file\\n\"\n",
    "tekstas_3 = \"New line\"\n",
    "with open(\"tekstas_write.txt\", \"w\") as fw: # vietoj fw galima bet ką rašyti.\n",
    "    fw.write(tekstas_2)\n",
    "    fw.write(tekstas_3)"
   ]
  },
  {
   "cell_type": "markdown",
   "metadata": {},
   "source": [
    "# JSON"
   ]
  },
  {
   "cell_type": "code",
   "execution_count": 46,
   "metadata": {},
   "outputs": [],
   "source": [
    "my_dict = {\n",
    "    'name': 'Martynas',\n",
    "    'hobbies': ['reading', 'walking']\n",
    "}"
   ]
  },
  {
   "cell_type": "code",
   "execution_count": 50,
   "metadata": {},
   "outputs": [],
   "source": [
    "import json\n",
    "# with open('text.json', 'wb') as fw: # wb - write binary. raso vienatais bei nuliais. uzsifruotas failas.\n",
    "with open(\"tekstas.json\", \"w\") as fw: # vietoj fr galima bet ką rašyti.\n",
    "    json.dump(my_dict, fw)"
   ]
  },
  {
   "cell_type": "code",
   "execution_count": 53,
   "metadata": {},
   "outputs": [
    {
     "name": "stdout",
     "output_type": "stream",
     "text": [
      "{'name': 'Martynas', 'hobbies': ['reading', 'walking']}\n"
     ]
    }
   ],
   "source": [
    "with open('tekstas.json', 'r') as fr: # bet koks pavadinimas fr gali būti\n",
    "    loaded_dict = json.load(fr)\n",
    "\n",
    "print (loaded_dict)"
   ]
  }
 ],
 "metadata": {
  "kernelspec": {
   "display_name": "Python 3.10.6 64-bit",
   "language": "python",
   "name": "python3"
  },
  "language_info": {
   "codemirror_mode": {
    "name": "ipython",
    "version": 3
   },
   "file_extension": ".py",
   "mimetype": "text/x-python",
   "name": "python",
   "nbconvert_exporter": "python",
   "pygments_lexer": "ipython3",
   "version": "3.10.6"
  },
  "orig_nbformat": 4,
  "vscode": {
   "interpreter": {
    "hash": "aee8b7b246df8f9039afb4144a1f6fd8d2ca17a180786b69acc140d282b71a49"
   }
  }
 },
 "nbformat": 4,
 "nbformat_minor": 2
}
